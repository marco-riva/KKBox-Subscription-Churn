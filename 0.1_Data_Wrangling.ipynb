{
 "cells": [
  {
   "cell_type": "code",
   "execution_count": 1,
   "metadata": {},
   "outputs": [],
   "source": [
    "import warnings\n",
    "warnings.filterwarnings('ignore')"
   ]
  },
  {
   "cell_type": "code",
   "execution_count": 2,
   "metadata": {},
   "outputs": [],
   "source": [
    "import pandas as pd\n",
    "import numpy as np\n",
    "\n",
    "import matplotlib.pyplot as plt \n",
    "import matplotlib as mpl \n",
    "mpl.rcParams['figure.dpi'] = 400\n",
    "%matplotlib inline\n",
    "\n",
    "import seaborn as sns\n",
    "sns.set()\n",
    "\n",
    "from datetime import datetime, timedelta"
   ]
  },
  {
   "cell_type": "markdown",
   "metadata": {},
   "source": [
    "# Train dataset"
   ]
  },
  {
   "cell_type": "code",
   "execution_count": 3,
   "metadata": {},
   "outputs": [],
   "source": [
    "train_v1_df = pd.read_csv('train_scala.csv')\n",
    "train_v2_df = pd.read_csv('train_v2_scala.csv')\n",
    "test_df = pd.read_csv('sample_submission_v2.csv')"
   ]
  },
  {
   "cell_type": "code",
   "execution_count": 4,
   "metadata": {},
   "outputs": [
    {
     "data": {
      "text/html": [
       "<div>\n",
       "<style scoped>\n",
       "    .dataframe tbody tr th:only-of-type {\n",
       "        vertical-align: middle;\n",
       "    }\n",
       "\n",
       "    .dataframe tbody tr th {\n",
       "        vertical-align: top;\n",
       "    }\n",
       "\n",
       "    .dataframe thead th {\n",
       "        text-align: right;\n",
       "    }\n",
       "</style>\n",
       "<table border=\"1\" class=\"dataframe\">\n",
       "  <thead>\n",
       "    <tr style=\"text-align: right;\">\n",
       "      <th></th>\n",
       "      <th>msno</th>\n",
       "      <th>is_churn</th>\n",
       "    </tr>\n",
       "  </thead>\n",
       "  <tbody>\n",
       "    <tr>\n",
       "      <th>0</th>\n",
       "      <td>++4RuqBw0Ss6bQU4oMxaRlbBPoWzoEiIZaxPM04Y4+U=</td>\n",
       "      <td>False</td>\n",
       "    </tr>\n",
       "    <tr>\n",
       "      <th>1</th>\n",
       "      <td>+/HS8LzrRGXolKbxRzDLqrmwuXqPOYixBIPXkyNcKNI=</td>\n",
       "      <td>False</td>\n",
       "    </tr>\n",
       "    <tr>\n",
       "      <th>2</th>\n",
       "      <td>+/namlXq+u3izRjHCFJV4MgqcXcLidZYszVsROOq/y4=</td>\n",
       "      <td>False</td>\n",
       "    </tr>\n",
       "    <tr>\n",
       "      <th>3</th>\n",
       "      <td>+0/X9tkmyHyet9X80G6GTrDFHnJqvai8d1ZPhayT0os=</td>\n",
       "      <td>False</td>\n",
       "    </tr>\n",
       "    <tr>\n",
       "      <th>4</th>\n",
       "      <td>+09YGn842g6h2EZUXe0VWeC4bBoCbDGfUboitc0vIHw=</td>\n",
       "      <td>False</td>\n",
       "    </tr>\n",
       "  </tbody>\n",
       "</table>\n",
       "</div>"
      ],
      "text/plain": [
       "                                           msno  is_churn\n",
       "0  ++4RuqBw0Ss6bQU4oMxaRlbBPoWzoEiIZaxPM04Y4+U=     False\n",
       "1  +/HS8LzrRGXolKbxRzDLqrmwuXqPOYixBIPXkyNcKNI=     False\n",
       "2  +/namlXq+u3izRjHCFJV4MgqcXcLidZYszVsROOq/y4=     False\n",
       "3  +0/X9tkmyHyet9X80G6GTrDFHnJqvai8d1ZPhayT0os=     False\n",
       "4  +09YGn842g6h2EZUXe0VWeC4bBoCbDGfUboitc0vIHw=     False"
      ]
     },
     "execution_count": 4,
     "metadata": {},
     "output_type": "execute_result"
    }
   ],
   "source": [
    "train_v1_df.head()"
   ]
  },
  {
   "cell_type": "code",
   "execution_count": 5,
   "metadata": {
    "scrolled": true
   },
   "outputs": [
    {
     "data": {
      "text/html": [
       "<div>\n",
       "<style scoped>\n",
       "    .dataframe tbody tr th:only-of-type {\n",
       "        vertical-align: middle;\n",
       "    }\n",
       "\n",
       "    .dataframe tbody tr th {\n",
       "        vertical-align: top;\n",
       "    }\n",
       "\n",
       "    .dataframe thead th {\n",
       "        text-align: right;\n",
       "    }\n",
       "</style>\n",
       "<table border=\"1\" class=\"dataframe\">\n",
       "  <thead>\n",
       "    <tr style=\"text-align: right;\">\n",
       "      <th></th>\n",
       "      <th>msno</th>\n",
       "      <th>is_churn</th>\n",
       "    </tr>\n",
       "  </thead>\n",
       "  <tbody>\n",
       "    <tr>\n",
       "      <th>0</th>\n",
       "      <td>++4RuqBw0Ss6bQU4oMxaRlbBPoWzoEiIZaxPM04Y4+U=</td>\n",
       "      <td>False</td>\n",
       "    </tr>\n",
       "    <tr>\n",
       "      <th>1</th>\n",
       "      <td>+/HS8LzrRGXolKbxRzDLqrmwuXqPOYixBIPXkyNcKNI=</td>\n",
       "      <td>False</td>\n",
       "    </tr>\n",
       "    <tr>\n",
       "      <th>2</th>\n",
       "      <td>+/g9O3USecrC8npzaFHXW/2XJ7fB80SineiUoCg7M6o=</td>\n",
       "      <td>False</td>\n",
       "    </tr>\n",
       "    <tr>\n",
       "      <th>3</th>\n",
       "      <td>+/namlXq+u3izRjHCFJV4MgqcXcLidZYszVsROOq/y4=</td>\n",
       "      <td>False</td>\n",
       "    </tr>\n",
       "    <tr>\n",
       "      <th>4</th>\n",
       "      <td>+0/X9tkmyHyet9X80G6GTrDFHnJqvai8d1ZPhayT0os=</td>\n",
       "      <td>False</td>\n",
       "    </tr>\n",
       "  </tbody>\n",
       "</table>\n",
       "</div>"
      ],
      "text/plain": [
       "                                           msno  is_churn\n",
       "0  ++4RuqBw0Ss6bQU4oMxaRlbBPoWzoEiIZaxPM04Y4+U=     False\n",
       "1  +/HS8LzrRGXolKbxRzDLqrmwuXqPOYixBIPXkyNcKNI=     False\n",
       "2  +/g9O3USecrC8npzaFHXW/2XJ7fB80SineiUoCg7M6o=     False\n",
       "3  +/namlXq+u3izRjHCFJV4MgqcXcLidZYszVsROOq/y4=     False\n",
       "4  +0/X9tkmyHyet9X80G6GTrDFHnJqvai8d1ZPhayT0os=     False"
      ]
     },
     "execution_count": 5,
     "metadata": {},
     "output_type": "execute_result"
    }
   ],
   "source": [
    "train_v2_df.head()"
   ]
  },
  {
   "cell_type": "code",
   "execution_count": 6,
   "metadata": {},
   "outputs": [
    {
     "data": {
      "text/html": [
       "<div>\n",
       "<style scoped>\n",
       "    .dataframe tbody tr th:only-of-type {\n",
       "        vertical-align: middle;\n",
       "    }\n",
       "\n",
       "    .dataframe tbody tr th {\n",
       "        vertical-align: top;\n",
       "    }\n",
       "\n",
       "    .dataframe thead th {\n",
       "        text-align: right;\n",
       "    }\n",
       "</style>\n",
       "<table border=\"1\" class=\"dataframe\">\n",
       "  <thead>\n",
       "    <tr style=\"text-align: right;\">\n",
       "      <th></th>\n",
       "      <th>msno</th>\n",
       "      <th>is_churn</th>\n",
       "    </tr>\n",
       "  </thead>\n",
       "  <tbody>\n",
       "    <tr>\n",
       "      <th>0</th>\n",
       "      <td>4n+fXlyJvfQnTeKXTWT507Ll4JVYGrOC8LHCfwBmPE4=</td>\n",
       "      <td>0</td>\n",
       "    </tr>\n",
       "    <tr>\n",
       "      <th>1</th>\n",
       "      <td>aNmbC1GvFUxQyQUidCVmfbQ0YeCuwkPzEdQ0RwWyeZM=</td>\n",
       "      <td>0</td>\n",
       "    </tr>\n",
       "    <tr>\n",
       "      <th>2</th>\n",
       "      <td>rFC9eSG/tMuzpre6cwcMLZHEYM89xY02qcz7HL4//jc=</td>\n",
       "      <td>0</td>\n",
       "    </tr>\n",
       "    <tr>\n",
       "      <th>3</th>\n",
       "      <td>WZ59dLyrQcE7ft06MZ5dj40BnlYQY7PHgg/54+HaCSE=</td>\n",
       "      <td>0</td>\n",
       "    </tr>\n",
       "    <tr>\n",
       "      <th>4</th>\n",
       "      <td>aky/Iv8hMp1/V/yQHLtaVuEmmAxkB5GuasQZePJ7NU4=</td>\n",
       "      <td>0</td>\n",
       "    </tr>\n",
       "  </tbody>\n",
       "</table>\n",
       "</div>"
      ],
      "text/plain": [
       "                                           msno  is_churn\n",
       "0  4n+fXlyJvfQnTeKXTWT507Ll4JVYGrOC8LHCfwBmPE4=         0\n",
       "1  aNmbC1GvFUxQyQUidCVmfbQ0YeCuwkPzEdQ0RwWyeZM=         0\n",
       "2  rFC9eSG/tMuzpre6cwcMLZHEYM89xY02qcz7HL4//jc=         0\n",
       "3  WZ59dLyrQcE7ft06MZ5dj40BnlYQY7PHgg/54+HaCSE=         0\n",
       "4  aky/Iv8hMp1/V/yQHLtaVuEmmAxkB5GuasQZePJ7NU4=         0"
      ]
     },
     "execution_count": 6,
     "metadata": {},
     "output_type": "execute_result"
    }
   ],
   "source": [
    "test_df.head()"
   ]
  },
  {
   "cell_type": "code",
   "execution_count": 7,
   "metadata": {
    "scrolled": true
   },
   "outputs": [
    {
     "name": "stdout",
     "output_type": "stream",
     "text": [
      "<class 'pandas.core.frame.DataFrame'>\n",
      "RangeIndex: 879537 entries, 0 to 879536\n",
      "Data columns (total 2 columns):\n",
      " #   Column    Non-Null Count   Dtype \n",
      "---  ------    --------------   ----- \n",
      " 0   msno      879537 non-null  object\n",
      " 1   is_churn  879537 non-null  bool  \n",
      "dtypes: bool(1), object(1)\n",
      "memory usage: 7.5+ MB\n"
     ]
    }
   ],
   "source": [
    "train_v1_df.info()"
   ]
  },
  {
   "cell_type": "code",
   "execution_count": 8,
   "metadata": {
    "scrolled": true
   },
   "outputs": [
    {
     "name": "stdout",
     "output_type": "stream",
     "text": [
      "<class 'pandas.core.frame.DataFrame'>\n",
      "RangeIndex: 886500 entries, 0 to 886499\n",
      "Data columns (total 2 columns):\n",
      " #   Column    Non-Null Count   Dtype \n",
      "---  ------    --------------   ----- \n",
      " 0   msno      886500 non-null  object\n",
      " 1   is_churn  886500 non-null  bool  \n",
      "dtypes: bool(1), object(1)\n",
      "memory usage: 7.6+ MB\n"
     ]
    }
   ],
   "source": [
    "train_v2_df.info()"
   ]
  },
  {
   "cell_type": "code",
   "execution_count": 9,
   "metadata": {},
   "outputs": [
    {
     "name": "stdout",
     "output_type": "stream",
     "text": [
      "<class 'pandas.core.frame.DataFrame'>\n",
      "RangeIndex: 907471 entries, 0 to 907470\n",
      "Data columns (total 2 columns):\n",
      " #   Column    Non-Null Count   Dtype \n",
      "---  ------    --------------   ----- \n",
      " 0   msno      907471 non-null  object\n",
      " 1   is_churn  907471 non-null  int64 \n",
      "dtypes: int64(1), object(1)\n",
      "memory usage: 13.8+ MB\n"
     ]
    }
   ],
   "source": [
    "test_df.info()"
   ]
  },
  {
   "cell_type": "code",
   "execution_count": 10,
   "metadata": {},
   "outputs": [
    {
     "data": {
      "text/plain": [
       "(0, 0, 0)"
      ]
     },
     "execution_count": 10,
     "metadata": {},
     "output_type": "execute_result"
    }
   ],
   "source": [
    "train_v1_df.msno.duplicated().sum(), \\\n",
    "train_v2_df.msno.duplicated().sum(), \\\n",
    "test_df.msno.duplicated().sum()"
   ]
  },
  {
   "cell_type": "markdown",
   "metadata": {},
   "source": [
    "No duplicates of the users."
   ]
  },
  {
   "cell_type": "code",
   "execution_count": 11,
   "metadata": {},
   "outputs": [
    {
     "data": {
      "text/plain": [
       "(msno        0\n",
       " is_churn    0\n",
       " dtype: int64,\n",
       " msno        0\n",
       " is_churn    0\n",
       " dtype: int64,\n",
       " msno        0\n",
       " is_churn    0\n",
       " dtype: int64)"
      ]
     },
     "execution_count": 11,
     "metadata": {},
     "output_type": "execute_result"
    }
   ],
   "source": [
    "train_v1_df.isnull().sum(), \\\n",
    "train_v2_df.isnull().sum(), \\\n",
    "test_df.isnull().sum()"
   ]
  },
  {
   "cell_type": "markdown",
   "metadata": {},
   "source": [
    "No nan values."
   ]
  },
  {
   "cell_type": "code",
   "execution_count": 12,
   "metadata": {},
   "outputs": [
    {
     "data": {
      "text/plain": [
       "(False    0.960455\n",
       " True     0.039545\n",
       " Name: is_churn, dtype: float64,\n",
       " False    0.950745\n",
       " True     0.049255\n",
       " Name: is_churn, dtype: float64,\n",
       " 0    1.0\n",
       " Name: is_churn, dtype: float64)"
      ]
     },
     "execution_count": 12,
     "metadata": {},
     "output_type": "execute_result"
    }
   ],
   "source": [
    "train_v1_df.is_churn.value_counts(normalize=True), \\\n",
    "train_v2_df.is_churn.value_counts(normalize=True), \\\n",
    "test_df.is_churn.value_counts(normalize=True)"
   ]
  },
  {
   "cell_type": "markdown",
   "metadata": {},
   "source": [
    "The datasets are unbalanced: positive churn ~4-5%."
   ]
  },
  {
   "cell_type": "code",
   "execution_count": 13,
   "metadata": {},
   "outputs": [
    {
     "data": {
      "image/png": "[encoded data removed]",
      "text/plain": [
       "<Figure size 576x288 with 2 Axes>"
      ]
     },
     "metadata": {},
     "output_type": "display_data"
    }
   ],
   "source": [
    "plt.figure(figsize=(8, 4)) \n",
    "ax1 = plt.subplot(121, frameon=False)\n",
    "ax2 = plt.subplot(122, frameon=False)\n",
    "sns.countplot(x='is_churn', data=train_v1_df, palette='Set1', ax=ax1)\n",
    "sns.countplot(x='is_churn', data=train_v2_df, palette='Set1', ax=ax2)\n",
    "ax1.set_title('Churn in February')\n",
    "ax2.set_title('Churn in March')\n",
    "\n",
    "plt.tight_layout()"
   ]
  },
  {
   "cell_type": "code",
   "execution_count": 14,
   "metadata": {},
   "outputs": [],
   "source": [
    "train_v1_df.is_churn = train_v1_df.is_churn.astype('float64')\n",
    "train_v2_df.is_churn = train_v2_df.is_churn.astype('float64')"
   ]
  },
  {
   "cell_type": "code",
   "execution_count": 15,
   "metadata": {},
   "outputs": [],
   "source": [
    "import pickle\n",
    "\n",
    "with open('Data/train_v1_scala_clean.pickle', 'wb') as handle:\n",
    "    pickle.dump(train_v1_df, handle)\n",
    "with open('Data/train_v2_scala_clean.pickle', 'wb') as handle:\n",
    "    pickle.dump(train_v2_df, handle)"
   ]
  },
  {
   "cell_type": "markdown",
   "metadata": {},
   "source": [
    "# Transactions Dataset"
   ]
  },
  {
   "cell_type": "code",
   "execution_count": 16,
   "metadata": {},
   "outputs": [],
   "source": [
    "transactions_v1 = pd.read_csv('transactions.csv')\n",
    "transactions_v2 = pd.read_csv('transactions_v2.csv')\n",
    "transactions_df = pd.concat([transactions_v1, transactions_v2], ignore_index=True)"
   ]
  },
  {
   "cell_type": "code",
   "execution_count": 17,
   "metadata": {},
   "outputs": [
    {
     "data": {
      "text/plain": [
       "3339"
      ]
     },
     "execution_count": 17,
     "metadata": {},
     "output_type": "execute_result"
    }
   ],
   "source": [
    "transactions_df.duplicated().sum()"
   ]
  },
  {
   "cell_type": "code",
   "execution_count": 18,
   "metadata": {},
   "outputs": [
    {
     "data": {
      "text/html": [
       "<div>\n",
       "<style scoped>\n",
       "    .dataframe tbody tr th:only-of-type {\n",
       "        vertical-align: middle;\n",
       "    }\n",
       "\n",
       "    .dataframe tbody tr th {\n",
       "        vertical-align: top;\n",
       "    }\n",
       "\n",
       "    .dataframe thead th {\n",
       "        text-align: right;\n",
       "    }\n",
       "</style>\n",
       "<table border=\"1\" class=\"dataframe\">\n",
       "  <thead>\n",
       "    <tr style=\"text-align: right;\">\n",
       "      <th></th>\n",
       "      <th>msno</th>\n",
       "      <th>payment_method_id</th>\n",
       "      <th>payment_plan_days</th>\n",
       "      <th>plan_list_price</th>\n",
       "      <th>actual_amount_paid</th>\n",
       "      <th>is_auto_renew</th>\n",
       "      <th>transaction_date</th>\n",
       "      <th>membership_expire_date</th>\n",
       "      <th>is_cancel</th>\n",
       "    </tr>\n",
       "  </thead>\n",
       "  <tbody>\n",
       "    <tr>\n",
       "      <th>13833296</th>\n",
       "      <td>++8dXbkKMJ0rXwUc/m19lTVokEl3c9EfRKWmV6qP9jg=</td>\n",
       "      <td>41</td>\n",
       "      <td>30</td>\n",
       "      <td>99</td>\n",
       "      <td>99</td>\n",
       "      <td>1</td>\n",
       "      <td>20160805</td>\n",
       "      <td>20160904</td>\n",
       "      <td>0</td>\n",
       "    </tr>\n",
       "    <tr>\n",
       "      <th>20514078</th>\n",
       "      <td>++8dXbkKMJ0rXwUc/m19lTVokEl3c9EfRKWmV6qP9jg=</td>\n",
       "      <td>41</td>\n",
       "      <td>30</td>\n",
       "      <td>99</td>\n",
       "      <td>99</td>\n",
       "      <td>1</td>\n",
       "      <td>20160805</td>\n",
       "      <td>20160904</td>\n",
       "      <td>0</td>\n",
       "    </tr>\n",
       "    <tr>\n",
       "      <th>20406589</th>\n",
       "      <td>+20hE3Vvz3NxE18F/MV7RzarD5DWeWefd9zzb+9ejGU=</td>\n",
       "      <td>41</td>\n",
       "      <td>30</td>\n",
       "      <td>99</td>\n",
       "      <td>99</td>\n",
       "      <td>1</td>\n",
       "      <td>20160416</td>\n",
       "      <td>20160515</td>\n",
       "      <td>0</td>\n",
       "    </tr>\n",
       "    <tr>\n",
       "      <th>16528928</th>\n",
       "      <td>+20hE3Vvz3NxE18F/MV7RzarD5DWeWefd9zzb+9ejGU=</td>\n",
       "      <td>41</td>\n",
       "      <td>30</td>\n",
       "      <td>99</td>\n",
       "      <td>99</td>\n",
       "      <td>1</td>\n",
       "      <td>20160416</td>\n",
       "      <td>20160515</td>\n",
       "      <td>0</td>\n",
       "    </tr>\n",
       "    <tr>\n",
       "      <th>7674675</th>\n",
       "      <td>+5G1snABFXas2LPGl7Q/w1yI83fPR5nc8TDsvwY6W+Q=</td>\n",
       "      <td>41</td>\n",
       "      <td>30</td>\n",
       "      <td>99</td>\n",
       "      <td>99</td>\n",
       "      <td>1</td>\n",
       "      <td>20151026</td>\n",
       "      <td>20151125</td>\n",
       "      <td>0</td>\n",
       "    </tr>\n",
       "    <tr>\n",
       "      <th>...</th>\n",
       "      <td>...</td>\n",
       "      <td>...</td>\n",
       "      <td>...</td>\n",
       "      <td>...</td>\n",
       "      <td>...</td>\n",
       "      <td>...</td>\n",
       "      <td>...</td>\n",
       "      <td>...</td>\n",
       "      <td>...</td>\n",
       "    </tr>\n",
       "    <tr>\n",
       "      <th>17332797</th>\n",
       "      <td>zwyc3be299vRIR7tYDcFn0a5TpASN0QStGPBAYU0Ibs=</td>\n",
       "      <td>41</td>\n",
       "      <td>30</td>\n",
       "      <td>99</td>\n",
       "      <td>99</td>\n",
       "      <td>1</td>\n",
       "      <td>20161225</td>\n",
       "      <td>20170124</td>\n",
       "      <td>0</td>\n",
       "    </tr>\n",
       "    <tr>\n",
       "      <th>4838802</th>\n",
       "      <td>zxQ7B4qVPsle+zoetmMeZoe149Bzc63L1VqMvUIkM+s=</td>\n",
       "      <td>41</td>\n",
       "      <td>30</td>\n",
       "      <td>99</td>\n",
       "      <td>99</td>\n",
       "      <td>1</td>\n",
       "      <td>20161001</td>\n",
       "      <td>20161031</td>\n",
       "      <td>0</td>\n",
       "    </tr>\n",
       "    <tr>\n",
       "      <th>6748314</th>\n",
       "      <td>zxQ7B4qVPsle+zoetmMeZoe149Bzc63L1VqMvUIkM+s=</td>\n",
       "      <td>41</td>\n",
       "      <td>30</td>\n",
       "      <td>99</td>\n",
       "      <td>99</td>\n",
       "      <td>1</td>\n",
       "      <td>20161001</td>\n",
       "      <td>20161031</td>\n",
       "      <td>0</td>\n",
       "    </tr>\n",
       "    <tr>\n",
       "      <th>5492989</th>\n",
       "      <td>zy1OTzCnxegYltHBw1D1pZ8OH41xuwN+N6a+YMB0pwk=</td>\n",
       "      <td>41</td>\n",
       "      <td>30</td>\n",
       "      <td>99</td>\n",
       "      <td>99</td>\n",
       "      <td>1</td>\n",
       "      <td>20160810</td>\n",
       "      <td>20160909</td>\n",
       "      <td>0</td>\n",
       "    </tr>\n",
       "    <tr>\n",
       "      <th>16981618</th>\n",
       "      <td>zy1OTzCnxegYltHBw1D1pZ8OH41xuwN+N6a+YMB0pwk=</td>\n",
       "      <td>41</td>\n",
       "      <td>30</td>\n",
       "      <td>99</td>\n",
       "      <td>99</td>\n",
       "      <td>1</td>\n",
       "      <td>20160810</td>\n",
       "      <td>20160909</td>\n",
       "      <td>0</td>\n",
       "    </tr>\n",
       "  </tbody>\n",
       "</table>\n",
       "<p>6561 rows × 9 columns</p>\n",
       "</div>"
      ],
      "text/plain": [
       "                                                  msno  payment_method_id  \\\n",
       "13833296  ++8dXbkKMJ0rXwUc/m19lTVokEl3c9EfRKWmV6qP9jg=                 41   \n",
       "20514078  ++8dXbkKMJ0rXwUc/m19lTVokEl3c9EfRKWmV6qP9jg=                 41   \n",
       "20406589  +20hE3Vvz3NxE18F/MV7RzarD5DWeWefd9zzb+9ejGU=                 41   \n",
       "16528928  +20hE3Vvz3NxE18F/MV7RzarD5DWeWefd9zzb+9ejGU=                 41   \n",
       "7674675   +5G1snABFXas2LPGl7Q/w1yI83fPR5nc8TDsvwY6W+Q=                 41   \n",
       "...                                                ...                ...   \n",
       "17332797  zwyc3be299vRIR7tYDcFn0a5TpASN0QStGPBAYU0Ibs=                 41   \n",
       "4838802   zxQ7B4qVPsle+zoetmMeZoe149Bzc63L1VqMvUIkM+s=                 41   \n",
       "6748314   zxQ7B4qVPsle+zoetmMeZoe149Bzc63L1VqMvUIkM+s=                 41   \n",
       "5492989   zy1OTzCnxegYltHBw1D1pZ8OH41xuwN+N6a+YMB0pwk=                 41   \n",
       "16981618  zy1OTzCnxegYltHBw1D1pZ8OH41xuwN+N6a+YMB0pwk=                 41   \n",
       "\n",
       "          payment_plan_days  plan_list_price  actual_amount_paid  \\\n",
       "13833296                 30               99                  99   \n",
       "20514078                 30               99                  99   \n",
       "20406589                 30               99                  99   \n",
       "16528928                 30               99                  99   \n",
       "7674675                  30               99                  99   \n",
       "...                     ...              ...                 ...   \n",
       "17332797                 30               99                  99   \n",
       "4838802                  30               99                  99   \n",
       "6748314                  30               99                  99   \n",
       "5492989                  30               99                  99   \n",
       "16981618                 30               99                  99   \n",
       "\n",
       "          is_auto_renew  transaction_date  membership_expire_date  is_cancel  \n",
       "13833296              1          20160805                20160904          0  \n",
       "20514078              1          20160805                20160904          0  \n",
       "20406589              1          20160416                20160515          0  \n",
       "16528928              1          20160416                20160515          0  \n",
       "7674675               1          20151026                20151125          0  \n",
       "...                 ...               ...                     ...        ...  \n",
       "17332797              1          20161225                20170124          0  \n",
       "4838802               1          20161001                20161031          0  \n",
       "6748314               1          20161001                20161031          0  \n",
       "5492989               1          20160810                20160909          0  \n",
       "16981618              1          20160810                20160909          0  \n",
       "\n",
       "[6561 rows x 9 columns]"
      ]
     },
     "execution_count": 18,
     "metadata": {},
     "output_type": "execute_result"
    }
   ],
   "source": [
    "transactions_df[transactions_df.duplicated(keep=False) == True].sort_values(by='msno')"
   ]
  },
  {
   "cell_type": "code",
   "execution_count": 19,
   "metadata": {},
   "outputs": [],
   "source": [
    "transactions_df = transactions_df.drop_duplicates(keep='first')"
   ]
  },
  {
   "cell_type": "code",
   "execution_count": 20,
   "metadata": {},
   "outputs": [
    {
     "name": "stdout",
     "output_type": "stream",
     "text": [
      "<class 'pandas.core.frame.DataFrame'>\n",
      "Int64Index: 22975416 entries, 0 to 22978754\n",
      "Data columns (total 9 columns):\n",
      " #   Column                  Non-Null Count     Dtype \n",
      "---  ------                  --------------     ----- \n",
      " 0   msno                    22975416 non-null  object\n",
      " 1   payment_method_id       22975416 non-null  int64 \n",
      " 2   payment_plan_days       22975416 non-null  int64 \n",
      " 3   plan_list_price         22975416 non-null  int64 \n",
      " 4   actual_amount_paid      22975416 non-null  int64 \n",
      " 5   is_auto_renew           22975416 non-null  int64 \n",
      " 6   transaction_date        22975416 non-null  int64 \n",
      " 7   membership_expire_date  22975416 non-null  int64 \n",
      " 8   is_cancel               22975416 non-null  int64 \n",
      "dtypes: int64(8), object(1)\n",
      "memory usage: 3.7 GB\n"
     ]
    }
   ],
   "source": [
    "transactions_df.info(verbose=True, null_counts=True, memory_usage='deep') "
   ]
  },
  {
   "cell_type": "code",
   "execution_count": 21,
   "metadata": {
    "scrolled": false
   },
   "outputs": [
    {
     "data": {
      "text/plain": [
       "Index                     183803328\n",
       "msno                      183803328\n",
       "payment_method_id         183803328\n",
       "payment_plan_days         183803328\n",
       "plan_list_price           183803328\n",
       "actual_amount_paid        183803328\n",
       "is_auto_renew             183803328\n",
       "transaction_date          183803328\n",
       "membership_expire_date    183803328\n",
       "is_cancel                 183803328\n",
       "dtype: int64"
      ]
     },
     "execution_count": 21,
     "metadata": {},
     "output_type": "execute_result"
    }
   ],
   "source": [
    "transactions_df.memory_usage()"
   ]
  },
  {
   "cell_type": "code",
   "execution_count": 22,
   "metadata": {
    "scrolled": false
   },
   "outputs": [
    {
     "data": {
      "text/plain": [
       "msno                      zzzyOgMk9MljCerbCCYrVtvu85aSCiy7yCMjAEgNYMs=\n",
       "payment_method_id                                                   41\n",
       "payment_plan_days                                                  450\n",
       "plan_list_price                                                   2000\n",
       "actual_amount_paid                                                2000\n",
       "is_auto_renew                                                        1\n",
       "transaction_date                                              20170331\n",
       "membership_expire_date                                        20361015\n",
       "is_cancel                                                            1\n",
       "dtype: object"
      ]
     },
     "execution_count": 22,
     "metadata": {},
     "output_type": "execute_result"
    }
   ],
   "source": [
    "transactions_df.max()"
   ]
  },
  {
   "cell_type": "markdown",
   "metadata": {},
   "source": [
    "Let's convert dtype to int16 to reduce memory usage (dates are exempt) - Also, let's add coulmns with dates in datetime type (I will also keep the original column, as it could be useful).   "
   ]
  },
  {
   "cell_type": "code",
   "execution_count": 23,
   "metadata": {},
   "outputs": [],
   "source": [
    "dtypes_dict = {'payment_method_id':'int16',\n",
    "               'payment_plan_days':'int16',\n",
    "               'plan_list_price':'int16',           \n",
    "               'actual_amount_paid':'int16',        \n",
    "               'is_auto_renew':'int16',                 \n",
    "               'is_cancel':'int16'\n",
    "              }"
   ]
  },
  {
   "cell_type": "code",
   "execution_count": 24,
   "metadata": {
    "scrolled": true
   },
   "outputs": [],
   "source": [
    "transactions_df = transactions_df.astype(dtypes_dict)"
   ]
  },
  {
   "cell_type": "code",
   "execution_count": 25,
   "metadata": {},
   "outputs": [],
   "source": [
    "transactions_df['transaction_date_dt'] = pd.to_datetime(transactions_df['transaction_date'], \n",
    "                                                        format='%Y%m%d',\n",
    "                                                        errors='ignore')    \n",
    "transactions_df['membership_expire_date_dt'] = pd.to_datetime(transactions_df['membership_expire_date'], \n",
    "                                                              format='%Y%m%d',\n",
    "                                                              errors='ignore')   "
   ]
  },
  {
   "cell_type": "code",
   "execution_count": 26,
   "metadata": {},
   "outputs": [
    {
     "data": {
      "text/plain": [
       "Index                        183803328\n",
       "msno                         183803328\n",
       "payment_method_id             45950832\n",
       "payment_plan_days             45950832\n",
       "plan_list_price               45950832\n",
       "actual_amount_paid            45950832\n",
       "is_auto_renew                 45950832\n",
       "transaction_date             183803328\n",
       "membership_expire_date       183803328\n",
       "is_cancel                     45950832\n",
       "transaction_date_dt          183803328\n",
       "membership_expire_date_dt    183803328\n",
       "dtype: int64"
      ]
     },
     "execution_count": 26,
     "metadata": {},
     "output_type": "execute_result"
    }
   ],
   "source": [
    "transactions_df.memory_usage()"
   ]
  },
  {
   "cell_type": "code",
   "execution_count": 27,
   "metadata": {},
   "outputs": [
    {
     "name": "stdout",
     "output_type": "stream",
     "text": [
      "<class 'pandas.core.frame.DataFrame'>\n",
      "Int64Index: 22975416 entries, 0 to 22978754\n",
      "Data columns (total 11 columns):\n",
      " #   Column                     Non-Null Count     Dtype         \n",
      "---  ------                     --------------     -----         \n",
      " 0   msno                       22975416 non-null  object        \n",
      " 1   payment_method_id          22975416 non-null  int16         \n",
      " 2   payment_plan_days          22975416 non-null  int16         \n",
      " 3   plan_list_price            22975416 non-null  int16         \n",
      " 4   actual_amount_paid         22975416 non-null  int16         \n",
      " 5   is_auto_renew              22975416 non-null  int16         \n",
      " 6   transaction_date           22975416 non-null  int64         \n",
      " 7   membership_expire_date     22975416 non-null  int64         \n",
      " 8   is_cancel                  22975416 non-null  int16         \n",
      " 9   transaction_date_dt        22975416 non-null  datetime64[ns]\n",
      " 10  membership_expire_date_dt  22975416 non-null  datetime64[ns]\n",
      "dtypes: datetime64[ns](2), int16(6), int64(2), object(1)\n",
      "memory usage: 3.3 GB\n"
     ]
    }
   ],
   "source": [
    "transactions_df.info(verbose=True, null_counts=True, memory_usage='deep') "
   ]
  },
  {
   "cell_type": "markdown",
   "metadata": {},
   "source": [
    "Cool, we saved 0.4 GB and added two columns."
   ]
  },
  {
   "cell_type": "code",
   "execution_count": 28,
   "metadata": {
    "scrolled": true
   },
   "outputs": [
    {
     "data": {
      "text/html": [
       "<div>\n",
       "<style scoped>\n",
       "    .dataframe tbody tr th:only-of-type {\n",
       "        vertical-align: middle;\n",
       "    }\n",
       "\n",
       "    .dataframe tbody tr th {\n",
       "        vertical-align: top;\n",
       "    }\n",
       "\n",
       "    .dataframe thead th {\n",
       "        text-align: right;\n",
       "    }\n",
       "</style>\n",
       "<table border=\"1\" class=\"dataframe\">\n",
       "  <thead>\n",
       "    <tr style=\"text-align: right;\">\n",
       "      <th></th>\n",
       "      <th>msno</th>\n",
       "      <th>payment_method_id</th>\n",
       "      <th>payment_plan_days</th>\n",
       "      <th>plan_list_price</th>\n",
       "      <th>actual_amount_paid</th>\n",
       "      <th>is_auto_renew</th>\n",
       "      <th>transaction_date</th>\n",
       "      <th>membership_expire_date</th>\n",
       "      <th>is_cancel</th>\n",
       "      <th>transaction_date_dt</th>\n",
       "      <th>membership_expire_date_dt</th>\n",
       "    </tr>\n",
       "  </thead>\n",
       "  <tbody>\n",
       "    <tr>\n",
       "      <th>0</th>\n",
       "      <td>YyO+tlZtAXYXoZhNr3Vg3+dfVQvrBVGO8j1mfqe4ZHc=</td>\n",
       "      <td>41</td>\n",
       "      <td>30</td>\n",
       "      <td>129</td>\n",
       "      <td>129</td>\n",
       "      <td>1</td>\n",
       "      <td>20150930</td>\n",
       "      <td>20151101</td>\n",
       "      <td>0</td>\n",
       "      <td>2015-09-30</td>\n",
       "      <td>2015-11-01</td>\n",
       "    </tr>\n",
       "    <tr>\n",
       "      <th>1</th>\n",
       "      <td>AZtu6Wl0gPojrEQYB8Q3vBSmE2wnZ3hi1FbK1rQQ0A4=</td>\n",
       "      <td>41</td>\n",
       "      <td>30</td>\n",
       "      <td>149</td>\n",
       "      <td>149</td>\n",
       "      <td>1</td>\n",
       "      <td>20150930</td>\n",
       "      <td>20151031</td>\n",
       "      <td>0</td>\n",
       "      <td>2015-09-30</td>\n",
       "      <td>2015-10-31</td>\n",
       "    </tr>\n",
       "    <tr>\n",
       "      <th>2</th>\n",
       "      <td>UkDFI97Qb6+s2LWcijVVv4rMAsORbVDT2wNXF0aVbns=</td>\n",
       "      <td>41</td>\n",
       "      <td>30</td>\n",
       "      <td>129</td>\n",
       "      <td>129</td>\n",
       "      <td>1</td>\n",
       "      <td>20150930</td>\n",
       "      <td>20160427</td>\n",
       "      <td>0</td>\n",
       "      <td>2015-09-30</td>\n",
       "      <td>2016-04-27</td>\n",
       "    </tr>\n",
       "    <tr>\n",
       "      <th>3</th>\n",
       "      <td>M1C56ijxozNaGD0t2h68PnH2xtx5iO5iR2MVYQB6nBI=</td>\n",
       "      <td>39</td>\n",
       "      <td>30</td>\n",
       "      <td>149</td>\n",
       "      <td>149</td>\n",
       "      <td>1</td>\n",
       "      <td>20150930</td>\n",
       "      <td>20151128</td>\n",
       "      <td>0</td>\n",
       "      <td>2015-09-30</td>\n",
       "      <td>2015-11-28</td>\n",
       "    </tr>\n",
       "    <tr>\n",
       "      <th>4</th>\n",
       "      <td>yvj6zyBUaqdbUQSrKsrZ+xNDVM62knauSZJzakS9OW4=</td>\n",
       "      <td>39</td>\n",
       "      <td>30</td>\n",
       "      <td>149</td>\n",
       "      <td>149</td>\n",
       "      <td>1</td>\n",
       "      <td>20150930</td>\n",
       "      <td>20151121</td>\n",
       "      <td>0</td>\n",
       "      <td>2015-09-30</td>\n",
       "      <td>2015-11-21</td>\n",
       "    </tr>\n",
       "  </tbody>\n",
       "</table>\n",
       "</div>"
      ],
      "text/plain": [
       "                                           msno  payment_method_id  \\\n",
       "0  YyO+tlZtAXYXoZhNr3Vg3+dfVQvrBVGO8j1mfqe4ZHc=                 41   \n",
       "1  AZtu6Wl0gPojrEQYB8Q3vBSmE2wnZ3hi1FbK1rQQ0A4=                 41   \n",
       "2  UkDFI97Qb6+s2LWcijVVv4rMAsORbVDT2wNXF0aVbns=                 41   \n",
       "3  M1C56ijxozNaGD0t2h68PnH2xtx5iO5iR2MVYQB6nBI=                 39   \n",
       "4  yvj6zyBUaqdbUQSrKsrZ+xNDVM62knauSZJzakS9OW4=                 39   \n",
       "\n",
       "   payment_plan_days  plan_list_price  actual_amount_paid  is_auto_renew  \\\n",
       "0                 30              129                 129              1   \n",
       "1                 30              149                 149              1   \n",
       "2                 30              129                 129              1   \n",
       "3                 30              149                 149              1   \n",
       "4                 30              149                 149              1   \n",
       "\n",
       "   transaction_date  membership_expire_date  is_cancel transaction_date_dt  \\\n",
       "0          20150930                20151101          0          2015-09-30   \n",
       "1          20150930                20151031          0          2015-09-30   \n",
       "2          20150930                20160427          0          2015-09-30   \n",
       "3          20150930                20151128          0          2015-09-30   \n",
       "4          20150930                20151121          0          2015-09-30   \n",
       "\n",
       "  membership_expire_date_dt  \n",
       "0                2015-11-01  \n",
       "1                2015-10-31  \n",
       "2                2016-04-27  \n",
       "3                2015-11-28  \n",
       "4                2015-11-21  "
      ]
     },
     "execution_count": 28,
     "metadata": {},
     "output_type": "execute_result"
    }
   ],
   "source": [
    "transactions_df.head()"
   ]
  },
  {
   "cell_type": "code",
   "execution_count": 29,
   "metadata": {},
   "outputs": [
    {
     "data": {
      "text/html": [
       "<div>\n",
       "<style scoped>\n",
       "    .dataframe tbody tr th:only-of-type {\n",
       "        vertical-align: middle;\n",
       "    }\n",
       "\n",
       "    .dataframe tbody tr th {\n",
       "        vertical-align: top;\n",
       "    }\n",
       "\n",
       "    .dataframe thead th {\n",
       "        text-align: right;\n",
       "    }\n",
       "</style>\n",
       "<table border=\"1\" class=\"dataframe\">\n",
       "  <thead>\n",
       "    <tr style=\"text-align: right;\">\n",
       "      <th></th>\n",
       "      <th>payment_method_id</th>\n",
       "      <th>payment_plan_days</th>\n",
       "      <th>plan_list_price</th>\n",
       "      <th>actual_amount_paid</th>\n",
       "      <th>is_auto_renew</th>\n",
       "      <th>transaction_date</th>\n",
       "      <th>membership_expire_date</th>\n",
       "      <th>is_cancel</th>\n",
       "    </tr>\n",
       "  </thead>\n",
       "  <tbody>\n",
       "    <tr>\n",
       "      <th>count</th>\n",
       "      <td>2.297542e+07</td>\n",
       "      <td>2.297542e+07</td>\n",
       "      <td>2.297542e+07</td>\n",
       "      <td>2.297542e+07</td>\n",
       "      <td>2.297542e+07</td>\n",
       "      <td>2.297542e+07</td>\n",
       "      <td>2.297542e+07</td>\n",
       "      <td>2.297542e+07</td>\n",
       "    </tr>\n",
       "    <tr>\n",
       "      <th>mean</th>\n",
       "      <td>3.886963e+01</td>\n",
       "      <td>3.349921e+01</td>\n",
       "      <td>1.487280e+02</td>\n",
       "      <td>1.506711e+02</td>\n",
       "      <td>8.477943e-01</td>\n",
       "      <td>2.015828e+07</td>\n",
       "      <td>2.015940e+07</td>\n",
       "      <td>3.879808e-02</td>\n",
       "    </tr>\n",
       "    <tr>\n",
       "      <th>std</th>\n",
       "      <td>3.624264e+00</td>\n",
       "      <td>3.985840e+01</td>\n",
       "      <td>1.704627e+02</td>\n",
       "      <td>1.714726e+02</td>\n",
       "      <td>3.592202e-01</td>\n",
       "      <td>6.627929e+03</td>\n",
       "      <td>8.127173e+03</td>\n",
       "      <td>1.931134e-01</td>\n",
       "    </tr>\n",
       "    <tr>\n",
       "      <th>min</th>\n",
       "      <td>1.000000e+00</td>\n",
       "      <td>0.000000e+00</td>\n",
       "      <td>0.000000e+00</td>\n",
       "      <td>0.000000e+00</td>\n",
       "      <td>0.000000e+00</td>\n",
       "      <td>2.015010e+07</td>\n",
       "      <td>1.970010e+07</td>\n",
       "      <td>0.000000e+00</td>\n",
       "    </tr>\n",
       "    <tr>\n",
       "      <th>25%</th>\n",
       "      <td>3.800000e+01</td>\n",
       "      <td>3.000000e+01</td>\n",
       "      <td>9.900000e+01</td>\n",
       "      <td>9.900000e+01</td>\n",
       "      <td>1.000000e+00</td>\n",
       "      <td>2.015092e+07</td>\n",
       "      <td>2.015110e+07</td>\n",
       "      <td>0.000000e+00</td>\n",
       "    </tr>\n",
       "    <tr>\n",
       "      <th>50%</th>\n",
       "      <td>4.100000e+01</td>\n",
       "      <td>3.000000e+01</td>\n",
       "      <td>1.490000e+02</td>\n",
       "      <td>1.490000e+02</td>\n",
       "      <td>1.000000e+00</td>\n",
       "      <td>2.016041e+07</td>\n",
       "      <td>2.016053e+07</td>\n",
       "      <td>0.000000e+00</td>\n",
       "    </tr>\n",
       "    <tr>\n",
       "      <th>75%</th>\n",
       "      <td>4.100000e+01</td>\n",
       "      <td>3.000000e+01</td>\n",
       "      <td>1.490000e+02</td>\n",
       "      <td>1.490000e+02</td>\n",
       "      <td>1.000000e+00</td>\n",
       "      <td>2.016102e+07</td>\n",
       "      <td>2.016113e+07</td>\n",
       "      <td>0.000000e+00</td>\n",
       "    </tr>\n",
       "    <tr>\n",
       "      <th>max</th>\n",
       "      <td>4.100000e+01</td>\n",
       "      <td>4.500000e+02</td>\n",
       "      <td>2.000000e+03</td>\n",
       "      <td>2.000000e+03</td>\n",
       "      <td>1.000000e+00</td>\n",
       "      <td>2.017033e+07</td>\n",
       "      <td>2.036102e+07</td>\n",
       "      <td>1.000000e+00</td>\n",
       "    </tr>\n",
       "  </tbody>\n",
       "</table>\n",
       "</div>"
      ],
      "text/plain": [
       "       payment_method_id  payment_plan_days  plan_list_price  \\\n",
       "count       2.297542e+07       2.297542e+07     2.297542e+07   \n",
       "mean        3.886963e+01       3.349921e+01     1.487280e+02   \n",
       "std         3.624264e+00       3.985840e+01     1.704627e+02   \n",
       "min         1.000000e+00       0.000000e+00     0.000000e+00   \n",
       "25%         3.800000e+01       3.000000e+01     9.900000e+01   \n",
       "50%         4.100000e+01       3.000000e+01     1.490000e+02   \n",
       "75%         4.100000e+01       3.000000e+01     1.490000e+02   \n",
       "max         4.100000e+01       4.500000e+02     2.000000e+03   \n",
       "\n",
       "       actual_amount_paid  is_auto_renew  transaction_date  \\\n",
       "count        2.297542e+07   2.297542e+07      2.297542e+07   \n",
       "mean         1.506711e+02   8.477943e-01      2.015828e+07   \n",
       "std          1.714726e+02   3.592202e-01      6.627929e+03   \n",
       "min          0.000000e+00   0.000000e+00      2.015010e+07   \n",
       "25%          9.900000e+01   1.000000e+00      2.015092e+07   \n",
       "50%          1.490000e+02   1.000000e+00      2.016041e+07   \n",
       "75%          1.490000e+02   1.000000e+00      2.016102e+07   \n",
       "max          2.000000e+03   1.000000e+00      2.017033e+07   \n",
       "\n",
       "       membership_expire_date     is_cancel  \n",
       "count            2.297542e+07  2.297542e+07  \n",
       "mean             2.015940e+07  3.879808e-02  \n",
       "std              8.127173e+03  1.931134e-01  \n",
       "min              1.970010e+07  0.000000e+00  \n",
       "25%              2.015110e+07  0.000000e+00  \n",
       "50%              2.016053e+07  0.000000e+00  \n",
       "75%              2.016113e+07  0.000000e+00  \n",
       "max              2.036102e+07  1.000000e+00  "
      ]
     },
     "execution_count": 29,
     "metadata": {},
     "output_type": "execute_result"
    }
   ],
   "source": [
    "transactions_df.describe()"
   ]
  },
  {
   "cell_type": "code",
   "execution_count": 30,
   "metadata": {},
   "outputs": [
    {
     "data": {
      "text/plain": [
       "2426143"
      ]
     },
     "execution_count": 30,
     "metadata": {},
     "output_type": "execute_result"
    }
   ],
   "source": [
    "transactions_df.msno.nunique()"
   ]
  },
  {
   "cell_type": "code",
   "execution_count": 31,
   "metadata": {},
   "outputs": [
    {
     "data": {
      "text/html": [
       "<div>\n",
       "<style scoped>\n",
       "    .dataframe tbody tr th:only-of-type {\n",
       "        vertical-align: middle;\n",
       "    }\n",
       "\n",
       "    .dataframe tbody tr th {\n",
       "        vertical-align: top;\n",
       "    }\n",
       "\n",
       "    .dataframe thead th {\n",
       "        text-align: right;\n",
       "    }\n",
       "</style>\n",
       "<table border=\"1\" class=\"dataframe\">\n",
       "  <thead>\n",
       "    <tr style=\"text-align: right;\">\n",
       "      <th></th>\n",
       "      <th>msno</th>\n",
       "      <th>payment_method_id</th>\n",
       "      <th>payment_plan_days</th>\n",
       "      <th>plan_list_price</th>\n",
       "      <th>actual_amount_paid</th>\n",
       "      <th>is_auto_renew</th>\n",
       "      <th>transaction_date</th>\n",
       "      <th>membership_expire_date</th>\n",
       "      <th>is_cancel</th>\n",
       "      <th>transaction_date_dt</th>\n",
       "      <th>membership_expire_date_dt</th>\n",
       "    </tr>\n",
       "  </thead>\n",
       "  <tbody>\n",
       "    <tr>\n",
       "      <th>6797850</th>\n",
       "      <td>+++FOrTS7ab3tIgIh8eWwX4FqRv8w/FoiOuyXsFvphY=</td>\n",
       "      <td>35</td>\n",
       "      <td>7</td>\n",
       "      <td>0</td>\n",
       "      <td>0</td>\n",
       "      <td>0</td>\n",
       "      <td>20160909</td>\n",
       "      <td>20160914</td>\n",
       "      <td>0</td>\n",
       "      <td>2016-09-09</td>\n",
       "      <td>2016-09-14</td>\n",
       "    </tr>\n",
       "    <tr>\n",
       "      <th>1521480</th>\n",
       "      <td>+++IZseRRiQS9aaSkH6cMYU6bGDcxUieAi/tH67sC5s=</td>\n",
       "      <td>38</td>\n",
       "      <td>410</td>\n",
       "      <td>1788</td>\n",
       "      <td>1788</td>\n",
       "      <td>0</td>\n",
       "      <td>20151121</td>\n",
       "      <td>20170104</td>\n",
       "      <td>0</td>\n",
       "      <td>2015-11-21</td>\n",
       "      <td>2017-01-04</td>\n",
       "    </tr>\n",
       "    <tr>\n",
       "      <th>21797460</th>\n",
       "      <td>+++IZseRRiQS9aaSkH6cMYU6bGDcxUieAi/tH67sC5s=</td>\n",
       "      <td>22</td>\n",
       "      <td>395</td>\n",
       "      <td>1599</td>\n",
       "      <td>1599</td>\n",
       "      <td>0</td>\n",
       "      <td>20161023</td>\n",
       "      <td>20180206</td>\n",
       "      <td>0</td>\n",
       "      <td>2016-10-23</td>\n",
       "      <td>2018-02-06</td>\n",
       "    </tr>\n",
       "    <tr>\n",
       "      <th>1498592</th>\n",
       "      <td>+++hVY1rZox/33YtvDgmKA2Frg/2qhkz12B9ylCvh8o=</td>\n",
       "      <td>41</td>\n",
       "      <td>30</td>\n",
       "      <td>99</td>\n",
       "      <td>99</td>\n",
       "      <td>1</td>\n",
       "      <td>20161116</td>\n",
       "      <td>20161215</td>\n",
       "      <td>0</td>\n",
       "      <td>2016-11-16</td>\n",
       "      <td>2016-12-15</td>\n",
       "    </tr>\n",
       "    <tr>\n",
       "      <th>1914756</th>\n",
       "      <td>+++hVY1rZox/33YtvDgmKA2Frg/2qhkz12B9ylCvh8o=</td>\n",
       "      <td>41</td>\n",
       "      <td>30</td>\n",
       "      <td>99</td>\n",
       "      <td>99</td>\n",
       "      <td>1</td>\n",
       "      <td>20170215</td>\n",
       "      <td>20170315</td>\n",
       "      <td>0</td>\n",
       "      <td>2017-02-15</td>\n",
       "      <td>2017-03-15</td>\n",
       "    </tr>\n",
       "    <tr>\n",
       "      <th>...</th>\n",
       "      <td>...</td>\n",
       "      <td>...</td>\n",
       "      <td>...</td>\n",
       "      <td>...</td>\n",
       "      <td>...</td>\n",
       "      <td>...</td>\n",
       "      <td>...</td>\n",
       "      <td>...</td>\n",
       "      <td>...</td>\n",
       "      <td>...</td>\n",
       "      <td>...</td>\n",
       "    </tr>\n",
       "    <tr>\n",
       "      <th>21136039</th>\n",
       "      <td>zzzN9thH22os1dRS0VHReY/8FTfGHOi86//d+wGGFsQ=</td>\n",
       "      <td>41</td>\n",
       "      <td>30</td>\n",
       "      <td>99</td>\n",
       "      <td>99</td>\n",
       "      <td>1</td>\n",
       "      <td>20160804</td>\n",
       "      <td>20160904</td>\n",
       "      <td>0</td>\n",
       "      <td>2016-08-04</td>\n",
       "      <td>2016-09-04</td>\n",
       "    </tr>\n",
       "    <tr>\n",
       "      <th>11302263</th>\n",
       "      <td>zzzN9thH22os1dRS0VHReY/8FTfGHOi86//d+wGGFsQ=</td>\n",
       "      <td>41</td>\n",
       "      <td>30</td>\n",
       "      <td>99</td>\n",
       "      <td>99</td>\n",
       "      <td>1</td>\n",
       "      <td>20161204</td>\n",
       "      <td>20170104</td>\n",
       "      <td>0</td>\n",
       "      <td>2016-12-04</td>\n",
       "      <td>2017-01-04</td>\n",
       "    </tr>\n",
       "    <tr>\n",
       "      <th>13557324</th>\n",
       "      <td>zzzN9thH22os1dRS0VHReY/8FTfGHOi86//d+wGGFsQ=</td>\n",
       "      <td>41</td>\n",
       "      <td>30</td>\n",
       "      <td>99</td>\n",
       "      <td>99</td>\n",
       "      <td>1</td>\n",
       "      <td>20160704</td>\n",
       "      <td>20160804</td>\n",
       "      <td>0</td>\n",
       "      <td>2016-07-04</td>\n",
       "      <td>2016-08-04</td>\n",
       "    </tr>\n",
       "    <tr>\n",
       "      <th>13444388</th>\n",
       "      <td>zzztsqkufVj9DPVJDM3FxDkhlbCL5z4aiYxgPSGkIK4=</td>\n",
       "      <td>35</td>\n",
       "      <td>7</td>\n",
       "      <td>0</td>\n",
       "      <td>0</td>\n",
       "      <td>0</td>\n",
       "      <td>20150608</td>\n",
       "      <td>20150615</td>\n",
       "      <td>0</td>\n",
       "      <td>2015-06-08</td>\n",
       "      <td>2015-06-15</td>\n",
       "    </tr>\n",
       "    <tr>\n",
       "      <th>9570304</th>\n",
       "      <td>zzzyOgMk9MljCerbCCYrVtvu85aSCiy7yCMjAEgNYMs=</td>\n",
       "      <td>35</td>\n",
       "      <td>7</td>\n",
       "      <td>0</td>\n",
       "      <td>0</td>\n",
       "      <td>0</td>\n",
       "      <td>20150613</td>\n",
       "      <td>20150615</td>\n",
       "      <td>0</td>\n",
       "      <td>2015-06-13</td>\n",
       "      <td>2015-06-15</td>\n",
       "    </tr>\n",
       "  </tbody>\n",
       "</table>\n",
       "<p>22975416 rows × 11 columns</p>\n",
       "</div>"
      ],
      "text/plain": [
       "                                                  msno  payment_method_id  \\\n",
       "6797850   +++FOrTS7ab3tIgIh8eWwX4FqRv8w/FoiOuyXsFvphY=                 35   \n",
       "1521480   +++IZseRRiQS9aaSkH6cMYU6bGDcxUieAi/tH67sC5s=                 38   \n",
       "21797460  +++IZseRRiQS9aaSkH6cMYU6bGDcxUieAi/tH67sC5s=                 22   \n",
       "1498592   +++hVY1rZox/33YtvDgmKA2Frg/2qhkz12B9ylCvh8o=                 41   \n",
       "1914756   +++hVY1rZox/33YtvDgmKA2Frg/2qhkz12B9ylCvh8o=                 41   \n",
       "...                                                ...                ...   \n",
       "21136039  zzzN9thH22os1dRS0VHReY/8FTfGHOi86//d+wGGFsQ=                 41   \n",
       "11302263  zzzN9thH22os1dRS0VHReY/8FTfGHOi86//d+wGGFsQ=                 41   \n",
       "13557324  zzzN9thH22os1dRS0VHReY/8FTfGHOi86//d+wGGFsQ=                 41   \n",
       "13444388  zzztsqkufVj9DPVJDM3FxDkhlbCL5z4aiYxgPSGkIK4=                 35   \n",
       "9570304   zzzyOgMk9MljCerbCCYrVtvu85aSCiy7yCMjAEgNYMs=                 35   \n",
       "\n",
       "          payment_plan_days  plan_list_price  actual_amount_paid  \\\n",
       "6797850                   7                0                   0   \n",
       "1521480                 410             1788                1788   \n",
       "21797460                395             1599                1599   \n",
       "1498592                  30               99                  99   \n",
       "1914756                  30               99                  99   \n",
       "...                     ...              ...                 ...   \n",
       "21136039                 30               99                  99   \n",
       "11302263                 30               99                  99   \n",
       "13557324                 30               99                  99   \n",
       "13444388                  7                0                   0   \n",
       "9570304                   7                0                   0   \n",
       "\n",
       "          is_auto_renew  transaction_date  membership_expire_date  is_cancel  \\\n",
       "6797850               0          20160909                20160914          0   \n",
       "1521480               0          20151121                20170104          0   \n",
       "21797460              0          20161023                20180206          0   \n",
       "1498592               1          20161116                20161215          0   \n",
       "1914756               1          20170215                20170315          0   \n",
       "...                 ...               ...                     ...        ...   \n",
       "21136039              1          20160804                20160904          0   \n",
       "11302263              1          20161204                20170104          0   \n",
       "13557324              1          20160704                20160804          0   \n",
       "13444388              0          20150608                20150615          0   \n",
       "9570304               0          20150613                20150615          0   \n",
       "\n",
       "         transaction_date_dt membership_expire_date_dt  \n",
       "6797850           2016-09-09                2016-09-14  \n",
       "1521480           2015-11-21                2017-01-04  \n",
       "21797460          2016-10-23                2018-02-06  \n",
       "1498592           2016-11-16                2016-12-15  \n",
       "1914756           2017-02-15                2017-03-15  \n",
       "...                      ...                       ...  \n",
       "21136039          2016-08-04                2016-09-04  \n",
       "11302263          2016-12-04                2017-01-04  \n",
       "13557324          2016-07-04                2016-08-04  \n",
       "13444388          2015-06-08                2015-06-15  \n",
       "9570304           2015-06-13                2015-06-15  \n",
       "\n",
       "[22975416 rows x 11 columns]"
      ]
     },
     "execution_count": 31,
     "metadata": {},
     "output_type": "execute_result"
    }
   ],
   "source": [
    "transactions_df.sort_values(by='msno')"
   ]
  },
  {
   "cell_type": "markdown",
   "metadata": {},
   "source": [
    "As this is a transaction dataset, we have several rows for the same user. In particular there are abut 2.4M unique users in the dataset, which is more than the number of users for which we know the target variable, i.e. 880K for each train dataset (v1 and v2). Let's keep the users for which we know the target only, so we will also reduce memory."
   ]
  },
  {
   "cell_type": "code",
   "execution_count": 32,
   "metadata": {},
   "outputs": [
    {
     "data": {
      "text/plain": [
       "972553"
      ]
     },
     "execution_count": 32,
     "metadata": {},
     "output_type": "execute_result"
    }
   ],
   "source": [
    "users = set(train_v1_df.msno.tolist() + train_v2_df.msno.tolist())\n",
    "len(users)"
   ]
  },
  {
   "cell_type": "code",
   "execution_count": 33,
   "metadata": {},
   "outputs": [
    {
     "data": {
      "text/plain": [
       "972553"
      ]
     },
     "execution_count": 33,
     "metadata": {},
     "output_type": "execute_result"
    }
   ],
   "source": [
    "transactions_user_df = transactions_df[transactions_df['msno'].isin(list(users))]\n",
    "transactions_user_df.msno.nunique()"
   ]
  },
  {
   "cell_type": "code",
   "execution_count": 34,
   "metadata": {},
   "outputs": [
    {
     "data": {
      "text/plain": [
       "f/CqixCvjsoTwQRY8A09SMBMsM0cRcG8BSUe48Bd2Mg=    76\n",
       "xm6fmAfgZx1OYUXaJuHOObD0H2EAtIktv9NYIVlaTf4=    71\n",
       "mg+IeEqwTD8RIi3MD3InzWbebMVApP/MN3WSCKtw0Tw=    68\n",
       "WAMleIuG124oDSSdhcZIECwLcHHHbk4or0y6gxkK7t8=    67\n",
       "mx4FQFskeSNq/VzREXEO4HnxhxIyuZD/CppvjdYcxFw=    66\n",
       "                                                ..\n",
       "rzeHdDbp8ePkShgCWdLfPqGcGI76c1FWe2wsSfhECiQ=     1\n",
       "W/Yn+8YA51VnhI8o62F4wEnWp49qh6tC+ro2FUQ6o5w=     1\n",
       "Nra2PORifPHvywPwkq2oMoQeKSDK26OKpK9m24Lg1Zw=     1\n",
       "yRKFZCUtGfCBW6Qg6Ln65l5wqEaej6Ki+4XaVZB8zII=     1\n",
       "1cnIvnDyZA3nQ8Th5qwpgngC6MpIr3l4xxl/hpztwTM=     1\n",
       "Name: msno, Length: 972553, dtype: int64"
      ]
     },
     "execution_count": 34,
     "metadata": {},
     "output_type": "execute_result"
    }
   ],
   "source": [
    "transactions_user_df['msno'].value_counts()"
   ]
  },
  {
   "cell_type": "code",
   "execution_count": 35,
   "metadata": {
    "scrolled": true
   },
   "outputs": [
    {
     "name": "stdout",
     "output_type": "stream",
     "text": [
      "<class 'pandas.core.frame.DataFrame'>\n",
      "Int64Index: 15574568 entries, 1 to 22978753\n",
      "Data columns (total 11 columns):\n",
      " #   Column                     Dtype         \n",
      "---  ------                     -----         \n",
      " 0   msno                       object        \n",
      " 1   payment_method_id          int16         \n",
      " 2   payment_plan_days          int16         \n",
      " 3   plan_list_price            int16         \n",
      " 4   actual_amount_paid         int16         \n",
      " 5   is_auto_renew              int16         \n",
      " 6   transaction_date           int64         \n",
      " 7   membership_expire_date     int64         \n",
      " 8   is_cancel                  int16         \n",
      " 9   transaction_date_dt        datetime64[ns]\n",
      " 10  membership_expire_date_dt  datetime64[ns]\n",
      "dtypes: datetime64[ns](2), int16(6), int64(2), object(1)\n",
      "memory usage: 891.2+ MB\n"
     ]
    }
   ],
   "source": [
    "transactions_user_df.info()"
   ]
  },
  {
   "cell_type": "code",
   "execution_count": 36,
   "metadata": {
    "scrolled": true
   },
   "outputs": [
    {
     "data": {
      "image/png": "[encoded data removed]",
      "text/plain": [
       "<Figure size 720x720 with 6 Axes>"
      ]
     },
     "metadata": {},
     "output_type": "display_data"
    }
   ],
   "source": [
    "transactions_user_df[['payment_method_id',\n",
    "                      'payment_plan_days',\n",
    "                      'plan_list_price',\n",
    "                      'actual_amount_paid',\n",
    "                      'is_auto_renew',\n",
    "                      'is_cancel']].hist(figsize=(10,10))\n",
    "plt.tight_layout()\n",
    "plt.subplots_adjust(hspace=.3, wspace=.3);"
   ]
  },
  {
   "cell_type": "code",
   "execution_count": 37,
   "metadata": {
    "scrolled": true
   },
   "outputs": [
    {
     "name": "stdout",
     "output_type": "stream",
     "text": [
      "\n",
      "payment_method_id:\n",
      "41    9631227\n",
      "40    1658937\n",
      "38     935110\n",
      "37     804773\n",
      "36     695055\n",
      "34     654978\n",
      "33     297937\n",
      "31     220868\n",
      "39     145339\n",
      "30     116167\n",
      "29     106366\n",
      "32      60063\n",
      "27      44597\n",
      "35      44421\n",
      "28      36776\n",
      "23      31659\n",
      "18      13803\n",
      "20      12350\n",
      "19      12282\n",
      "14      10262\n",
      "16       8529\n",
      "22       6068\n",
      "24       5775\n",
      "25       4038\n",
      "15       3098\n",
      "13       2837\n",
      "17       2503\n",
      "26       2114\n",
      "11       1847\n",
      "12       1597\n",
      "21       1578\n",
      "10       1091\n",
      "8         243\n",
      "6         102\n",
      "5          83\n",
      "3          77\n",
      "2          14\n",
      "4           4\n",
      "Name: payment_method_id, dtype: int64\n",
      "    \n",
      "\n",
      "payment_plan_days:\n",
      "30     14526879\n",
      "0        518228\n",
      "31       328064\n",
      "7         50793\n",
      "195       42031\n",
      "410       29918\n",
      "180       21450\n",
      "90        14679\n",
      "100       10583\n",
      "120        7421\n",
      "60         4361\n",
      "10         4289\n",
      "395        2543\n",
      "360        2507\n",
      "200        2407\n",
      "1          2100\n",
      "240        1582\n",
      "45         1064\n",
      "400        1060\n",
      "14          685\n",
      "450         357\n",
      "35          273\n",
      "365         267\n",
      "70          258\n",
      "270         168\n",
      "80          136\n",
      "110         134\n",
      "99          119\n",
      "66           88\n",
      "21           74\n",
      "230          28\n",
      "3            11\n",
      "2             5\n",
      "15            4\n",
      "415           2\n",
      "Name: payment_plan_days, dtype: int64\n",
      "    \n",
      "\n",
      "plan_list_price:\n",
      "149     8038940\n",
      "99      4943796\n",
      "129      908185\n",
      "180      658048\n",
      "0        576905\n",
      "150      176020\n",
      "100      102592\n",
      "894       42163\n",
      "1788      30148\n",
      "119       23361\n",
      "536       17479\n",
      "477       11563\n",
      "480       10129\n",
      "298        4823\n",
      "300        4645\n",
      "1200       3516\n",
      "447        3427\n",
      "1599       3423\n",
      "134        2442\n",
      "120        2388\n",
      "930        2168\n",
      "799        2109\n",
      "35         1865\n",
      "600        1120\n",
      "699         692\n",
      "450         572\n",
      "500         459\n",
      "131         291\n",
      "350         258\n",
      "1000        235\n",
      "50          220\n",
      "400         136\n",
      "1299        135\n",
      "70           66\n",
      "596          45\n",
      "2000         41\n",
      "143          38\n",
      "1            36\n",
      "1150         28\n",
      "105          24\n",
      "265          12\n",
      "1399          9\n",
      "15            9\n",
      "10            5\n",
      "126           1\n",
      "800           1\n",
      "Name: plan_list_price, dtype: int64\n",
      "    \n",
      "\n",
      "actual_amount_paid:\n",
      "149     8242963\n",
      "99      4945780\n",
      "129      927941\n",
      "180      652753\n",
      "119      246423\n",
      "150      180141\n",
      "0        126627\n",
      "100      103072\n",
      "894       42904\n",
      "1788      30553\n",
      "536       17542\n",
      "477       11563\n",
      "480       10177\n",
      "298        4823\n",
      "300        4692\n",
      "1200       3516\n",
      "1599       3462\n",
      "447        3437\n",
      "134        3065\n",
      "120        2210\n",
      "930        2177\n",
      "799        2154\n",
      "35         1996\n",
      "600        1120\n",
      "699         690\n",
      "450         585\n",
      "500         464\n",
      "131         405\n",
      "350         264\n",
      "1000        244\n",
      "50          221\n",
      "400         138\n",
      "1299        135\n",
      "70           66\n",
      "596          45\n",
      "2000         41\n",
      "143          38\n",
      "1            36\n",
      "1150         30\n",
      "105          29\n",
      "265          12\n",
      "1399          9\n",
      "15            9\n",
      "41            5\n",
      "10            5\n",
      "897           1\n",
      "800           1\n",
      "127           1\n",
      "760           1\n",
      "1799          1\n",
      "1800          1\n",
      "Name: actual_amount_paid, dtype: int64\n",
      "    \n",
      "\n",
      "is_auto_renew:\n",
      "1    14047481\n",
      "0     1527087\n",
      "Name: is_auto_renew, dtype: int64\n",
      "    \n",
      "\n",
      "is_cancel:\n",
      "0    15291885\n",
      "1      282683\n",
      "Name: is_cancel, dtype: int64\n",
      "    \n"
     ]
    }
   ],
   "source": [
    "cols = ['payment_method_id',\n",
    "        'payment_plan_days',\n",
    "        'plan_list_price',\n",
    "        'actual_amount_paid',\n",
    "        'is_auto_renew',\n",
    "        'is_cancel']\n",
    "for col in cols:\n",
    "    print(f'''\n",
    "{col}:\n",
    "{transactions_user_df[col].value_counts()}\n",
    "    ''')\n"
   ]
  },
  {
   "cell_type": "code",
   "execution_count": 38,
   "metadata": {
    "scrolled": true
   },
   "outputs": [
    {
     "data": {
      "image/png": "[encoded data removed]",
      "text/plain": [
       "<Figure size 576x432 with 1 Axes>"
      ]
     },
     "metadata": {},
     "output_type": "display_data"
    }
   ],
   "source": [
    "transactions_user_df[['payment_plan_days',\n",
    "                      'plan_list_price',\n",
    "                      'actual_amount_paid'\n",
    "                     ]].plot(kind='box', figsize=(8, 6))\n",
    "plt.tight_layout()"
   ]
  },
  {
   "cell_type": "code",
   "execution_count": 39,
   "metadata": {},
   "outputs": [
    {
     "data": {
      "image/png": "[encoded data removed]",
      "text/plain": [
       "<Figure size 432x288 with 1 Axes>"
      ]
     },
     "metadata": {},
     "output_type": "display_data"
    }
   ],
   "source": [
    "transac_date_count = transactions_user_df.groupby('transaction_date_dt')['msno'].count()\n",
    "exp_date_count = transactions_user_df.groupby('membership_expire_date_dt')['msno'].count()\n",
    "sns.lineplot(x=transac_date_count.index, y=transac_date_count, label='Transactions')\n",
    "sns.lineplot(x=exp_date_count.index, y=exp_date_count, label='Expiration')\n",
    "plt.xlabel('Year')\n",
    "plt.xlabel('Count')\n",
    "plt.tight_layout()"
   ]
  },
  {
   "cell_type": "code",
   "execution_count": 40,
   "metadata": {},
   "outputs": [],
   "source": [
    "mask = (transactions_df['membership_expire_date_dt'].dt.year >= 2015) \\\n",
    "       & (transactions_df['membership_expire_date_dt'] < datetime(2017, 3, 1))\n",
    "transactions_user_df = transactions_user_df[mask]"
   ]
  },
  {
   "cell_type": "code",
   "execution_count": 41,
   "metadata": {},
   "outputs": [
    {
     "data": {
      "image/png": "[encoded data removed]",
      "text/plain": [
       "<Figure size 432x288 with 1 Axes>"
      ]
     },
     "metadata": {},
     "output_type": "display_data"
    }
   ],
   "source": [
    "transac_date_count = transactions_user_df.groupby('transaction_date_dt')['msno'].count()\n",
    "exp_date_count = transactions_user_df.groupby('membership_expire_date_dt')['msno'].count()\n",
    "sns.lineplot(x=transac_date_count.index, y=transac_date_count, label='Transactions')\n",
    "sns.lineplot(x=exp_date_count.index, y=exp_date_count, label='Expiration')\n",
    "plt.xlabel('Year')\n",
    "plt.xlabel('Count')\n",
    "plt.xticks(rotation=30)\n",
    "plt.tight_layout()"
   ]
  },
  {
   "cell_type": "code",
   "execution_count": 42,
   "metadata": {},
   "outputs": [],
   "source": [
    "with open('Data/transactions_clean.pickle', 'wb') as handle:\n",
    "    pickle.dump(transactions_user_df, handle)"
   ]
  },
  {
   "cell_type": "markdown",
   "metadata": {},
   "source": [
    "# User Logs Dataset"
   ]
  },
  {
   "cell_type": "code",
   "execution_count": 43,
   "metadata": {},
   "outputs": [],
   "source": [
    "user_logs_v1_df = pd.read_csv('user_logs.csv', nrows=5000000)\n",
    "user_logs_v2_df = pd.read_csv('user_logs_v2.csv', nrows=5000000)\n",
    "user_logs_df = pd.concat([user_logs_v1_df, user_logs_v2_df], ignore_index=True)"
   ]
  },
  {
   "cell_type": "code",
   "execution_count": 44,
   "metadata": {},
   "outputs": [
    {
     "data": {
      "text/plain": [
       "0"
      ]
     },
     "execution_count": 44,
     "metadata": {},
     "output_type": "execute_result"
    }
   ],
   "source": [
    "user_logs_df.duplicated().sum()"
   ]
  },
  {
   "cell_type": "markdown",
   "metadata": {},
   "source": [
    "There are no duplicates in this subsample of the logs dataset, to be checked again when including the entire dataset."
   ]
  },
  {
   "cell_type": "code",
   "execution_count": 45,
   "metadata": {},
   "outputs": [
    {
     "data": {
      "text/html": [
       "<div>\n",
       "<style scoped>\n",
       "    .dataframe tbody tr th:only-of-type {\n",
       "        vertical-align: middle;\n",
       "    }\n",
       "\n",
       "    .dataframe tbody tr th {\n",
       "        vertical-align: top;\n",
       "    }\n",
       "\n",
       "    .dataframe thead th {\n",
       "        text-align: right;\n",
       "    }\n",
       "</style>\n",
       "<table border=\"1\" class=\"dataframe\">\n",
       "  <thead>\n",
       "    <tr style=\"text-align: right;\">\n",
       "      <th></th>\n",
       "      <th>msno</th>\n",
       "      <th>date</th>\n",
       "      <th>num_25</th>\n",
       "      <th>num_50</th>\n",
       "      <th>num_75</th>\n",
       "      <th>num_985</th>\n",
       "      <th>num_100</th>\n",
       "      <th>num_unq</th>\n",
       "      <th>total_secs</th>\n",
       "    </tr>\n",
       "  </thead>\n",
       "  <tbody>\n",
       "    <tr>\n",
       "      <th>0</th>\n",
       "      <td>rxIP2f2aN0rYNp+toI0Obt/N/FYQX8hcO1fTmmy2h34=</td>\n",
       "      <td>20150513</td>\n",
       "      <td>0</td>\n",
       "      <td>0</td>\n",
       "      <td>0</td>\n",
       "      <td>0</td>\n",
       "      <td>1</td>\n",
       "      <td>1</td>\n",
       "      <td>280.335</td>\n",
       "    </tr>\n",
       "    <tr>\n",
       "      <th>1</th>\n",
       "      <td>rxIP2f2aN0rYNp+toI0Obt/N/FYQX8hcO1fTmmy2h34=</td>\n",
       "      <td>20150709</td>\n",
       "      <td>9</td>\n",
       "      <td>1</td>\n",
       "      <td>0</td>\n",
       "      <td>0</td>\n",
       "      <td>7</td>\n",
       "      <td>11</td>\n",
       "      <td>1658.948</td>\n",
       "    </tr>\n",
       "    <tr>\n",
       "      <th>2</th>\n",
       "      <td>yxiEWwE9VR5utpUecLxVdQ5B7NysUPfrNtGINaM2zA8=</td>\n",
       "      <td>20150105</td>\n",
       "      <td>3</td>\n",
       "      <td>3</td>\n",
       "      <td>0</td>\n",
       "      <td>0</td>\n",
       "      <td>68</td>\n",
       "      <td>36</td>\n",
       "      <td>17364.956</td>\n",
       "    </tr>\n",
       "    <tr>\n",
       "      <th>3</th>\n",
       "      <td>yxiEWwE9VR5utpUecLxVdQ5B7NysUPfrNtGINaM2zA8=</td>\n",
       "      <td>20150306</td>\n",
       "      <td>1</td>\n",
       "      <td>0</td>\n",
       "      <td>1</td>\n",
       "      <td>1</td>\n",
       "      <td>97</td>\n",
       "      <td>27</td>\n",
       "      <td>24667.317</td>\n",
       "    </tr>\n",
       "    <tr>\n",
       "      <th>4</th>\n",
       "      <td>yxiEWwE9VR5utpUecLxVdQ5B7NysUPfrNtGINaM2zA8=</td>\n",
       "      <td>20150501</td>\n",
       "      <td>3</td>\n",
       "      <td>0</td>\n",
       "      <td>0</td>\n",
       "      <td>0</td>\n",
       "      <td>38</td>\n",
       "      <td>38</td>\n",
       "      <td>9649.029</td>\n",
       "    </tr>\n",
       "  </tbody>\n",
       "</table>\n",
       "</div>"
      ],
      "text/plain": [
       "                                           msno      date  num_25  num_50  \\\n",
       "0  rxIP2f2aN0rYNp+toI0Obt/N/FYQX8hcO1fTmmy2h34=  20150513       0       0   \n",
       "1  rxIP2f2aN0rYNp+toI0Obt/N/FYQX8hcO1fTmmy2h34=  20150709       9       1   \n",
       "2  yxiEWwE9VR5utpUecLxVdQ5B7NysUPfrNtGINaM2zA8=  20150105       3       3   \n",
       "3  yxiEWwE9VR5utpUecLxVdQ5B7NysUPfrNtGINaM2zA8=  20150306       1       0   \n",
       "4  yxiEWwE9VR5utpUecLxVdQ5B7NysUPfrNtGINaM2zA8=  20150501       3       0   \n",
       "\n",
       "   num_75  num_985  num_100  num_unq  total_secs  \n",
       "0       0        0        1        1     280.335  \n",
       "1       0        0        7       11    1658.948  \n",
       "2       0        0       68       36   17364.956  \n",
       "3       1        1       97       27   24667.317  \n",
       "4       0        0       38       38    9649.029  "
      ]
     },
     "execution_count": 45,
     "metadata": {},
     "output_type": "execute_result"
    }
   ],
   "source": [
    "user_logs_df.head()"
   ]
  },
  {
   "cell_type": "code",
   "execution_count": 46,
   "metadata": {},
   "outputs": [
    {
     "data": {
      "text/plain": [
       "(10000000, 9)"
      ]
     },
     "execution_count": 46,
     "metadata": {},
     "output_type": "execute_result"
    }
   ],
   "source": [
    "user_logs_df.shape"
   ]
  },
  {
   "cell_type": "code",
   "execution_count": 47,
   "metadata": {
    "scrolled": true
   },
   "outputs": [
    {
     "name": "stdout",
     "output_type": "stream",
     "text": [
      "<class 'pandas.core.frame.DataFrame'>\n",
      "RangeIndex: 10000000 entries, 0 to 9999999\n",
      "Data columns (total 9 columns):\n",
      " #   Column      Non-Null Count     Dtype  \n",
      "---  ------      --------------     -----  \n",
      " 0   msno        10000000 non-null  object \n",
      " 1   date        10000000 non-null  int64  \n",
      " 2   num_25      10000000 non-null  int64  \n",
      " 3   num_50      10000000 non-null  int64  \n",
      " 4   num_75      10000000 non-null  int64  \n",
      " 5   num_985     10000000 non-null  int64  \n",
      " 6   num_100     10000000 non-null  int64  \n",
      " 7   num_unq     10000000 non-null  int64  \n",
      " 8   total_secs  10000000 non-null  float64\n",
      "dtypes: float64(1), int64(7), object(1)\n",
      "memory usage: 1.5 GB\n"
     ]
    }
   ],
   "source": [
    "user_logs_df.info(verbose=True, null_counts=True, memory_usage='deep')"
   ]
  },
  {
   "cell_type": "code",
   "execution_count": 48,
   "metadata": {},
   "outputs": [],
   "source": [
    "user_logs_df['date_dt'] = pd.to_datetime(user_logs_df.date, \n",
    "                                         format='%Y%m%d', \n",
    "                                         errors='ignore')"
   ]
  },
  {
   "cell_type": "code",
   "execution_count": 49,
   "metadata": {},
   "outputs": [
    {
     "data": {
      "text/html": [
       "<div>\n",
       "<style scoped>\n",
       "    .dataframe tbody tr th:only-of-type {\n",
       "        vertical-align: middle;\n",
       "    }\n",
       "\n",
       "    .dataframe tbody tr th {\n",
       "        vertical-align: top;\n",
       "    }\n",
       "\n",
       "    .dataframe thead th {\n",
       "        text-align: right;\n",
       "    }\n",
       "</style>\n",
       "<table border=\"1\" class=\"dataframe\">\n",
       "  <thead>\n",
       "    <tr style=\"text-align: right;\">\n",
       "      <th></th>\n",
       "      <th>msno</th>\n",
       "      <th>date</th>\n",
       "      <th>num_25</th>\n",
       "      <th>num_50</th>\n",
       "      <th>num_75</th>\n",
       "      <th>num_985</th>\n",
       "      <th>num_100</th>\n",
       "      <th>num_unq</th>\n",
       "      <th>total_secs</th>\n",
       "      <th>date_dt</th>\n",
       "    </tr>\n",
       "  </thead>\n",
       "  <tbody>\n",
       "    <tr>\n",
       "      <th>0</th>\n",
       "      <td>rxIP2f2aN0rYNp+toI0Obt/N/FYQX8hcO1fTmmy2h34=</td>\n",
       "      <td>20150513</td>\n",
       "      <td>0</td>\n",
       "      <td>0</td>\n",
       "      <td>0</td>\n",
       "      <td>0</td>\n",
       "      <td>1</td>\n",
       "      <td>1</td>\n",
       "      <td>280.335</td>\n",
       "      <td>2015-05-13</td>\n",
       "    </tr>\n",
       "    <tr>\n",
       "      <th>1</th>\n",
       "      <td>rxIP2f2aN0rYNp+toI0Obt/N/FYQX8hcO1fTmmy2h34=</td>\n",
       "      <td>20150709</td>\n",
       "      <td>9</td>\n",
       "      <td>1</td>\n",
       "      <td>0</td>\n",
       "      <td>0</td>\n",
       "      <td>7</td>\n",
       "      <td>11</td>\n",
       "      <td>1658.948</td>\n",
       "      <td>2015-07-09</td>\n",
       "    </tr>\n",
       "    <tr>\n",
       "      <th>2</th>\n",
       "      <td>yxiEWwE9VR5utpUecLxVdQ5B7NysUPfrNtGINaM2zA8=</td>\n",
       "      <td>20150105</td>\n",
       "      <td>3</td>\n",
       "      <td>3</td>\n",
       "      <td>0</td>\n",
       "      <td>0</td>\n",
       "      <td>68</td>\n",
       "      <td>36</td>\n",
       "      <td>17364.956</td>\n",
       "      <td>2015-01-05</td>\n",
       "    </tr>\n",
       "    <tr>\n",
       "      <th>3</th>\n",
       "      <td>yxiEWwE9VR5utpUecLxVdQ5B7NysUPfrNtGINaM2zA8=</td>\n",
       "      <td>20150306</td>\n",
       "      <td>1</td>\n",
       "      <td>0</td>\n",
       "      <td>1</td>\n",
       "      <td>1</td>\n",
       "      <td>97</td>\n",
       "      <td>27</td>\n",
       "      <td>24667.317</td>\n",
       "      <td>2015-03-06</td>\n",
       "    </tr>\n",
       "    <tr>\n",
       "      <th>4</th>\n",
       "      <td>yxiEWwE9VR5utpUecLxVdQ5B7NysUPfrNtGINaM2zA8=</td>\n",
       "      <td>20150501</td>\n",
       "      <td>3</td>\n",
       "      <td>0</td>\n",
       "      <td>0</td>\n",
       "      <td>0</td>\n",
       "      <td>38</td>\n",
       "      <td>38</td>\n",
       "      <td>9649.029</td>\n",
       "      <td>2015-05-01</td>\n",
       "    </tr>\n",
       "  </tbody>\n",
       "</table>\n",
       "</div>"
      ],
      "text/plain": [
       "                                           msno      date  num_25  num_50  \\\n",
       "0  rxIP2f2aN0rYNp+toI0Obt/N/FYQX8hcO1fTmmy2h34=  20150513       0       0   \n",
       "1  rxIP2f2aN0rYNp+toI0Obt/N/FYQX8hcO1fTmmy2h34=  20150709       9       1   \n",
       "2  yxiEWwE9VR5utpUecLxVdQ5B7NysUPfrNtGINaM2zA8=  20150105       3       3   \n",
       "3  yxiEWwE9VR5utpUecLxVdQ5B7NysUPfrNtGINaM2zA8=  20150306       1       0   \n",
       "4  yxiEWwE9VR5utpUecLxVdQ5B7NysUPfrNtGINaM2zA8=  20150501       3       0   \n",
       "\n",
       "   num_75  num_985  num_100  num_unq  total_secs    date_dt  \n",
       "0       0        0        1        1     280.335 2015-05-13  \n",
       "1       0        0        7       11    1658.948 2015-07-09  \n",
       "2       0        0       68       36   17364.956 2015-01-05  \n",
       "3       1        1       97       27   24667.317 2015-03-06  \n",
       "4       0        0       38       38    9649.029 2015-05-01  "
      ]
     },
     "execution_count": 49,
     "metadata": {},
     "output_type": "execute_result"
    }
   ],
   "source": [
    "user_logs_df.head()"
   ]
  },
  {
   "cell_type": "code",
   "execution_count": 50,
   "metadata": {},
   "outputs": [
    {
     "data": {
      "text/html": [
       "<div>\n",
       "<style scoped>\n",
       "    .dataframe tbody tr th:only-of-type {\n",
       "        vertical-align: middle;\n",
       "    }\n",
       "\n",
       "    .dataframe tbody tr th {\n",
       "        vertical-align: top;\n",
       "    }\n",
       "\n",
       "    .dataframe thead th {\n",
       "        text-align: right;\n",
       "    }\n",
       "</style>\n",
       "<table border=\"1\" class=\"dataframe\">\n",
       "  <thead>\n",
       "    <tr style=\"text-align: right;\">\n",
       "      <th></th>\n",
       "      <th>date</th>\n",
       "      <th>num_25</th>\n",
       "      <th>num_50</th>\n",
       "      <th>num_75</th>\n",
       "      <th>num_985</th>\n",
       "      <th>num_100</th>\n",
       "      <th>num_unq</th>\n",
       "      <th>total_secs</th>\n",
       "    </tr>\n",
       "  </thead>\n",
       "  <tbody>\n",
       "    <tr>\n",
       "      <th>count</th>\n",
       "      <td>1.000000e+07</td>\n",
       "      <td>1.000000e+07</td>\n",
       "      <td>1.000000e+07</td>\n",
       "      <td>1.000000e+07</td>\n",
       "      <td>1.000000e+07</td>\n",
       "      <td>1.000000e+07</td>\n",
       "      <td>1.000000e+07</td>\n",
       "      <td>1.000000e+07</td>\n",
       "    </tr>\n",
       "    <tr>\n",
       "      <th>mean</th>\n",
       "      <td>2.016385e+07</td>\n",
       "      <td>6.347179e+00</td>\n",
       "      <td>1.575115e+00</td>\n",
       "      <td>9.790065e-01</td>\n",
       "      <td>1.104493e+00</td>\n",
       "      <td>3.051742e+01</td>\n",
       "      <td>2.958255e+01</td>\n",
       "      <td>-7.553942e+11</td>\n",
       "    </tr>\n",
       "    <tr>\n",
       "      <th>std</th>\n",
       "      <td>7.802665e+03</td>\n",
       "      <td>1.374924e+01</td>\n",
       "      <td>4.112909e+00</td>\n",
       "      <td>2.051987e+00</td>\n",
       "      <td>3.252344e+00</td>\n",
       "      <td>4.168863e+01</td>\n",
       "      <td>3.302750e+01</td>\n",
       "      <td>8.356869e+13</td>\n",
       "    </tr>\n",
       "    <tr>\n",
       "      <th>min</th>\n",
       "      <td>2.015010e+07</td>\n",
       "      <td>0.000000e+00</td>\n",
       "      <td>0.000000e+00</td>\n",
       "      <td>0.000000e+00</td>\n",
       "      <td>0.000000e+00</td>\n",
       "      <td>0.000000e+00</td>\n",
       "      <td>1.000000e+00</td>\n",
       "      <td>-9.223372e+15</td>\n",
       "    </tr>\n",
       "    <tr>\n",
       "      <th>25%</th>\n",
       "      <td>2.016031e+07</td>\n",
       "      <td>0.000000e+00</td>\n",
       "      <td>0.000000e+00</td>\n",
       "      <td>0.000000e+00</td>\n",
       "      <td>0.000000e+00</td>\n",
       "      <td>7.000000e+00</td>\n",
       "      <td>8.000000e+00</td>\n",
       "      <td>1.926887e+03</td>\n",
       "    </tr>\n",
       "    <tr>\n",
       "      <th>50%</th>\n",
       "      <td>2.017026e+07</td>\n",
       "      <td>2.000000e+00</td>\n",
       "      <td>1.000000e+00</td>\n",
       "      <td>0.000000e+00</td>\n",
       "      <td>0.000000e+00</td>\n",
       "      <td>1.700000e+01</td>\n",
       "      <td>1.900000e+01</td>\n",
       "      <td>4.606630e+03</td>\n",
       "    </tr>\n",
       "    <tr>\n",
       "      <th>75%</th>\n",
       "      <td>2.017032e+07</td>\n",
       "      <td>7.000000e+00</td>\n",
       "      <td>2.000000e+00</td>\n",
       "      <td>1.000000e+00</td>\n",
       "      <td>1.000000e+00</td>\n",
       "      <td>3.800000e+01</td>\n",
       "      <td>3.900000e+01</td>\n",
       "      <td>1.005092e+04</td>\n",
       "    </tr>\n",
       "    <tr>\n",
       "      <th>max</th>\n",
       "      <td>2.017033e+07</td>\n",
       "      <td>4.312000e+03</td>\n",
       "      <td>8.620000e+02</td>\n",
       "      <td>4.700000e+02</td>\n",
       "      <td>1.515000e+03</td>\n",
       "      <td>1.946200e+04</td>\n",
       "      <td>3.547000e+03</td>\n",
       "      <td>9.223372e+15</td>\n",
       "    </tr>\n",
       "  </tbody>\n",
       "</table>\n",
       "</div>"
      ],
      "text/plain": [
       "               date        num_25        num_50        num_75       num_985  \\\n",
       "count  1.000000e+07  1.000000e+07  1.000000e+07  1.000000e+07  1.000000e+07   \n",
       "mean   2.016385e+07  6.347179e+00  1.575115e+00  9.790065e-01  1.104493e+00   \n",
       "std    7.802665e+03  1.374924e+01  4.112909e+00  2.051987e+00  3.252344e+00   \n",
       "min    2.015010e+07  0.000000e+00  0.000000e+00  0.000000e+00  0.000000e+00   \n",
       "25%    2.016031e+07  0.000000e+00  0.000000e+00  0.000000e+00  0.000000e+00   \n",
       "50%    2.017026e+07  2.000000e+00  1.000000e+00  0.000000e+00  0.000000e+00   \n",
       "75%    2.017032e+07  7.000000e+00  2.000000e+00  1.000000e+00  1.000000e+00   \n",
       "max    2.017033e+07  4.312000e+03  8.620000e+02  4.700000e+02  1.515000e+03   \n",
       "\n",
       "            num_100       num_unq    total_secs  \n",
       "count  1.000000e+07  1.000000e+07  1.000000e+07  \n",
       "mean   3.051742e+01  2.958255e+01 -7.553942e+11  \n",
       "std    4.168863e+01  3.302750e+01  8.356869e+13  \n",
       "min    0.000000e+00  1.000000e+00 -9.223372e+15  \n",
       "25%    7.000000e+00  8.000000e+00  1.926887e+03  \n",
       "50%    1.700000e+01  1.900000e+01  4.606630e+03  \n",
       "75%    3.800000e+01  3.900000e+01  1.005092e+04  \n",
       "max    1.946200e+04  3.547000e+03  9.223372e+15  "
      ]
     },
     "execution_count": 50,
     "metadata": {},
     "output_type": "execute_result"
    }
   ],
   "source": [
    "user_logs_df.describe()"
   ]
  },
  {
   "cell_type": "code",
   "execution_count": 51,
   "metadata": {},
   "outputs": [
    {
     "data": {
      "text/plain": [
       "1443096"
      ]
     },
     "execution_count": 51,
     "metadata": {},
     "output_type": "execute_result"
    }
   ],
   "source": [
    "user_logs_df.msno.nunique()"
   ]
  },
  {
   "cell_type": "code",
   "execution_count": 52,
   "metadata": {
    "scrolled": false
   },
   "outputs": [
    {
     "data": {
      "text/html": [
       "<div>\n",
       "<style scoped>\n",
       "    .dataframe tbody tr th:only-of-type {\n",
       "        vertical-align: middle;\n",
       "    }\n",
       "\n",
       "    .dataframe tbody tr th {\n",
       "        vertical-align: top;\n",
       "    }\n",
       "\n",
       "    .dataframe thead th {\n",
       "        text-align: right;\n",
       "    }\n",
       "</style>\n",
       "<table border=\"1\" class=\"dataframe\">\n",
       "  <thead>\n",
       "    <tr style=\"text-align: right;\">\n",
       "      <th></th>\n",
       "      <th>msno</th>\n",
       "      <th>date</th>\n",
       "      <th>num_25</th>\n",
       "      <th>num_50</th>\n",
       "      <th>num_75</th>\n",
       "      <th>num_985</th>\n",
       "      <th>num_100</th>\n",
       "      <th>num_unq</th>\n",
       "      <th>total_secs</th>\n",
       "      <th>date_dt</th>\n",
       "    </tr>\n",
       "  </thead>\n",
       "  <tbody>\n",
       "    <tr>\n",
       "      <th>391983</th>\n",
       "      <td>+++FOrTS7ab3tIgIh8eWwX4FqRv8w/FoiOuyXsFvphY=</td>\n",
       "      <td>20160910</td>\n",
       "      <td>1</td>\n",
       "      <td>0</td>\n",
       "      <td>1</td>\n",
       "      <td>1</td>\n",
       "      <td>10</td>\n",
       "      <td>10</td>\n",
       "      <td>2998.267</td>\n",
       "      <td>2016-09-10</td>\n",
       "    </tr>\n",
       "    <tr>\n",
       "      <th>8779926</th>\n",
       "      <td>+++IZseRRiQS9aaSkH6cMYU6bGDcxUieAi/tH67sC5s=</td>\n",
       "      <td>20170308</td>\n",
       "      <td>0</td>\n",
       "      <td>1</td>\n",
       "      <td>0</td>\n",
       "      <td>0</td>\n",
       "      <td>6</td>\n",
       "      <td>6</td>\n",
       "      <td>1632.781</td>\n",
       "      <td>2017-03-08</td>\n",
       "    </tr>\n",
       "    <tr>\n",
       "      <th>5830225</th>\n",
       "      <td>+++IZseRRiQS9aaSkH6cMYU6bGDcxUieAi/tH67sC5s=</td>\n",
       "      <td>20170319</td>\n",
       "      <td>1</td>\n",
       "      <td>1</td>\n",
       "      <td>0</td>\n",
       "      <td>0</td>\n",
       "      <td>2</td>\n",
       "      <td>4</td>\n",
       "      <td>589.959</td>\n",
       "      <td>2017-03-19</td>\n",
       "    </tr>\n",
       "    <tr>\n",
       "      <th>6028159</th>\n",
       "      <td>+++IZseRRiQS9aaSkH6cMYU6bGDcxUieAi/tH67sC5s=</td>\n",
       "      <td>20170310</td>\n",
       "      <td>3</td>\n",
       "      <td>0</td>\n",
       "      <td>0</td>\n",
       "      <td>0</td>\n",
       "      <td>3</td>\n",
       "      <td>6</td>\n",
       "      <td>832.030</td>\n",
       "      <td>2017-03-10</td>\n",
       "    </tr>\n",
       "    <tr>\n",
       "      <th>5480071</th>\n",
       "      <td>+++IZseRRiQS9aaSkH6cMYU6bGDcxUieAi/tH67sC5s=</td>\n",
       "      <td>20170331</td>\n",
       "      <td>2</td>\n",
       "      <td>1</td>\n",
       "      <td>1</td>\n",
       "      <td>0</td>\n",
       "      <td>11</td>\n",
       "      <td>15</td>\n",
       "      <td>2823.625</td>\n",
       "      <td>2017-03-31</td>\n",
       "    </tr>\n",
       "    <tr>\n",
       "      <th>...</th>\n",
       "      <td>...</td>\n",
       "      <td>...</td>\n",
       "      <td>...</td>\n",
       "      <td>...</td>\n",
       "      <td>...</td>\n",
       "      <td>...</td>\n",
       "      <td>...</td>\n",
       "      <td>...</td>\n",
       "      <td>...</td>\n",
       "      <td>...</td>\n",
       "    </tr>\n",
       "    <tr>\n",
       "      <th>954767</th>\n",
       "      <td>zzz4xr5LLzoxUqD6LfKiieCt8Or4dUWFQ0RA5gmkx8I=</td>\n",
       "      <td>20160714</td>\n",
       "      <td>4</td>\n",
       "      <td>1</td>\n",
       "      <td>2</td>\n",
       "      <td>1</td>\n",
       "      <td>8</td>\n",
       "      <td>16</td>\n",
       "      <td>2125.260</td>\n",
       "      <td>2016-07-14</td>\n",
       "    </tr>\n",
       "    <tr>\n",
       "      <th>5556746</th>\n",
       "      <td>zzzF1KsGfHH3qI6qiSNSXC35UXmVKMVFdxkp7xmDMc0=</td>\n",
       "      <td>20170305</td>\n",
       "      <td>4</td>\n",
       "      <td>0</td>\n",
       "      <td>0</td>\n",
       "      <td>0</td>\n",
       "      <td>20</td>\n",
       "      <td>10</td>\n",
       "      <td>4844.580</td>\n",
       "      <td>2017-03-05</td>\n",
       "    </tr>\n",
       "    <tr>\n",
       "      <th>8845804</th>\n",
       "      <td>zzzF1KsGfHH3qI6qiSNSXC35UXmVKMVFdxkp7xmDMc0=</td>\n",
       "      <td>20170321</td>\n",
       "      <td>0</td>\n",
       "      <td>0</td>\n",
       "      <td>0</td>\n",
       "      <td>0</td>\n",
       "      <td>34</td>\n",
       "      <td>33</td>\n",
       "      <td>8764.685</td>\n",
       "      <td>2017-03-21</td>\n",
       "    </tr>\n",
       "    <tr>\n",
       "      <th>969428</th>\n",
       "      <td>zzztPAN9xjMytpZ0RN2gU9mScDULJnHQZK8eZb4uELU=</td>\n",
       "      <td>20150110</td>\n",
       "      <td>3</td>\n",
       "      <td>1</td>\n",
       "      <td>1</td>\n",
       "      <td>1</td>\n",
       "      <td>0</td>\n",
       "      <td>4</td>\n",
       "      <td>509.706</td>\n",
       "      <td>2015-01-10</td>\n",
       "    </tr>\n",
       "    <tr>\n",
       "      <th>1557695</th>\n",
       "      <td>zzztsqkufVj9DPVJDM3FxDkhlbCL5z4aiYxgPSGkIK4=</td>\n",
       "      <td>20150319</td>\n",
       "      <td>0</td>\n",
       "      <td>0</td>\n",
       "      <td>0</td>\n",
       "      <td>2</td>\n",
       "      <td>6</td>\n",
       "      <td>2</td>\n",
       "      <td>1854.341</td>\n",
       "      <td>2015-03-19</td>\n",
       "    </tr>\n",
       "  </tbody>\n",
       "</table>\n",
       "<p>10000000 rows × 10 columns</p>\n",
       "</div>"
      ],
      "text/plain": [
       "                                                 msno      date  num_25  \\\n",
       "391983   +++FOrTS7ab3tIgIh8eWwX4FqRv8w/FoiOuyXsFvphY=  20160910       1   \n",
       "8779926  +++IZseRRiQS9aaSkH6cMYU6bGDcxUieAi/tH67sC5s=  20170308       0   \n",
       "5830225  +++IZseRRiQS9aaSkH6cMYU6bGDcxUieAi/tH67sC5s=  20170319       1   \n",
       "6028159  +++IZseRRiQS9aaSkH6cMYU6bGDcxUieAi/tH67sC5s=  20170310       3   \n",
       "5480071  +++IZseRRiQS9aaSkH6cMYU6bGDcxUieAi/tH67sC5s=  20170331       2   \n",
       "...                                               ...       ...     ...   \n",
       "954767   zzz4xr5LLzoxUqD6LfKiieCt8Or4dUWFQ0RA5gmkx8I=  20160714       4   \n",
       "5556746  zzzF1KsGfHH3qI6qiSNSXC35UXmVKMVFdxkp7xmDMc0=  20170305       4   \n",
       "8845804  zzzF1KsGfHH3qI6qiSNSXC35UXmVKMVFdxkp7xmDMc0=  20170321       0   \n",
       "969428   zzztPAN9xjMytpZ0RN2gU9mScDULJnHQZK8eZb4uELU=  20150110       3   \n",
       "1557695  zzztsqkufVj9DPVJDM3FxDkhlbCL5z4aiYxgPSGkIK4=  20150319       0   \n",
       "\n",
       "         num_50  num_75  num_985  num_100  num_unq  total_secs    date_dt  \n",
       "391983        0       1        1       10       10    2998.267 2016-09-10  \n",
       "8779926       1       0        0        6        6    1632.781 2017-03-08  \n",
       "5830225       1       0        0        2        4     589.959 2017-03-19  \n",
       "6028159       0       0        0        3        6     832.030 2017-03-10  \n",
       "5480071       1       1        0       11       15    2823.625 2017-03-31  \n",
       "...         ...     ...      ...      ...      ...         ...        ...  \n",
       "954767        1       2        1        8       16    2125.260 2016-07-14  \n",
       "5556746       0       0        0       20       10    4844.580 2017-03-05  \n",
       "8845804       0       0        0       34       33    8764.685 2017-03-21  \n",
       "969428        1       1        1        0        4     509.706 2015-01-10  \n",
       "1557695       0       0        2        6        2    1854.341 2015-03-19  \n",
       "\n",
       "[10000000 rows x 10 columns]"
      ]
     },
     "execution_count": 52,
     "metadata": {},
     "output_type": "execute_result"
    }
   ],
   "source": [
    "user_logs_df.sort_values(by='msno')"
   ]
  },
  {
   "cell_type": "code",
   "execution_count": 53,
   "metadata": {
    "scrolled": false
   },
   "outputs": [
    {
     "data": {
      "image/png": "[encoded data removed]",
      "text/plain": [
       "<Figure size 576x432 with 1 Axes>"
      ]
     },
     "metadata": {},
     "output_type": "display_data"
    }
   ],
   "source": [
    "user_logs_df.drop(['date', 'total_secs'], axis=1).plot(kind='box', figsize=(8,6))\n",
    "plt.tight_layout()\n",
    "plt.subplots_adjust(hspace=.3, wspace=.3);"
   ]
  },
  {
   "cell_type": "code",
   "execution_count": 54,
   "metadata": {},
   "outputs": [
    {
     "data": {
      "image/png": "[encoded data removed]",
      "text/plain": [
       "<Figure size 432x288 with 1 Axes>"
      ]
     },
     "metadata": {},
     "output_type": "display_data"
    }
   ],
   "source": [
    "user_logs_df['total_secs'].plot(kind='box', figsize=(6,4))\n",
    "plt.tight_layout()\n",
    "plt.subplots_adjust(hspace=.3, wspace=.3); "
   ]
  },
  {
   "cell_type": "markdown",
   "metadata": {},
   "source": [
    "Structure of dataset is similar to transactions. The distributions are extremely skewed, and total_secs contain negativa vales. This quick analysis is on only a small fraction of the dataset. The complete dataset is > 30 GB, I will need to work something out to handle this on my Desktop. More wrangling later when I load the whole dataset."
   ]
  },
  {
   "cell_type": "markdown",
   "metadata": {},
   "source": [
    "# Members Dataset"
   ]
  },
  {
   "cell_type": "markdown",
   "metadata": {},
   "source": [
    "Note: the file 'members.csv' is no longer available - It was removed due to data leakage. 'members_v3.csv' is the dataset to use."
   ]
  },
  {
   "cell_type": "code",
   "execution_count": 55,
   "metadata": {},
   "outputs": [
    {
     "data": {
      "text/html": [
       "<div>\n",
       "<style scoped>\n",
       "    .dataframe tbody tr th:only-of-type {\n",
       "        vertical-align: middle;\n",
       "    }\n",
       "\n",
       "    .dataframe tbody tr th {\n",
       "        vertical-align: top;\n",
       "    }\n",
       "\n",
       "    .dataframe thead th {\n",
       "        text-align: right;\n",
       "    }\n",
       "</style>\n",
       "<table border=\"1\" class=\"dataframe\">\n",
       "  <thead>\n",
       "    <tr style=\"text-align: right;\">\n",
       "      <th></th>\n",
       "      <th>msno</th>\n",
       "      <th>city</th>\n",
       "      <th>bd</th>\n",
       "      <th>gender</th>\n",
       "      <th>registered_via</th>\n",
       "      <th>registration_init_time</th>\n",
       "    </tr>\n",
       "  </thead>\n",
       "  <tbody>\n",
       "    <tr>\n",
       "      <th>0</th>\n",
       "      <td>Rb9UwLQTrxzBVwCB6+bCcSQWZ9JiNLC9dXtM1oEsZA8=</td>\n",
       "      <td>1</td>\n",
       "      <td>0</td>\n",
       "      <td>NaN</td>\n",
       "      <td>11</td>\n",
       "      <td>20110911</td>\n",
       "    </tr>\n",
       "    <tr>\n",
       "      <th>1</th>\n",
       "      <td>+tJonkh+O1CA796Fm5X60UMOtB6POHAwPjbTRVl/EuU=</td>\n",
       "      <td>1</td>\n",
       "      <td>0</td>\n",
       "      <td>NaN</td>\n",
       "      <td>7</td>\n",
       "      <td>20110914</td>\n",
       "    </tr>\n",
       "    <tr>\n",
       "      <th>2</th>\n",
       "      <td>cV358ssn7a0f7jZOwGNWS07wCKVqxyiImJUX6xcIwKw=</td>\n",
       "      <td>1</td>\n",
       "      <td>0</td>\n",
       "      <td>NaN</td>\n",
       "      <td>11</td>\n",
       "      <td>20110915</td>\n",
       "    </tr>\n",
       "    <tr>\n",
       "      <th>3</th>\n",
       "      <td>9bzDeJP6sQodK73K5CBlJ6fgIQzPeLnRl0p5B77XP+g=</td>\n",
       "      <td>1</td>\n",
       "      <td>0</td>\n",
       "      <td>NaN</td>\n",
       "      <td>11</td>\n",
       "      <td>20110915</td>\n",
       "    </tr>\n",
       "    <tr>\n",
       "      <th>4</th>\n",
       "      <td>WFLY3s7z4EZsieHCt63XrsdtfTEmJ+2PnnKLH5GY4Tk=</td>\n",
       "      <td>6</td>\n",
       "      <td>32</td>\n",
       "      <td>female</td>\n",
       "      <td>9</td>\n",
       "      <td>20110915</td>\n",
       "    </tr>\n",
       "  </tbody>\n",
       "</table>\n",
       "</div>"
      ],
      "text/plain": [
       "                                           msno  city  bd  gender  \\\n",
       "0  Rb9UwLQTrxzBVwCB6+bCcSQWZ9JiNLC9dXtM1oEsZA8=     1   0     NaN   \n",
       "1  +tJonkh+O1CA796Fm5X60UMOtB6POHAwPjbTRVl/EuU=     1   0     NaN   \n",
       "2  cV358ssn7a0f7jZOwGNWS07wCKVqxyiImJUX6xcIwKw=     1   0     NaN   \n",
       "3  9bzDeJP6sQodK73K5CBlJ6fgIQzPeLnRl0p5B77XP+g=     1   0     NaN   \n",
       "4  WFLY3s7z4EZsieHCt63XrsdtfTEmJ+2PnnKLH5GY4Tk=     6  32  female   \n",
       "\n",
       "   registered_via  registration_init_time  \n",
       "0              11                20110911  \n",
       "1               7                20110914  \n",
       "2              11                20110915  \n",
       "3              11                20110915  \n",
       "4               9                20110915  "
      ]
     },
     "execution_count": 55,
     "metadata": {},
     "output_type": "execute_result"
    }
   ],
   "source": [
    "members_df = pd.read_csv('members_v3.csv')\n",
    "members_df.head()"
   ]
  },
  {
   "cell_type": "code",
   "execution_count": 56,
   "metadata": {
    "scrolled": false
   },
   "outputs": [
    {
     "name": "stdout",
     "output_type": "stream",
     "text": [
      "<class 'pandas.core.frame.DataFrame'>\n",
      "RangeIndex: 6769473 entries, 0 to 6769472\n",
      "Data columns (total 6 columns):\n",
      " #   Column                  Non-Null Count    Dtype \n",
      "---  ------                  --------------    ----- \n",
      " 0   msno                    6769473 non-null  object\n",
      " 1   city                    6769473 non-null  int64 \n",
      " 2   bd                      6769473 non-null  int64 \n",
      " 3   gender                  2339968 non-null  object\n",
      " 4   registered_via          6769473 non-null  int64 \n",
      " 5   registration_init_time  6769473 non-null  int64 \n",
      "dtypes: int64(4), object(2)\n",
      "memory usage: 1.1 GB\n"
     ]
    }
   ],
   "source": [
    "members_df.info(verbose=True, null_counts=True, memory_usage='deep')"
   ]
  },
  {
   "cell_type": "code",
   "execution_count": 57,
   "metadata": {
    "scrolled": true
   },
   "outputs": [
    {
     "data": {
      "text/plain": [
       "0"
      ]
     },
     "execution_count": 57,
     "metadata": {},
     "output_type": "execute_result"
    }
   ],
   "source": [
    "members_df.duplicated().sum()"
   ]
  },
  {
   "cell_type": "code",
   "execution_count": 58,
   "metadata": {},
   "outputs": [],
   "source": [
    "members_df['registration_init_time_dt'] = pd.to_datetime(members_df['registration_init_time'], \n",
    "                                                         format='%Y%m%d',\n",
    "                                                         errors='ignore')    "
   ]
  },
  {
   "cell_type": "code",
   "execution_count": 59,
   "metadata": {},
   "outputs": [
    {
     "data": {
      "text/plain": [
       "False"
      ]
     },
     "execution_count": 59,
     "metadata": {},
     "output_type": "execute_result"
    }
   ],
   "source": [
    "members_df['registration_init_time_dt'].isnull().any()"
   ]
  },
  {
   "cell_type": "code",
   "execution_count": 60,
   "metadata": {},
   "outputs": [
    {
     "data": {
      "text/html": [
       "<div>\n",
       "<style scoped>\n",
       "    .dataframe tbody tr th:only-of-type {\n",
       "        vertical-align: middle;\n",
       "    }\n",
       "\n",
       "    .dataframe tbody tr th {\n",
       "        vertical-align: top;\n",
       "    }\n",
       "\n",
       "    .dataframe thead th {\n",
       "        text-align: right;\n",
       "    }\n",
       "</style>\n",
       "<table border=\"1\" class=\"dataframe\">\n",
       "  <thead>\n",
       "    <tr style=\"text-align: right;\">\n",
       "      <th></th>\n",
       "      <th>city</th>\n",
       "      <th>bd</th>\n",
       "      <th>registered_via</th>\n",
       "      <th>registration_init_time</th>\n",
       "    </tr>\n",
       "  </thead>\n",
       "  <tbody>\n",
       "    <tr>\n",
       "      <th>count</th>\n",
       "      <td>6.769473e+06</td>\n",
       "      <td>6.769473e+06</td>\n",
       "      <td>6.769473e+06</td>\n",
       "      <td>6.769473e+06</td>\n",
       "    </tr>\n",
       "    <tr>\n",
       "      <th>mean</th>\n",
       "      <td>3.847358e+00</td>\n",
       "      <td>9.795794e+00</td>\n",
       "      <td>5.253069e+00</td>\n",
       "      <td>2.014518e+07</td>\n",
       "    </tr>\n",
       "    <tr>\n",
       "      <th>std</th>\n",
       "      <td>5.478359e+00</td>\n",
       "      <td>1.792590e+01</td>\n",
       "      <td>2.361398e+00</td>\n",
       "      <td>2.318601e+04</td>\n",
       "    </tr>\n",
       "    <tr>\n",
       "      <th>min</th>\n",
       "      <td>1.000000e+00</td>\n",
       "      <td>-7.168000e+03</td>\n",
       "      <td>-1.000000e+00</td>\n",
       "      <td>2.004033e+07</td>\n",
       "    </tr>\n",
       "    <tr>\n",
       "      <th>25%</th>\n",
       "      <td>1.000000e+00</td>\n",
       "      <td>0.000000e+00</td>\n",
       "      <td>4.000000e+00</td>\n",
       "      <td>2.014042e+07</td>\n",
       "    </tr>\n",
       "    <tr>\n",
       "      <th>50%</th>\n",
       "      <td>1.000000e+00</td>\n",
       "      <td>0.000000e+00</td>\n",
       "      <td>4.000000e+00</td>\n",
       "      <td>2.015101e+07</td>\n",
       "    </tr>\n",
       "    <tr>\n",
       "      <th>75%</th>\n",
       "      <td>4.000000e+00</td>\n",
       "      <td>2.100000e+01</td>\n",
       "      <td>7.000000e+00</td>\n",
       "      <td>2.016060e+07</td>\n",
       "    </tr>\n",
       "    <tr>\n",
       "      <th>max</th>\n",
       "      <td>2.200000e+01</td>\n",
       "      <td>2.016000e+03</td>\n",
       "      <td>1.900000e+01</td>\n",
       "      <td>2.017043e+07</td>\n",
       "    </tr>\n",
       "  </tbody>\n",
       "</table>\n",
       "</div>"
      ],
      "text/plain": [
       "               city            bd  registered_via  registration_init_time\n",
       "count  6.769473e+06  6.769473e+06    6.769473e+06            6.769473e+06\n",
       "mean   3.847358e+00  9.795794e+00    5.253069e+00            2.014518e+07\n",
       "std    5.478359e+00  1.792590e+01    2.361398e+00            2.318601e+04\n",
       "min    1.000000e+00 -7.168000e+03   -1.000000e+00            2.004033e+07\n",
       "25%    1.000000e+00  0.000000e+00    4.000000e+00            2.014042e+07\n",
       "50%    1.000000e+00  0.000000e+00    4.000000e+00            2.015101e+07\n",
       "75%    4.000000e+00  2.100000e+01    7.000000e+00            2.016060e+07\n",
       "max    2.200000e+01  2.016000e+03    1.900000e+01            2.017043e+07"
      ]
     },
     "execution_count": 60,
     "metadata": {},
     "output_type": "execute_result"
    }
   ],
   "source": [
    "members_df.describe()"
   ]
  },
  {
   "cell_type": "code",
   "execution_count": 61,
   "metadata": {},
   "outputs": [
    {
     "data": {
      "text/plain": [
       "msno                               0\n",
       "city                               0\n",
       "bd                                 0\n",
       "gender                       4429505\n",
       "registered_via                     0\n",
       "registration_init_time             0\n",
       "registration_init_time_dt          0\n",
       "dtype: int64"
      ]
     },
     "execution_count": 61,
     "metadata": {},
     "output_type": "execute_result"
    }
   ],
   "source": [
    "members_df.isnull().sum()"
   ]
  },
  {
   "cell_type": "code",
   "execution_count": 62,
   "metadata": {},
   "outputs": [],
   "source": [
    "members_df['gender'].fillna('missing', inplace=True)"
   ]
  },
  {
   "cell_type": "code",
   "execution_count": 63,
   "metadata": {
    "scrolled": true
   },
   "outputs": [
    {
     "data": {
      "image/png": "[encoded data removed]",
      "text/plain": [
       "<Figure size 288x432 with 1 Axes>"
      ]
     },
     "metadata": {},
     "output_type": "display_data"
    }
   ],
   "source": [
    "plt.figure(figsize=(4,6))\n",
    "sns.countplot(x='gender', data=members_df, palette='Set1')\n",
    "plt.tight_layout()"
   ]
  },
  {
   "cell_type": "code",
   "execution_count": 64,
   "metadata": {},
   "outputs": [
    {
     "name": "stdout",
     "output_type": "stream",
     "text": [
      "<class 'pandas.core.frame.DataFrame'>\n",
      "RangeIndex: 6769473 entries, 0 to 6769472\n",
      "Data columns (total 7 columns):\n",
      " #   Column                     Non-Null Count    Dtype         \n",
      "---  ------                     --------------    -----         \n",
      " 0   msno                       6769473 non-null  object        \n",
      " 1   city                       6769473 non-null  int64         \n",
      " 2   bd                         6769473 non-null  int64         \n",
      " 3   gender                     6769473 non-null  object        \n",
      " 4   registered_via             6769473 non-null  int64         \n",
      " 5   registration_init_time     6769473 non-null  int64         \n",
      " 6   registration_init_time_dt  6769473 non-null  datetime64[ns]\n",
      "dtypes: datetime64[ns](1), int64(4), object(2)\n",
      "memory usage: 1.3 GB\n"
     ]
    }
   ],
   "source": [
    "members_df.info(verbose=True, null_counts=True, memory_usage='deep')"
   ]
  },
  {
   "cell_type": "markdown",
   "metadata": {},
   "source": [
    "### Remove obvious outliers"
   ]
  },
  {
   "cell_type": "code",
   "execution_count": 65,
   "metadata": {},
   "outputs": [],
   "source": [
    "members_df.loc[(members_df['bd']<=0) | (members_df['bd']>=100), 'bd'] = np.nan"
   ]
  },
  {
   "cell_type": "code",
   "execution_count": 66,
   "metadata": {},
   "outputs": [
    {
     "data": {
      "text/html": [
       "<div>\n",
       "<style scoped>\n",
       "    .dataframe tbody tr th:only-of-type {\n",
       "        vertical-align: middle;\n",
       "    }\n",
       "\n",
       "    .dataframe tbody tr th {\n",
       "        vertical-align: top;\n",
       "    }\n",
       "\n",
       "    .dataframe thead th {\n",
       "        text-align: right;\n",
       "    }\n",
       "</style>\n",
       "<table border=\"1\" class=\"dataframe\">\n",
       "  <thead>\n",
       "    <tr style=\"text-align: right;\">\n",
       "      <th></th>\n",
       "      <th>city</th>\n",
       "      <th>bd</th>\n",
       "      <th>registered_via</th>\n",
       "      <th>registration_init_time</th>\n",
       "    </tr>\n",
       "  </thead>\n",
       "  <tbody>\n",
       "    <tr>\n",
       "      <th>count</th>\n",
       "      <td>6.769473e+06</td>\n",
       "      <td>2.223464e+06</td>\n",
       "      <td>6.769473e+06</td>\n",
       "      <td>6.769473e+06</td>\n",
       "    </tr>\n",
       "    <tr>\n",
       "      <th>mean</th>\n",
       "      <td>3.847358e+00</td>\n",
       "      <td>2.948319e+01</td>\n",
       "      <td>5.253069e+00</td>\n",
       "      <td>2.014518e+07</td>\n",
       "    </tr>\n",
       "    <tr>\n",
       "      <th>std</th>\n",
       "      <td>5.478359e+00</td>\n",
       "      <td>1.052334e+01</td>\n",
       "      <td>2.361398e+00</td>\n",
       "      <td>2.318601e+04</td>\n",
       "    </tr>\n",
       "    <tr>\n",
       "      <th>min</th>\n",
       "      <td>1.000000e+00</td>\n",
       "      <td>1.000000e+00</td>\n",
       "      <td>-1.000000e+00</td>\n",
       "      <td>2.004033e+07</td>\n",
       "    </tr>\n",
       "    <tr>\n",
       "      <th>25%</th>\n",
       "      <td>1.000000e+00</td>\n",
       "      <td>2.200000e+01</td>\n",
       "      <td>4.000000e+00</td>\n",
       "      <td>2.014042e+07</td>\n",
       "    </tr>\n",
       "    <tr>\n",
       "      <th>50%</th>\n",
       "      <td>1.000000e+00</td>\n",
       "      <td>2.700000e+01</td>\n",
       "      <td>4.000000e+00</td>\n",
       "      <td>2.015101e+07</td>\n",
       "    </tr>\n",
       "    <tr>\n",
       "      <th>75%</th>\n",
       "      <td>4.000000e+00</td>\n",
       "      <td>3.500000e+01</td>\n",
       "      <td>7.000000e+00</td>\n",
       "      <td>2.016060e+07</td>\n",
       "    </tr>\n",
       "    <tr>\n",
       "      <th>max</th>\n",
       "      <td>2.200000e+01</td>\n",
       "      <td>9.900000e+01</td>\n",
       "      <td>1.900000e+01</td>\n",
       "      <td>2.017043e+07</td>\n",
       "    </tr>\n",
       "  </tbody>\n",
       "</table>\n",
       "</div>"
      ],
      "text/plain": [
       "               city            bd  registered_via  registration_init_time\n",
       "count  6.769473e+06  2.223464e+06    6.769473e+06            6.769473e+06\n",
       "mean   3.847358e+00  2.948319e+01    5.253069e+00            2.014518e+07\n",
       "std    5.478359e+00  1.052334e+01    2.361398e+00            2.318601e+04\n",
       "min    1.000000e+00  1.000000e+00   -1.000000e+00            2.004033e+07\n",
       "25%    1.000000e+00  2.200000e+01    4.000000e+00            2.014042e+07\n",
       "50%    1.000000e+00  2.700000e+01    4.000000e+00            2.015101e+07\n",
       "75%    4.000000e+00  3.500000e+01    7.000000e+00            2.016060e+07\n",
       "max    2.200000e+01  9.900000e+01    1.900000e+01            2.017043e+07"
      ]
     },
     "execution_count": 66,
     "metadata": {},
     "output_type": "execute_result"
    }
   ],
   "source": [
    "members_df.describe()"
   ]
  },
  {
   "cell_type": "code",
   "execution_count": 67,
   "metadata": {},
   "outputs": [
    {
     "data": {
      "text/plain": [
       "6769473"
      ]
     },
     "execution_count": 67,
     "metadata": {},
     "output_type": "execute_result"
    }
   ],
   "source": [
    "members_df.msno.nunique()"
   ]
  },
  {
   "cell_type": "code",
   "execution_count": 68,
   "metadata": {},
   "outputs": [
    {
     "data": {
      "text/plain": [
       "857038"
      ]
     },
     "execution_count": 68,
     "metadata": {},
     "output_type": "execute_result"
    }
   ],
   "source": [
    "members_user_df = members_df[members_df['msno'].isin(list(users))]\n",
    "members_user_df.msno.nunique()"
   ]
  },
  {
   "cell_type": "code",
   "execution_count": 69,
   "metadata": {
    "scrolled": true
   },
   "outputs": [
    {
     "data": {
      "image/png": "[encoded data removed]",
      "text/plain": [
       "<Figure size 576x432 with 4 Axes>"
      ]
     },
     "metadata": {},
     "output_type": "display_data"
    }
   ],
   "source": [
    "members_user_df.hist(figsize=(8,6))\n",
    "plt.tight_layout();"
   ]
  },
  {
   "cell_type": "code",
   "execution_count": 70,
   "metadata": {
    "scrolled": false
   },
   "outputs": [
    {
     "data": {
      "image/png": "[encoded data removed]",
      "text/plain": [
       "<Figure size 432x288 with 1 Axes>"
      ]
     },
     "metadata": {},
     "output_type": "display_data"
    }
   ],
   "source": [
    "members_user_df['bd'].plot(kind='box', figsize=(6, 4))\n",
    "plt.tight_layout();"
   ]
  },
  {
   "cell_type": "code",
   "execution_count": 71,
   "metadata": {},
   "outputs": [],
   "source": [
    "with open('Data/members_clean.pickle', 'wb') as handle:\n",
    "    pickle.dump(members_user_df, handle)"
   ]
  },
  {
   "cell_type": "code",
   "execution_count": null,
   "metadata": {},
   "outputs": [],
   "source": []
  },
  {
   "cell_type": "code",
   "execution_count": null,
   "metadata": {},
   "outputs": [],
   "source": []
  }
 ],
 "metadata": {
  "kernelspec": {
   "display_name": "Python 3",
   "language": "python",
   "name": "python3"
  },
  "language_info": {
   "codemirror_mode": {
    "name": "ipython",
    "version": 3
   },
   "file_extension": ".py",
   "mimetype": "text/x-python",
   "name": "python",
   "nbconvert_exporter": "python",
   "pygments_lexer": "ipython3",
   "version": "3.8.5"
  }
 },
 "nbformat": 4,
 "nbformat_minor": 2
}
