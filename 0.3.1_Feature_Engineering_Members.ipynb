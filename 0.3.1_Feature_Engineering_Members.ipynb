{
 "cells": [
  {
   "cell_type": "code",
   "execution_count": 1,
   "metadata": {},
   "outputs": [],
   "source": [
    "import warnings\n",
    "warnings.filterwarnings('ignore')"
   ]
  },
  {
   "cell_type": "code",
   "execution_count": 2,
   "metadata": {},
   "outputs": [],
   "source": [
    "import pandas as pd\n",
    "import numpy as np\n",
    "\n",
    "import matplotlib.pyplot as plt \n",
    "import matplotlib as mpl \n",
    "mpl.rcParams['figure.dpi'] = 400 # figure dots per inch\n",
    "%matplotlib inline\n",
    "\n",
    "import seaborn as sns\n",
    "sns.set()"
   ]
  },
  {
   "cell_type": "code",
   "execution_count": 3,
   "metadata": {},
   "outputs": [
    {
     "data": {
      "text/html": [
       "<div>\n",
       "<style scoped>\n",
       "    .dataframe tbody tr th:only-of-type {\n",
       "        vertical-align: middle;\n",
       "    }\n",
       "\n",
       "    .dataframe tbody tr th {\n",
       "        vertical-align: top;\n",
       "    }\n",
       "\n",
       "    .dataframe thead th {\n",
       "        text-align: right;\n",
       "    }\n",
       "</style>\n",
       "<table border=\"1\" class=\"dataframe\">\n",
       "  <thead>\n",
       "    <tr style=\"text-align: right;\">\n",
       "      <th></th>\n",
       "      <th>msno</th>\n",
       "      <th>city</th>\n",
       "      <th>bd</th>\n",
       "      <th>gender</th>\n",
       "      <th>registered_via</th>\n",
       "      <th>registration_init_time</th>\n",
       "      <th>registration_init_time_dt</th>\n",
       "    </tr>\n",
       "  </thead>\n",
       "  <tbody>\n",
       "    <tr>\n",
       "      <th>1</th>\n",
       "      <td>+tJonkh+O1CA796Fm5X60UMOtB6POHAwPjbTRVl/EuU=</td>\n",
       "      <td>1</td>\n",
       "      <td>NaN</td>\n",
       "      <td>missing</td>\n",
       "      <td>7</td>\n",
       "      <td>20110914</td>\n",
       "      <td>2011-09-14</td>\n",
       "    </tr>\n",
       "    <tr>\n",
       "      <th>7</th>\n",
       "      <td>WH5Jq4mgtfUFXh2yz+HrcTXKS4Oess4k4W3qKolAeb0=</td>\n",
       "      <td>5</td>\n",
       "      <td>34.0</td>\n",
       "      <td>male</td>\n",
       "      <td>9</td>\n",
       "      <td>20110916</td>\n",
       "      <td>2011-09-16</td>\n",
       "    </tr>\n",
       "    <tr>\n",
       "      <th>9</th>\n",
       "      <td>I0yFvqMoNkM8ZNHb617e1RBzIS/YRKemHO7Wj13EtA0=</td>\n",
       "      <td>13</td>\n",
       "      <td>63.0</td>\n",
       "      <td>male</td>\n",
       "      <td>9</td>\n",
       "      <td>20110918</td>\n",
       "      <td>2011-09-18</td>\n",
       "    </tr>\n",
       "    <tr>\n",
       "      <th>10</th>\n",
       "      <td>OoDwiKZM+ZGr9P3fRivavgOtglTEaNfWJO4KaJcTTts=</td>\n",
       "      <td>1</td>\n",
       "      <td>NaN</td>\n",
       "      <td>missing</td>\n",
       "      <td>7</td>\n",
       "      <td>20110918</td>\n",
       "      <td>2011-09-18</td>\n",
       "    </tr>\n",
       "    <tr>\n",
       "      <th>13</th>\n",
       "      <td>4De1jAxNRABoyRBDZ82U0yEmzYkqeOugRGVNIf92Xb8=</td>\n",
       "      <td>4</td>\n",
       "      <td>28.0</td>\n",
       "      <td>female</td>\n",
       "      <td>9</td>\n",
       "      <td>20110920</td>\n",
       "      <td>2011-09-20</td>\n",
       "    </tr>\n",
       "  </tbody>\n",
       "</table>\n",
       "</div>"
      ],
      "text/plain": [
       "                                            msno  city    bd   gender  \\\n",
       "1   +tJonkh+O1CA796Fm5X60UMOtB6POHAwPjbTRVl/EuU=     1   NaN  missing   \n",
       "7   WH5Jq4mgtfUFXh2yz+HrcTXKS4Oess4k4W3qKolAeb0=     5  34.0     male   \n",
       "9   I0yFvqMoNkM8ZNHb617e1RBzIS/YRKemHO7Wj13EtA0=    13  63.0     male   \n",
       "10  OoDwiKZM+ZGr9P3fRivavgOtglTEaNfWJO4KaJcTTts=     1   NaN  missing   \n",
       "13  4De1jAxNRABoyRBDZ82U0yEmzYkqeOugRGVNIf92Xb8=     4  28.0   female   \n",
       "\n",
       "    registered_via  registration_init_time registration_init_time_dt  \n",
       "1                7                20110914                2011-09-14  \n",
       "7                9                20110916                2011-09-16  \n",
       "9                9                20110918                2011-09-18  \n",
       "10               7                20110918                2011-09-18  \n",
       "13               9                20110920                2011-09-20  "
      ]
     },
     "execution_count": 3,
     "metadata": {},
     "output_type": "execute_result"
    }
   ],
   "source": [
    "# Load members\n",
    "members_df = pd.read_pickle('Data/members_clean.pickle')\n",
    "members_df.head()"
   ]
  },
  {
   "cell_type": "code",
   "execution_count": 4,
   "metadata": {},
   "outputs": [
    {
     "name": "stdout",
     "output_type": "stream",
     "text": [
      "<class 'pandas.core.frame.DataFrame'>\n",
      "Int64Index: 857038 entries, 1 to 6769469\n",
      "Data columns (total 7 columns):\n",
      " #   Column                     Non-Null Count   Dtype         \n",
      "---  ------                     --------------   -----         \n",
      " 0   msno                       857038 non-null  object        \n",
      " 1   city                       857038 non-null  int64         \n",
      " 2   bd                         359028 non-null  float64       \n",
      " 3   gender                     857038 non-null  object        \n",
      " 4   registered_via             857038 non-null  int64         \n",
      " 5   registration_init_time     857038 non-null  int64         \n",
      " 6   registration_init_time_dt  857038 non-null  datetime64[ns]\n",
      "dtypes: datetime64[ns](1), float64(1), int64(3), object(2)\n",
      "memory usage: 52.3+ MB\n"
     ]
    }
   ],
   "source": [
    "members_df.info()"
   ]
  },
  {
   "cell_type": "code",
   "execution_count": 5,
   "metadata": {},
   "outputs": [
    {
     "data": {
      "text/plain": [
       "msno                              0\n",
       "city                              0\n",
       "bd                           498010\n",
       "gender                            0\n",
       "registered_via                    0\n",
       "registration_init_time            0\n",
       "registration_init_time_dt         0\n",
       "dtype: int64"
      ]
     },
     "execution_count": 5,
     "metadata": {},
     "output_type": "execute_result"
    }
   ],
   "source": [
    "members_df.isnull().sum()"
   ]
  },
  {
   "cell_type": "code",
   "execution_count": 6,
   "metadata": {},
   "outputs": [
    {
     "data": {
      "text/plain": [
       "msno                         857038\n",
       "city                             21\n",
       "bd                               99\n",
       "gender                            3\n",
       "registered_via                    5\n",
       "registration_init_time         4723\n",
       "registration_init_time_dt      4723\n",
       "dtype: int64"
      ]
     },
     "execution_count": 6,
     "metadata": {},
     "output_type": "execute_result"
    }
   ],
   "source": [
    "members_df.nunique()"
   ]
  },
  {
   "cell_type": "code",
   "execution_count": 7,
   "metadata": {
    "scrolled": true
   },
   "outputs": [
    {
     "data": {
      "text/plain": [
       "1     0.550910\n",
       "13    0.103621\n",
       "5     0.080160\n",
       "4     0.053462\n",
       "22    0.043664\n",
       "15    0.042374\n",
       "6     0.027384\n",
       "14    0.020745\n",
       "12    0.013229\n",
       "9     0.010015\n",
       "8     0.008577\n",
       "11    0.008494\n",
       "18    0.008198\n",
       "10    0.007041\n",
       "21    0.006035\n",
       "3     0.005742\n",
       "17    0.005621\n",
       "7     0.002666\n",
       "16    0.001078\n",
       "20    0.000816\n",
       "19    0.000169\n",
       "Name: city, dtype: float64"
      ]
     },
     "execution_count": 7,
     "metadata": {},
     "output_type": "execute_result"
    }
   ],
   "source": [
    "city_freq = members_df.city.value_counts(normalize=True)\n",
    "city_freq"
   ]
  },
  {
   "cell_type": "code",
   "execution_count": 8,
   "metadata": {},
   "outputs": [
    {
     "data": {
      "text/plain": [
       "22    0.043664\n",
       "15    0.042374\n",
       "6     0.027384\n",
       "14    0.020745\n",
       "12    0.013229\n",
       "9     0.010015\n",
       "8     0.008577\n",
       "11    0.008494\n",
       "18    0.008198\n",
       "10    0.007041\n",
       "21    0.006035\n",
       "3     0.005742\n",
       "17    0.005621\n",
       "7     0.002666\n",
       "16    0.001078\n",
       "20    0.000816\n",
       "19    0.000169\n",
       "Name: city, dtype: float64"
      ]
     },
     "execution_count": 8,
     "metadata": {},
     "output_type": "execute_result"
    }
   ],
   "source": [
    "# 80-20 rule\n",
    "bottom_cities = city_freq.quantile(q=0.8)\n",
    "less_freq_cities = city_freq[city_freq<=bottom_cities]\n",
    "less_freq_cities "
   ]
  },
  {
   "cell_type": "code",
   "execution_count": 9,
   "metadata": {},
   "outputs": [
    {
     "data": {
      "text/plain": [
       "1              city_1\n",
       "7              city_5\n",
       "9             city_13\n",
       "10             city_1\n",
       "13             city_4\n",
       "              ...    \n",
       "6769443        city_1\n",
       "6769465        city_1\n",
       "6769466        city_1\n",
       "6769467    city_other\n",
       "6769469        city_1\n",
       "Name: city, Length: 857038, dtype: object"
      ]
     },
     "execution_count": 9,
     "metadata": {},
     "output_type": "execute_result"
    }
   ],
   "source": [
    "members_df.loc[members_df['city'].isin(less_freq_cities.index.tolist()), 'city'] = 'other'\n",
    "members_df['city'] = members_df['city'].apply(lambda x: \"{}{}\".format('city_', x))\n",
    "members_df['city']"
   ]
  },
  {
   "cell_type": "code",
   "execution_count": 10,
   "metadata": {},
   "outputs": [
    {
     "data": {
      "text/plain": [
       "7     481482\n",
       "9     210378\n",
       "3     103910\n",
       "4      58014\n",
       "13      3254\n",
       "Name: registered_via, dtype: int64"
      ]
     },
     "execution_count": 10,
     "metadata": {},
     "output_type": "execute_result"
    }
   ],
   "source": [
    "members_df.registered_via.value_counts()"
   ]
  },
  {
   "cell_type": "code",
   "execution_count": 11,
   "metadata": {},
   "outputs": [
    {
     "data": {
      "text/plain": [
       "1          registered_via_7\n",
       "7          registered_via_9\n",
       "9          registered_via_9\n",
       "10         registered_via_7\n",
       "13         registered_via_9\n",
       "                 ...       \n",
       "6769443    registered_via_7\n",
       "6769465    registered_via_7\n",
       "6769466    registered_via_7\n",
       "6769467    registered_via_7\n",
       "6769469    registered_via_7\n",
       "Name: registered_via, Length: 857038, dtype: object"
      ]
     },
     "execution_count": 11,
     "metadata": {},
     "output_type": "execute_result"
    }
   ],
   "source": [
    "members_df['registered_via'] = members_df['registered_via'].apply(lambda x: \"{}{}\".format('registered_via_', x))\n",
    "members_df['registered_via']"
   ]
  },
  {
   "cell_type": "code",
   "execution_count": 12,
   "metadata": {},
   "outputs": [
    {
     "data": {
      "text/plain": [
       "((879537, 2), (886500, 2), (907471, 2))"
      ]
     },
     "execution_count": 12,
     "metadata": {},
     "output_type": "execute_result"
    }
   ],
   "source": [
    "users_feb = pd.read_pickle('Data/train_v1_scala_clean.pickle')\n",
    "users_mar = pd.read_pickle('Data/train_v2_scala_clean.pickle')\n",
    "users_apr = pd.read_csv('sample_submission_v2.csv')\n",
    "users_feb.shape, \\\n",
    "users_mar.shape, \\\n",
    "users_apr.shape"
   ]
  },
  {
   "cell_type": "code",
   "execution_count": 13,
   "metadata": {},
   "outputs": [],
   "source": [
    "members_feb = pd.merge(users_feb.drop('is_churn', axis=1), members_df, on='msno', how='left')\n",
    "members_mar = pd.merge(users_mar.drop('is_churn', axis=1), members_df, on='msno', how='left')\n",
    "members_apr = pd.merge(users_apr.drop('is_churn', axis=1), members_df, on='msno', how='left')"
   ]
  },
  {
   "cell_type": "code",
   "execution_count": 14,
   "metadata": {},
   "outputs": [
    {
     "data": {
      "text/plain": [
       "((879537, 7), (886500, 7), (907471, 7))"
      ]
     },
     "execution_count": 14,
     "metadata": {},
     "output_type": "execute_result"
    }
   ],
   "source": [
    "members_feb.shape, \\\n",
    "members_mar.shape, \\\n",
    "members_apr.shape"
   ]
  },
  {
   "cell_type": "code",
   "execution_count": 15,
   "metadata": {},
   "outputs": [
    {
     "data": {
      "text/plain": [
       "msno                              0\n",
       "city                         110860\n",
       "bd                           571405\n",
       "gender                       110860\n",
       "registered_via               110860\n",
       "registration_init_time       110860\n",
       "registration_init_time_dt    110860\n",
       "dtype: int64"
      ]
     },
     "execution_count": 15,
     "metadata": {},
     "output_type": "execute_result"
    }
   ],
   "source": [
    "members_feb.isnull().sum()"
   ]
  },
  {
   "cell_type": "code",
   "execution_count": 16,
   "metadata": {},
   "outputs": [
    {
     "data": {
      "text/plain": [
       "msno                              0\n",
       "city                         108749\n",
       "bd                           572692\n",
       "gender                       108749\n",
       "registered_via               108749\n",
       "registration_init_time       108749\n",
       "registration_init_time_dt    108749\n",
       "dtype: int64"
      ]
     },
     "execution_count": 16,
     "metadata": {},
     "output_type": "execute_result"
    }
   ],
   "source": [
    "members_mar.isnull().sum()"
   ]
  },
  {
   "cell_type": "code",
   "execution_count": 17,
   "metadata": {},
   "outputs": [
    {
     "data": {
      "text/plain": [
       "msno                              0\n",
       "city                         171727\n",
       "bd                           627659\n",
       "gender                       171727\n",
       "registered_via               171727\n",
       "registration_init_time       171727\n",
       "registration_init_time_dt    171727\n",
       "dtype: int64"
      ]
     },
     "execution_count": 17,
     "metadata": {},
     "output_type": "execute_result"
    }
   ],
   "source": [
    "members_apr.isnull().sum()"
   ]
  },
  {
   "cell_type": "code",
   "execution_count": 18,
   "metadata": {},
   "outputs": [],
   "source": [
    "from datetime import datetime\n",
    "\n",
    "# create a 'member_for_days' column - relative to beginning of month in which they churn\n",
    "feb_today = datetime(2017, 2, 1)\n",
    "mar_today = datetime(2017, 3, 1)\n",
    "apr_today = datetime(2017, 4, 1)\n",
    "\n",
    "members_feb['member_for_days'] = feb_today - members_feb['registration_init_time_dt']\n",
    "members_mar['member_for_days'] = mar_today - members_mar['registration_init_time_dt']\n",
    "members_apr['member_for_days'] = apr_today - members_apr['registration_init_time_dt']\n",
    "members_feb['member_for_days'] = members_feb['member_for_days'].dt.days\n",
    "members_mar['member_for_days'] = members_mar['member_for_days'].dt.days\n",
    "members_apr['member_for_days'] = members_apr['member_for_days'].dt.days"
   ]
  },
  {
   "cell_type": "code",
   "execution_count": 19,
   "metadata": {},
   "outputs": [
    {
     "data": {
      "text/plain": [
       "0     933.0\n",
       "1       NaN\n",
       "2    3896.0\n",
       "3    4691.0\n",
       "4    3238.0\n",
       "Name: member_for_days, dtype: float64"
      ]
     },
     "execution_count": 19,
     "metadata": {},
     "output_type": "execute_result"
    }
   ],
   "source": [
    "members_feb['member_for_days'].head()"
   ]
  },
  {
   "cell_type": "code",
   "execution_count": 20,
   "metadata": {},
   "outputs": [
    {
     "data": {
      "text/plain": [
       "0     961.0\n",
       "1       NaN\n",
       "2       NaN\n",
       "3    3924.0\n",
       "4    4719.0\n",
       "Name: member_for_days, dtype: float64"
      ]
     },
     "execution_count": 20,
     "metadata": {},
     "output_type": "execute_result"
    }
   ],
   "source": [
    "members_mar['member_for_days'].head()"
   ]
  },
  {
   "cell_type": "code",
   "execution_count": 21,
   "metadata": {},
   "outputs": [
    {
     "data": {
      "text/plain": [
       "0     623.0\n",
       "1    4171.0\n",
       "2     882.0\n",
       "3       NaN\n",
       "4     100.0\n",
       "Name: member_for_days, dtype: float64"
      ]
     },
     "execution_count": 21,
     "metadata": {},
     "output_type": "execute_result"
    }
   ],
   "source": [
    "members_apr['member_for_days'].head()"
   ]
  },
  {
   "cell_type": "code",
   "execution_count": 22,
   "metadata": {},
   "outputs": [],
   "source": [
    "day_dict = {0: 'Mon',\n",
    "            1: 'Tue',\n",
    "            2: 'Wed',\n",
    "            3: 'Thu',\n",
    "            4: 'Fri',\n",
    "            5: 'Sat',\n",
    "            6: 'Sun'}\n",
    "month_dict = {1: 'Jan',\n",
    "             2: 'Feb',\n",
    "             3: 'Mar',\n",
    "             4: 'Apr',\n",
    "             5: 'May',\n",
    "             6: 'Jun',\n",
    "             7: 'Jul',\n",
    "             8: 'Aug',\n",
    "             9: 'Sep',\n",
    "             10: 'Oct',\n",
    "             11: 'Nov',\n",
    "             12: 'Dec'}\n",
    "\n",
    "members_feb['registration_init_day'] = members_feb['registration_init_time_dt'].dt.weekday.map(day_dict)\n",
    "members_mar['registration_init_day'] = members_mar['registration_init_time_dt'].dt.weekday.map(day_dict)\n",
    "members_apr['registration_init_day'] = members_apr['registration_init_time_dt'].dt.weekday.map(day_dict)\n",
    "\n",
    "members_feb['registration_init_month'] = members_feb['registration_init_time_dt'].dt.month.map(month_dict)\n",
    "members_mar['registration_init_month'] = members_mar['registration_init_time_dt'].dt.month.map(month_dict)\n",
    "members_apr['registration_init_month'] = members_apr['registration_init_time_dt'].dt.month.map(month_dict)\n",
    "\n",
    "members_feb['registration_init_year'] = members_feb['registration_init_time_dt'].dt.year\n",
    "members_mar['registration_init_year'] = members_mar['registration_init_time_dt'].dt.year\n",
    "members_apr['registration_init_year'] = members_apr['registration_init_time_dt'].dt.year"
   ]
  },
  {
   "cell_type": "code",
   "execution_count": 23,
   "metadata": {},
   "outputs": [],
   "source": [
    "members_feb = members_feb.drop('registration_init_time_dt', axis=1)\n",
    "members_mar = members_mar.drop('registration_init_time_dt', axis=1)\n",
    "members_apr = members_apr.drop('registration_init_time_dt', axis=1)"
   ]
  },
  {
   "cell_type": "code",
   "execution_count": 24,
   "metadata": {},
   "outputs": [
    {
     "data": {
      "text/html": [
       "<div>\n",
       "<style scoped>\n",
       "    .dataframe tbody tr th:only-of-type {\n",
       "        vertical-align: middle;\n",
       "    }\n",
       "\n",
       "    .dataframe tbody tr th {\n",
       "        vertical-align: top;\n",
       "    }\n",
       "\n",
       "    .dataframe thead th {\n",
       "        text-align: right;\n",
       "    }\n",
       "</style>\n",
       "<table border=\"1\" class=\"dataframe\">\n",
       "  <thead>\n",
       "    <tr style=\"text-align: right;\">\n",
       "      <th></th>\n",
       "      <th>msno</th>\n",
       "      <th>city</th>\n",
       "      <th>bd</th>\n",
       "      <th>gender</th>\n",
       "      <th>registered_via</th>\n",
       "      <th>registration_init_time</th>\n",
       "      <th>member_for_days</th>\n",
       "      <th>registration_init_day</th>\n",
       "      <th>registration_init_month</th>\n",
       "      <th>registration_init_year</th>\n",
       "    </tr>\n",
       "  </thead>\n",
       "  <tbody>\n",
       "    <tr>\n",
       "      <th>0</th>\n",
       "      <td>++4RuqBw0Ss6bQU4oMxaRlbBPoWzoEiIZaxPM04Y4+U=</td>\n",
       "      <td>city_1</td>\n",
       "      <td>NaN</td>\n",
       "      <td>missing</td>\n",
       "      <td>registered_via_7</td>\n",
       "      <td>20140714.0</td>\n",
       "      <td>933.0</td>\n",
       "      <td>Mon</td>\n",
       "      <td>Jul</td>\n",
       "      <td>2014.0</td>\n",
       "    </tr>\n",
       "    <tr>\n",
       "      <th>1</th>\n",
       "      <td>+/HS8LzrRGXolKbxRzDLqrmwuXqPOYixBIPXkyNcKNI=</td>\n",
       "      <td>NaN</td>\n",
       "      <td>NaN</td>\n",
       "      <td>NaN</td>\n",
       "      <td>NaN</td>\n",
       "      <td>NaN</td>\n",
       "      <td>NaN</td>\n",
       "      <td>NaN</td>\n",
       "      <td>NaN</td>\n",
       "      <td>NaN</td>\n",
       "    </tr>\n",
       "    <tr>\n",
       "      <th>2</th>\n",
       "      <td>+/namlXq+u3izRjHCFJV4MgqcXcLidZYszVsROOq/y4=</td>\n",
       "      <td>city_other</td>\n",
       "      <td>31.0</td>\n",
       "      <td>male</td>\n",
       "      <td>registered_via_9</td>\n",
       "      <td>20060603.0</td>\n",
       "      <td>3896.0</td>\n",
       "      <td>Sat</td>\n",
       "      <td>Jun</td>\n",
       "      <td>2006.0</td>\n",
       "    </tr>\n",
       "    <tr>\n",
       "      <th>3</th>\n",
       "      <td>+0/X9tkmyHyet9X80G6GTrDFHnJqvai8d1ZPhayT0os=</td>\n",
       "      <td>city_other</td>\n",
       "      <td>31.0</td>\n",
       "      <td>male</td>\n",
       "      <td>registered_via_9</td>\n",
       "      <td>20040330.0</td>\n",
       "      <td>4691.0</td>\n",
       "      <td>Tue</td>\n",
       "      <td>Mar</td>\n",
       "      <td>2004.0</td>\n",
       "    </tr>\n",
       "    <tr>\n",
       "      <th>4</th>\n",
       "      <td>+09YGn842g6h2EZUXe0VWeC4bBoCbDGfUboitc0vIHw=</td>\n",
       "      <td>city_other</td>\n",
       "      <td>29.0</td>\n",
       "      <td>male</td>\n",
       "      <td>registered_via_9</td>\n",
       "      <td>20080322.0</td>\n",
       "      <td>3238.0</td>\n",
       "      <td>Sat</td>\n",
       "      <td>Mar</td>\n",
       "      <td>2008.0</td>\n",
       "    </tr>\n",
       "  </tbody>\n",
       "</table>\n",
       "</div>"
      ],
      "text/plain": [
       "                                           msno        city    bd   gender  \\\n",
       "0  ++4RuqBw0Ss6bQU4oMxaRlbBPoWzoEiIZaxPM04Y4+U=      city_1   NaN  missing   \n",
       "1  +/HS8LzrRGXolKbxRzDLqrmwuXqPOYixBIPXkyNcKNI=         NaN   NaN      NaN   \n",
       "2  +/namlXq+u3izRjHCFJV4MgqcXcLidZYszVsROOq/y4=  city_other  31.0     male   \n",
       "3  +0/X9tkmyHyet9X80G6GTrDFHnJqvai8d1ZPhayT0os=  city_other  31.0     male   \n",
       "4  +09YGn842g6h2EZUXe0VWeC4bBoCbDGfUboitc0vIHw=  city_other  29.0     male   \n",
       "\n",
       "     registered_via  registration_init_time  member_for_days  \\\n",
       "0  registered_via_7              20140714.0            933.0   \n",
       "1               NaN                     NaN              NaN   \n",
       "2  registered_via_9              20060603.0           3896.0   \n",
       "3  registered_via_9              20040330.0           4691.0   \n",
       "4  registered_via_9              20080322.0           3238.0   \n",
       "\n",
       "  registration_init_day registration_init_month  registration_init_year  \n",
       "0                   Mon                     Jul                  2014.0  \n",
       "1                   NaN                     NaN                     NaN  \n",
       "2                   Sat                     Jun                  2006.0  \n",
       "3                   Tue                     Mar                  2004.0  \n",
       "4                   Sat                     Mar                  2008.0  "
      ]
     },
     "execution_count": 24,
     "metadata": {},
     "output_type": "execute_result"
    }
   ],
   "source": [
    "members_feb.head()"
   ]
  },
  {
   "cell_type": "code",
   "execution_count": 25,
   "metadata": {},
   "outputs": [
    {
     "data": {
      "text/html": [
       "<div>\n",
       "<style scoped>\n",
       "    .dataframe tbody tr th:only-of-type {\n",
       "        vertical-align: middle;\n",
       "    }\n",
       "\n",
       "    .dataframe tbody tr th {\n",
       "        vertical-align: top;\n",
       "    }\n",
       "\n",
       "    .dataframe thead th {\n",
       "        text-align: right;\n",
       "    }\n",
       "</style>\n",
       "<table border=\"1\" class=\"dataframe\">\n",
       "  <thead>\n",
       "    <tr style=\"text-align: right;\">\n",
       "      <th></th>\n",
       "      <th>msno</th>\n",
       "      <th>city</th>\n",
       "      <th>bd</th>\n",
       "      <th>gender</th>\n",
       "      <th>registered_via</th>\n",
       "      <th>registration_init_time</th>\n",
       "      <th>member_for_days</th>\n",
       "      <th>registration_init_day</th>\n",
       "      <th>registration_init_month</th>\n",
       "      <th>registration_init_year</th>\n",
       "    </tr>\n",
       "  </thead>\n",
       "  <tbody>\n",
       "    <tr>\n",
       "      <th>0</th>\n",
       "      <td>++4RuqBw0Ss6bQU4oMxaRlbBPoWzoEiIZaxPM04Y4+U=</td>\n",
       "      <td>city_1</td>\n",
       "      <td>NaN</td>\n",
       "      <td>missing</td>\n",
       "      <td>registered_via_7</td>\n",
       "      <td>20140714.0</td>\n",
       "      <td>961.0</td>\n",
       "      <td>Mon</td>\n",
       "      <td>Jul</td>\n",
       "      <td>2014.0</td>\n",
       "    </tr>\n",
       "    <tr>\n",
       "      <th>1</th>\n",
       "      <td>+/HS8LzrRGXolKbxRzDLqrmwuXqPOYixBIPXkyNcKNI=</td>\n",
       "      <td>NaN</td>\n",
       "      <td>NaN</td>\n",
       "      <td>NaN</td>\n",
       "      <td>NaN</td>\n",
       "      <td>NaN</td>\n",
       "      <td>NaN</td>\n",
       "      <td>NaN</td>\n",
       "      <td>NaN</td>\n",
       "      <td>NaN</td>\n",
       "    </tr>\n",
       "    <tr>\n",
       "      <th>2</th>\n",
       "      <td>+/g9O3USecrC8npzaFHXW/2XJ7fB80SineiUoCg7M6o=</td>\n",
       "      <td>NaN</td>\n",
       "      <td>NaN</td>\n",
       "      <td>NaN</td>\n",
       "      <td>NaN</td>\n",
       "      <td>NaN</td>\n",
       "      <td>NaN</td>\n",
       "      <td>NaN</td>\n",
       "      <td>NaN</td>\n",
       "      <td>NaN</td>\n",
       "    </tr>\n",
       "    <tr>\n",
       "      <th>3</th>\n",
       "      <td>+/namlXq+u3izRjHCFJV4MgqcXcLidZYszVsROOq/y4=</td>\n",
       "      <td>city_other</td>\n",
       "      <td>31.0</td>\n",
       "      <td>male</td>\n",
       "      <td>registered_via_9</td>\n",
       "      <td>20060603.0</td>\n",
       "      <td>3924.0</td>\n",
       "      <td>Sat</td>\n",
       "      <td>Jun</td>\n",
       "      <td>2006.0</td>\n",
       "    </tr>\n",
       "    <tr>\n",
       "      <th>4</th>\n",
       "      <td>+0/X9tkmyHyet9X80G6GTrDFHnJqvai8d1ZPhayT0os=</td>\n",
       "      <td>city_other</td>\n",
       "      <td>31.0</td>\n",
       "      <td>male</td>\n",
       "      <td>registered_via_9</td>\n",
       "      <td>20040330.0</td>\n",
       "      <td>4719.0</td>\n",
       "      <td>Tue</td>\n",
       "      <td>Mar</td>\n",
       "      <td>2004.0</td>\n",
       "    </tr>\n",
       "  </tbody>\n",
       "</table>\n",
       "</div>"
      ],
      "text/plain": [
       "                                           msno        city    bd   gender  \\\n",
       "0  ++4RuqBw0Ss6bQU4oMxaRlbBPoWzoEiIZaxPM04Y4+U=      city_1   NaN  missing   \n",
       "1  +/HS8LzrRGXolKbxRzDLqrmwuXqPOYixBIPXkyNcKNI=         NaN   NaN      NaN   \n",
       "2  +/g9O3USecrC8npzaFHXW/2XJ7fB80SineiUoCg7M6o=         NaN   NaN      NaN   \n",
       "3  +/namlXq+u3izRjHCFJV4MgqcXcLidZYszVsROOq/y4=  city_other  31.0     male   \n",
       "4  +0/X9tkmyHyet9X80G6GTrDFHnJqvai8d1ZPhayT0os=  city_other  31.0     male   \n",
       "\n",
       "     registered_via  registration_init_time  member_for_days  \\\n",
       "0  registered_via_7              20140714.0            961.0   \n",
       "1               NaN                     NaN              NaN   \n",
       "2               NaN                     NaN              NaN   \n",
       "3  registered_via_9              20060603.0           3924.0   \n",
       "4  registered_via_9              20040330.0           4719.0   \n",
       "\n",
       "  registration_init_day registration_init_month  registration_init_year  \n",
       "0                   Mon                     Jul                  2014.0  \n",
       "1                   NaN                     NaN                     NaN  \n",
       "2                   NaN                     NaN                     NaN  \n",
       "3                   Sat                     Jun                  2006.0  \n",
       "4                   Tue                     Mar                  2004.0  "
      ]
     },
     "execution_count": 25,
     "metadata": {},
     "output_type": "execute_result"
    }
   ],
   "source": [
    "members_mar.head()"
   ]
  },
  {
   "cell_type": "code",
   "execution_count": 26,
   "metadata": {},
   "outputs": [
    {
     "data": {
      "text/html": [
       "<div>\n",
       "<style scoped>\n",
       "    .dataframe tbody tr th:only-of-type {\n",
       "        vertical-align: middle;\n",
       "    }\n",
       "\n",
       "    .dataframe tbody tr th {\n",
       "        vertical-align: top;\n",
       "    }\n",
       "\n",
       "    .dataframe thead th {\n",
       "        text-align: right;\n",
       "    }\n",
       "</style>\n",
       "<table border=\"1\" class=\"dataframe\">\n",
       "  <thead>\n",
       "    <tr style=\"text-align: right;\">\n",
       "      <th></th>\n",
       "      <th>msno</th>\n",
       "      <th>city</th>\n",
       "      <th>bd</th>\n",
       "      <th>gender</th>\n",
       "      <th>registered_via</th>\n",
       "      <th>registration_init_time</th>\n",
       "      <th>member_for_days</th>\n",
       "      <th>registration_init_day</th>\n",
       "      <th>registration_init_month</th>\n",
       "      <th>registration_init_year</th>\n",
       "    </tr>\n",
       "  </thead>\n",
       "  <tbody>\n",
       "    <tr>\n",
       "      <th>0</th>\n",
       "      <td>4n+fXlyJvfQnTeKXTWT507Ll4JVYGrOC8LHCfwBmPE4=</td>\n",
       "      <td>city_1</td>\n",
       "      <td>NaN</td>\n",
       "      <td>missing</td>\n",
       "      <td>registered_via_7</td>\n",
       "      <td>20150718.0</td>\n",
       "      <td>623.0</td>\n",
       "      <td>Sat</td>\n",
       "      <td>Jul</td>\n",
       "      <td>2015.0</td>\n",
       "    </tr>\n",
       "    <tr>\n",
       "      <th>1</th>\n",
       "      <td>aNmbC1GvFUxQyQUidCVmfbQ0YeCuwkPzEdQ0RwWyeZM=</td>\n",
       "      <td>city_4</td>\n",
       "      <td>28.0</td>\n",
       "      <td>male</td>\n",
       "      <td>registered_via_9</td>\n",
       "      <td>20051030.0</td>\n",
       "      <td>4171.0</td>\n",
       "      <td>Sun</td>\n",
       "      <td>Oct</td>\n",
       "      <td>2005.0</td>\n",
       "    </tr>\n",
       "    <tr>\n",
       "      <th>2</th>\n",
       "      <td>rFC9eSG/tMuzpre6cwcMLZHEYM89xY02qcz7HL4//jc=</td>\n",
       "      <td>city_4</td>\n",
       "      <td>34.0</td>\n",
       "      <td>male</td>\n",
       "      <td>registered_via_7</td>\n",
       "      <td>20141101.0</td>\n",
       "      <td>882.0</td>\n",
       "      <td>Sat</td>\n",
       "      <td>Nov</td>\n",
       "      <td>2014.0</td>\n",
       "    </tr>\n",
       "    <tr>\n",
       "      <th>3</th>\n",
       "      <td>WZ59dLyrQcE7ft06MZ5dj40BnlYQY7PHgg/54+HaCSE=</td>\n",
       "      <td>NaN</td>\n",
       "      <td>NaN</td>\n",
       "      <td>NaN</td>\n",
       "      <td>NaN</td>\n",
       "      <td>NaN</td>\n",
       "      <td>NaN</td>\n",
       "      <td>NaN</td>\n",
       "      <td>NaN</td>\n",
       "      <td>NaN</td>\n",
       "    </tr>\n",
       "    <tr>\n",
       "      <th>4</th>\n",
       "      <td>aky/Iv8hMp1/V/yQHLtaVuEmmAxkB5GuasQZePJ7NU4=</td>\n",
       "      <td>city_1</td>\n",
       "      <td>NaN</td>\n",
       "      <td>missing</td>\n",
       "      <td>registered_via_13</td>\n",
       "      <td>20161222.0</td>\n",
       "      <td>100.0</td>\n",
       "      <td>Thu</td>\n",
       "      <td>Dec</td>\n",
       "      <td>2016.0</td>\n",
       "    </tr>\n",
       "  </tbody>\n",
       "</table>\n",
       "</div>"
      ],
      "text/plain": [
       "                                           msno    city    bd   gender  \\\n",
       "0  4n+fXlyJvfQnTeKXTWT507Ll4JVYGrOC8LHCfwBmPE4=  city_1   NaN  missing   \n",
       "1  aNmbC1GvFUxQyQUidCVmfbQ0YeCuwkPzEdQ0RwWyeZM=  city_4  28.0     male   \n",
       "2  rFC9eSG/tMuzpre6cwcMLZHEYM89xY02qcz7HL4//jc=  city_4  34.0     male   \n",
       "3  WZ59dLyrQcE7ft06MZ5dj40BnlYQY7PHgg/54+HaCSE=     NaN   NaN      NaN   \n",
       "4  aky/Iv8hMp1/V/yQHLtaVuEmmAxkB5GuasQZePJ7NU4=  city_1   NaN  missing   \n",
       "\n",
       "      registered_via  registration_init_time  member_for_days  \\\n",
       "0   registered_via_7              20150718.0            623.0   \n",
       "1   registered_via_9              20051030.0           4171.0   \n",
       "2   registered_via_7              20141101.0            882.0   \n",
       "3                NaN                     NaN              NaN   \n",
       "4  registered_via_13              20161222.0            100.0   \n",
       "\n",
       "  registration_init_day registration_init_month  registration_init_year  \n",
       "0                   Sat                     Jul                  2015.0  \n",
       "1                   Sun                     Oct                  2005.0  \n",
       "2                   Sat                     Nov                  2014.0  \n",
       "3                   NaN                     NaN                     NaN  \n",
       "4                   Thu                     Dec                  2016.0  "
      ]
     },
     "execution_count": 26,
     "metadata": {},
     "output_type": "execute_result"
    }
   ],
   "source": [
    "members_apr.head()"
   ]
  },
  {
   "cell_type": "code",
   "execution_count": 27,
   "metadata": {},
   "outputs": [
    {
     "name": "stdout",
     "output_type": "stream",
     "text": [
      "<class 'pandas.core.frame.DataFrame'>\n",
      "Int64Index: 879537 entries, 0 to 879536\n",
      "Data columns (total 10 columns):\n",
      " #   Column                   Non-Null Count   Dtype  \n",
      "---  ------                   --------------   -----  \n",
      " 0   msno                     879537 non-null  object \n",
      " 1   city                     768677 non-null  object \n",
      " 2   bd                       308132 non-null  float64\n",
      " 3   gender                   768677 non-null  object \n",
      " 4   registered_via           768677 non-null  object \n",
      " 5   registration_init_time   768677 non-null  float64\n",
      " 6   member_for_days          768677 non-null  float64\n",
      " 7   registration_init_day    768677 non-null  object \n",
      " 8   registration_init_month  768677 non-null  object \n",
      " 9   registration_init_year   768677 non-null  float64\n",
      "dtypes: float64(4), object(6)\n",
      "memory usage: 73.8+ MB\n"
     ]
    }
   ],
   "source": [
    "members_feb.info()"
   ]
  },
  {
   "cell_type": "code",
   "execution_count": 28,
   "metadata": {
    "scrolled": true
   },
   "outputs": [
    {
     "name": "stdout",
     "output_type": "stream",
     "text": [
      "<class 'pandas.core.frame.DataFrame'>\n",
      "Int64Index: 886500 entries, 0 to 886499\n",
      "Data columns (total 10 columns):\n",
      " #   Column                   Non-Null Count   Dtype  \n",
      "---  ------                   --------------   -----  \n",
      " 0   msno                     886500 non-null  object \n",
      " 1   city                     777751 non-null  object \n",
      " 2   bd                       313808 non-null  float64\n",
      " 3   gender                   777751 non-null  object \n",
      " 4   registered_via           777751 non-null  object \n",
      " 5   registration_init_time   777751 non-null  float64\n",
      " 6   member_for_days          777751 non-null  float64\n",
      " 7   registration_init_day    777751 non-null  object \n",
      " 8   registration_init_month  777751 non-null  object \n",
      " 9   registration_init_year   777751 non-null  float64\n",
      "dtypes: float64(4), object(6)\n",
      "memory usage: 74.4+ MB\n"
     ]
    }
   ],
   "source": [
    "members_mar.info()"
   ]
  },
  {
   "cell_type": "code",
   "execution_count": 29,
   "metadata": {},
   "outputs": [
    {
     "name": "stdout",
     "output_type": "stream",
     "text": [
      "<class 'pandas.core.frame.DataFrame'>\n",
      "Int64Index: 907471 entries, 0 to 907470\n",
      "Data columns (total 10 columns):\n",
      " #   Column                   Non-Null Count   Dtype  \n",
      "---  ------                   --------------   -----  \n",
      " 0   msno                     907471 non-null  object \n",
      " 1   city                     735744 non-null  object \n",
      " 2   bd                       279812 non-null  float64\n",
      " 3   gender                   735744 non-null  object \n",
      " 4   registered_via           735744 non-null  object \n",
      " 5   registration_init_time   735744 non-null  float64\n",
      " 6   member_for_days          735744 non-null  float64\n",
      " 7   registration_init_day    735744 non-null  object \n",
      " 8   registration_init_month  735744 non-null  object \n",
      " 9   registration_init_year   735744 non-null  float64\n",
      "dtypes: float64(4), object(6)\n",
      "memory usage: 76.2+ MB\n"
     ]
    }
   ],
   "source": [
    "members_apr.info()"
   ]
  },
  {
   "cell_type": "code",
   "execution_count": 30,
   "metadata": {
    "scrolled": true
   },
   "outputs": [
    {
     "data": {
      "image/png": "[encoded data removed]",
      "text/plain": [
       "<Figure size 1800x720 with 2 Axes>"
      ]
     },
     "metadata": {},
     "output_type": "display_data"
    }
   ],
   "source": [
    "import missingno as ms\n",
    "\n",
    "ms.matrix(members_feb)\n",
    "plt.tight_layout()"
   ]
  },
  {
   "cell_type": "code",
   "execution_count": 31,
   "metadata": {},
   "outputs": [
    {
     "data": {
      "image/png": "[encoded data removed]",
      "text/plain": [
       "<Figure size 1800x720 with 2 Axes>"
      ]
     },
     "metadata": {},
     "output_type": "display_data"
    }
   ],
   "source": [
    "ms.matrix(members_mar)\n",
    "plt.tight_layout()"
   ]
  },
  {
   "cell_type": "code",
   "execution_count": 32,
   "metadata": {},
   "outputs": [
    {
     "data": {
      "image/png": "[encoded data removed]",
      "text/plain": [
       "<Figure size 1800x720 with 2 Axes>"
      ]
     },
     "metadata": {},
     "output_type": "display_data"
    }
   ],
   "source": [
    "ms.matrix(members_apr)\n",
    "plt.tight_layout()"
   ]
  },
  {
   "cell_type": "code",
   "execution_count": 33,
   "metadata": {},
   "outputs": [],
   "source": [
    "import pickle\n",
    "\n",
    "with open('Data/Processed/members_feb.pickle', 'wb') as handle:\n",
    "    pickle.dump(members_feb, handle)\n",
    "with open('Data/Processed/members_mar.pickle', 'wb') as handle:\n",
    "    pickle.dump(members_mar, handle)\n",
    "with open('Data/Processed/members_apr.pickle', 'wb') as handle:\n",
    "    pickle.dump(members_apr, handle)"
   ]
  },
  {
   "cell_type": "code",
   "execution_count": null,
   "metadata": {},
   "outputs": [],
   "source": []
  }
 ],
 "metadata": {
  "kernelspec": {
   "display_name": "Python 3",
   "language": "python",
   "name": "python3"
  },
  "language_info": {
   "codemirror_mode": {
    "name": "ipython",
    "version": 3
   },
   "file_extension": ".py",
   "mimetype": "text/x-python",
   "name": "python",
   "nbconvert_exporter": "python",
   "pygments_lexer": "ipython3",
   "version": "3.8.5"
  }
 },
 "nbformat": 4,
 "nbformat_minor": 2
}
