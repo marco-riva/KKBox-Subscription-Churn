{
 "cells": [
  {
   "cell_type": "code",
   "execution_count": 1,
   "metadata": {},
   "outputs": [],
   "source": [
    "import warnings\n",
    "warnings.filterwarnings('ignore')"
   ]
  },
  {
   "cell_type": "code",
   "execution_count": 2,
   "metadata": {},
   "outputs": [],
   "source": [
    "import pandas as pd\n",
    "import numpy as np\n",
    "import pickle\n",
    "\n",
    "import matplotlib.pyplot as plt \n",
    "import matplotlib as mpl \n",
    "mpl.rcParams['figure.dpi'] = 400 # figure dots per inch\n",
    "%matplotlib inline\n",
    "\n",
    "import seaborn as sns\n",
    "sns.set(palette='Set1')\n",
    "\n",
    "from datetime import datetime, timedelta"
   ]
  },
  {
   "cell_type": "markdown",
   "metadata": {},
   "source": [
    "# Transactions dataset"
   ]
  },
  {
   "cell_type": "code",
   "execution_count": 3,
   "metadata": {},
   "outputs": [
    {
     "data": {
      "text/html": [
       "<div>\n",
       "<style scoped>\n",
       "    .dataframe tbody tr th:only-of-type {\n",
       "        vertical-align: middle;\n",
       "    }\n",
       "\n",
       "    .dataframe tbody tr th {\n",
       "        vertical-align: top;\n",
       "    }\n",
       "\n",
       "    .dataframe thead th {\n",
       "        text-align: right;\n",
       "    }\n",
       "</style>\n",
       "<table border=\"1\" class=\"dataframe\">\n",
       "  <thead>\n",
       "    <tr style=\"text-align: right;\">\n",
       "      <th></th>\n",
       "      <th>msno</th>\n",
       "      <th>payment_method_id</th>\n",
       "      <th>payment_plan_days</th>\n",
       "      <th>plan_list_price</th>\n",
       "      <th>actual_amount_paid</th>\n",
       "      <th>is_auto_renew</th>\n",
       "      <th>transaction_date</th>\n",
       "      <th>membership_expire_date</th>\n",
       "      <th>is_cancel</th>\n",
       "      <th>transaction_date_dt</th>\n",
       "      <th>membership_expire_date_dt</th>\n",
       "    </tr>\n",
       "  </thead>\n",
       "  <tbody>\n",
       "    <tr>\n",
       "      <th>1</th>\n",
       "      <td>AZtu6Wl0gPojrEQYB8Q3vBSmE2wnZ3hi1FbK1rQQ0A4=</td>\n",
       "      <td>41</td>\n",
       "      <td>30</td>\n",
       "      <td>149</td>\n",
       "      <td>149</td>\n",
       "      <td>1</td>\n",
       "      <td>20150930</td>\n",
       "      <td>20151031</td>\n",
       "      <td>0</td>\n",
       "      <td>2015-09-30</td>\n",
       "      <td>2015-10-31</td>\n",
       "    </tr>\n",
       "    <tr>\n",
       "      <th>10</th>\n",
       "      <td>bQkbrEPdMfVfdsoz0RoWSmgYpHJuhRqtIml7aRUrFL8=</td>\n",
       "      <td>39</td>\n",
       "      <td>30</td>\n",
       "      <td>149</td>\n",
       "      <td>149</td>\n",
       "      <td>1</td>\n",
       "      <td>20150930</td>\n",
       "      <td>20151121</td>\n",
       "      <td>0</td>\n",
       "      <td>2015-09-30</td>\n",
       "      <td>2015-11-21</td>\n",
       "    </tr>\n",
       "    <tr>\n",
       "      <th>24</th>\n",
       "      <td>qNpZJ7gsMPAFSvc5V3kgqtFfUQU2SZe7XSUYOAfqtoA=</td>\n",
       "      <td>40</td>\n",
       "      <td>30</td>\n",
       "      <td>149</td>\n",
       "      <td>149</td>\n",
       "      <td>1</td>\n",
       "      <td>20151001</td>\n",
       "      <td>20151101</td>\n",
       "      <td>0</td>\n",
       "      <td>2015-10-01</td>\n",
       "      <td>2015-11-01</td>\n",
       "    </tr>\n",
       "    <tr>\n",
       "      <th>26</th>\n",
       "      <td>WnxdSgeK3Vg4BIaioJQYilnL+E1SDxq+PZIwmmfTwgM=</td>\n",
       "      <td>34</td>\n",
       "      <td>0</td>\n",
       "      <td>0</td>\n",
       "      <td>149</td>\n",
       "      <td>1</td>\n",
       "      <td>20150930</td>\n",
       "      <td>20151031</td>\n",
       "      <td>0</td>\n",
       "      <td>2015-09-30</td>\n",
       "      <td>2015-10-31</td>\n",
       "    </tr>\n",
       "    <tr>\n",
       "      <th>27</th>\n",
       "      <td>ir1jh/vWZ932FpSC2WeMxdOHQ+OkuUo3ZPQs8Ms4J9g=</td>\n",
       "      <td>34</td>\n",
       "      <td>0</td>\n",
       "      <td>0</td>\n",
       "      <td>149</td>\n",
       "      <td>1</td>\n",
       "      <td>20150930</td>\n",
       "      <td>20151031</td>\n",
       "      <td>0</td>\n",
       "      <td>2015-09-30</td>\n",
       "      <td>2015-10-31</td>\n",
       "    </tr>\n",
       "  </tbody>\n",
       "</table>\n",
       "</div>"
      ],
      "text/plain": [
       "                                            msno  payment_method_id  \\\n",
       "1   AZtu6Wl0gPojrEQYB8Q3vBSmE2wnZ3hi1FbK1rQQ0A4=                 41   \n",
       "10  bQkbrEPdMfVfdsoz0RoWSmgYpHJuhRqtIml7aRUrFL8=                 39   \n",
       "24  qNpZJ7gsMPAFSvc5V3kgqtFfUQU2SZe7XSUYOAfqtoA=                 40   \n",
       "26  WnxdSgeK3Vg4BIaioJQYilnL+E1SDxq+PZIwmmfTwgM=                 34   \n",
       "27  ir1jh/vWZ932FpSC2WeMxdOHQ+OkuUo3ZPQs8Ms4J9g=                 34   \n",
       "\n",
       "    payment_plan_days  plan_list_price  actual_amount_paid  is_auto_renew  \\\n",
       "1                  30              149                 149              1   \n",
       "10                 30              149                 149              1   \n",
       "24                 30              149                 149              1   \n",
       "26                  0                0                 149              1   \n",
       "27                  0                0                 149              1   \n",
       "\n",
       "    transaction_date  membership_expire_date  is_cancel transaction_date_dt  \\\n",
       "1           20150930                20151031          0          2015-09-30   \n",
       "10          20150930                20151121          0          2015-09-30   \n",
       "24          20151001                20151101          0          2015-10-01   \n",
       "26          20150930                20151031          0          2015-09-30   \n",
       "27          20150930                20151031          0          2015-09-30   \n",
       "\n",
       "   membership_expire_date_dt  \n",
       "1                 2015-10-31  \n",
       "10                2015-11-21  \n",
       "24                2015-11-01  \n",
       "26                2015-10-31  \n",
       "27                2015-10-31  "
      ]
     },
     "execution_count": 3,
     "metadata": {},
     "output_type": "execute_result"
    }
   ],
   "source": [
    "transactions_df = pd.read_pickle('Data/transactions_clean.pickle')\n",
    "transactions_df.head()"
   ]
  },
  {
   "cell_type": "code",
   "execution_count": 4,
   "metadata": {},
   "outputs": [
    {
     "name": "stdout",
     "output_type": "stream",
     "text": [
      "<class 'pandas.core.frame.DataFrame'>\n",
      "Int64Index: 13664286 entries, 1 to 22974713\n",
      "Data columns (total 11 columns):\n",
      " #   Column                     Dtype         \n",
      "---  ------                     -----         \n",
      " 0   msno                       object        \n",
      " 1   payment_method_id          int16         \n",
      " 2   payment_plan_days          int16         \n",
      " 3   plan_list_price            int16         \n",
      " 4   actual_amount_paid         int16         \n",
      " 5   is_auto_renew              int16         \n",
      " 6   transaction_date           int64         \n",
      " 7   membership_expire_date     int64         \n",
      " 8   is_cancel                  int16         \n",
      " 9   transaction_date_dt        datetime64[ns]\n",
      " 10  membership_expire_date_dt  datetime64[ns]\n",
      "dtypes: datetime64[ns](2), int16(6), int64(2), object(1)\n",
      "memory usage: 781.9+ MB\n"
     ]
    }
   ],
   "source": [
    "transactions_df.info() "
   ]
  },
  {
   "cell_type": "code",
   "execution_count": 5,
   "metadata": {},
   "outputs": [
    {
     "data": {
      "text/html": [
       "<div>\n",
       "<style scoped>\n",
       "    .dataframe tbody tr th:only-of-type {\n",
       "        vertical-align: middle;\n",
       "    }\n",
       "\n",
       "    .dataframe tbody tr th {\n",
       "        vertical-align: top;\n",
       "    }\n",
       "\n",
       "    .dataframe thead th {\n",
       "        text-align: right;\n",
       "    }\n",
       "</style>\n",
       "<table border=\"1\" class=\"dataframe\">\n",
       "  <thead>\n",
       "    <tr style=\"text-align: right;\">\n",
       "      <th></th>\n",
       "      <th>payment_method_id</th>\n",
       "      <th>payment_plan_days</th>\n",
       "      <th>plan_list_price</th>\n",
       "      <th>actual_amount_paid</th>\n",
       "      <th>is_auto_renew</th>\n",
       "      <th>transaction_date</th>\n",
       "      <th>membership_expire_date</th>\n",
       "      <th>is_cancel</th>\n",
       "    </tr>\n",
       "  </thead>\n",
       "  <tbody>\n",
       "    <tr>\n",
       "      <th>count</th>\n",
       "      <td>1.366429e+07</td>\n",
       "      <td>1.366429e+07</td>\n",
       "      <td>1.366429e+07</td>\n",
       "      <td>1.366429e+07</td>\n",
       "      <td>1.366429e+07</td>\n",
       "      <td>1.366429e+07</td>\n",
       "      <td>1.366429e+07</td>\n",
       "      <td>1.366429e+07</td>\n",
       "    </tr>\n",
       "    <tr>\n",
       "      <th>mean</th>\n",
       "      <td>3.926181e+01</td>\n",
       "      <td>2.992232e+01</td>\n",
       "      <td>1.317261e+02</td>\n",
       "      <td>1.362609e+02</td>\n",
       "      <td>9.047002e-01</td>\n",
       "      <td>2.015808e+07</td>\n",
       "      <td>2.015916e+07</td>\n",
       "      <td>1.788714e-02</td>\n",
       "    </tr>\n",
       "    <tr>\n",
       "      <th>std</th>\n",
       "      <td>3.263967e+00</td>\n",
       "      <td>1.756192e+01</td>\n",
       "      <td>7.888522e+01</td>\n",
       "      <td>7.586549e+01</td>\n",
       "      <td>2.936286e-01</td>\n",
       "      <td>5.617590e+03</td>\n",
       "      <td>6.083125e+03</td>\n",
       "      <td>1.325413e-01</td>\n",
       "    </tr>\n",
       "    <tr>\n",
       "      <th>min</th>\n",
       "      <td>2.000000e+00</td>\n",
       "      <td>0.000000e+00</td>\n",
       "      <td>0.000000e+00</td>\n",
       "      <td>0.000000e+00</td>\n",
       "      <td>0.000000e+00</td>\n",
       "      <td>2.015010e+07</td>\n",
       "      <td>2.015010e+07</td>\n",
       "      <td>0.000000e+00</td>\n",
       "    </tr>\n",
       "    <tr>\n",
       "      <th>25%</th>\n",
       "      <td>3.800000e+01</td>\n",
       "      <td>3.000000e+01</td>\n",
       "      <td>9.900000e+01</td>\n",
       "      <td>9.900000e+01</td>\n",
       "      <td>1.000000e+00</td>\n",
       "      <td>2.015103e+07</td>\n",
       "      <td>2.015121e+07</td>\n",
       "      <td>0.000000e+00</td>\n",
       "    </tr>\n",
       "    <tr>\n",
       "      <th>50%</th>\n",
       "      <td>4.100000e+01</td>\n",
       "      <td>3.000000e+01</td>\n",
       "      <td>1.490000e+02</td>\n",
       "      <td>1.490000e+02</td>\n",
       "      <td>1.000000e+00</td>\n",
       "      <td>2.016050e+07</td>\n",
       "      <td>2.016061e+07</td>\n",
       "      <td>0.000000e+00</td>\n",
       "    </tr>\n",
       "    <tr>\n",
       "      <th>75%</th>\n",
       "      <td>4.100000e+01</td>\n",
       "      <td>3.000000e+01</td>\n",
       "      <td>1.490000e+02</td>\n",
       "      <td>1.490000e+02</td>\n",
       "      <td>1.000000e+00</td>\n",
       "      <td>2.016093e+07</td>\n",
       "      <td>2.016103e+07</td>\n",
       "      <td>0.000000e+00</td>\n",
       "    </tr>\n",
       "    <tr>\n",
       "      <th>max</th>\n",
       "      <td>4.100000e+01</td>\n",
       "      <td>4.500000e+02</td>\n",
       "      <td>2.000000e+03</td>\n",
       "      <td>2.000000e+03</td>\n",
       "      <td>1.000000e+00</td>\n",
       "      <td>2.017030e+07</td>\n",
       "      <td>2.017023e+07</td>\n",
       "      <td>1.000000e+00</td>\n",
       "    </tr>\n",
       "  </tbody>\n",
       "</table>\n",
       "</div>"
      ],
      "text/plain": [
       "       payment_method_id  payment_plan_days  plan_list_price  \\\n",
       "count       1.366429e+07       1.366429e+07     1.366429e+07   \n",
       "mean        3.926181e+01       2.992232e+01     1.317261e+02   \n",
       "std         3.263967e+00       1.756192e+01     7.888522e+01   \n",
       "min         2.000000e+00       0.000000e+00     0.000000e+00   \n",
       "25%         3.800000e+01       3.000000e+01     9.900000e+01   \n",
       "50%         4.100000e+01       3.000000e+01     1.490000e+02   \n",
       "75%         4.100000e+01       3.000000e+01     1.490000e+02   \n",
       "max         4.100000e+01       4.500000e+02     2.000000e+03   \n",
       "\n",
       "       actual_amount_paid  is_auto_renew  transaction_date  \\\n",
       "count        1.366429e+07   1.366429e+07      1.366429e+07   \n",
       "mean         1.362609e+02   9.047002e-01      2.015808e+07   \n",
       "std          7.586549e+01   2.936286e-01      5.617590e+03   \n",
       "min          0.000000e+00   0.000000e+00      2.015010e+07   \n",
       "25%          9.900000e+01   1.000000e+00      2.015103e+07   \n",
       "50%          1.490000e+02   1.000000e+00      2.016050e+07   \n",
       "75%          1.490000e+02   1.000000e+00      2.016093e+07   \n",
       "max          2.000000e+03   1.000000e+00      2.017030e+07   \n",
       "\n",
       "       membership_expire_date     is_cancel  \n",
       "count            1.366429e+07  1.366429e+07  \n",
       "mean             2.015916e+07  1.788714e-02  \n",
       "std              6.083125e+03  1.325413e-01  \n",
       "min              2.015010e+07  0.000000e+00  \n",
       "25%              2.015121e+07  0.000000e+00  \n",
       "50%              2.016061e+07  0.000000e+00  \n",
       "75%              2.016103e+07  0.000000e+00  \n",
       "max              2.017023e+07  1.000000e+00  "
      ]
     },
     "execution_count": 5,
     "metadata": {},
     "output_type": "execute_result"
    }
   ],
   "source": [
    "transactions_df.describe()"
   ]
  },
  {
   "cell_type": "markdown",
   "metadata": {},
   "source": [
    "### Categorical features"
   ]
  },
  {
   "cell_type": "code",
   "execution_count": 6,
   "metadata": {},
   "outputs": [
    {
     "data": {
      "text/plain": [
       "payment_method_id\n",
       "2    14\n",
       "3    58\n",
       "4     4\n",
       "5    82\n",
       "6    69\n",
       "Name: msno, dtype: int64"
      ]
     },
     "execution_count": 6,
     "metadata": {},
     "output_type": "execute_result"
    }
   ],
   "source": [
    "transactions_by_payment_method = transactions_df.groupby('payment_method_id')['msno'].count()\n",
    "transactions_by_payment_method.head()"
   ]
  },
  {
   "cell_type": "code",
   "execution_count": 7,
   "metadata": {},
   "outputs": [
    {
     "data": {
      "image/png": "[encoded data removed]",
      "text/plain": [
       "<Figure size 720x432 with 1 Axes>"
      ]
     },
     "metadata": {},
     "output_type": "display_data"
    }
   ],
   "source": [
    "clrs = ['red' if (x == transactions_by_payment_method.max()) else 'orange' if \n",
    "        (x > transactions_by_payment_method.max()/10)\n",
    "        else 'gray' for x in transactions_by_payment_method]\n",
    "plt.figure(figsize=(10,6)) \n",
    "pay_mtd = sns.countplot(transactions_df['payment_method_id'], palette=clrs)\n",
    "pay_mtd.set_yscale(\"log\")\n",
    "plt.tight_layout()"
   ]
  },
  {
   "cell_type": "code",
   "execution_count": 8,
   "metadata": {},
   "outputs": [],
   "source": [
    "# payment plan days (duration)"
   ]
  },
  {
   "cell_type": "code",
   "execution_count": 9,
   "metadata": {},
   "outputs": [
    {
     "data": {
      "text/plain": [
       "payment_plan_days\n",
       "0    516619\n",
       "1      1843\n",
       "2         5\n",
       "3        11\n",
       "7     46451\n",
       "Name: msno, dtype: int64"
      ]
     },
     "execution_count": 9,
     "metadata": {},
     "output_type": "execute_result"
    }
   ],
   "source": [
    "transactions_by_payment_plan_days = transactions_df.groupby('payment_plan_days')['msno'].count()\n",
    "transactions_by_payment_plan_days.head()"
   ]
  },
  {
   "cell_type": "code",
   "execution_count": 10,
   "metadata": {},
   "outputs": [
    {
     "data": {
      "image/png": "[encoded data removed]",
      "text/plain": [
       "<Figure size 720x432 with 1 Axes>"
      ]
     },
     "metadata": {},
     "output_type": "display_data"
    }
   ],
   "source": [
    "clrs = ['red' if (x == transactions_by_payment_plan_days.max()) else 'orange' if \n",
    "        (x > transactions_by_payment_plan_days.max()/10)\n",
    "        else 'gray' for x in transactions_by_payment_plan_days]\n",
    "plt.figure(figsize=(10,6)) \n",
    "pay_plan = sns.countplot(transactions_df['payment_plan_days'], palette=clrs)\n",
    "pay_plan.set_yscale(\"log\")\n",
    "pay_plan.set_xticklabels(pay_plan.get_xticklabels(), rotation=30)\n",
    "plt.tight_layout()"
   ]
  },
  {
   "cell_type": "code",
   "execution_count": 11,
   "metadata": {},
   "outputs": [],
   "source": [
    "# is_cancel"
   ]
  },
  {
   "cell_type": "code",
   "execution_count": 12,
   "metadata": {},
   "outputs": [
    {
     "data": {
      "image/png": "[encoded data removed]",
      "text/plain": [
       "<Figure size 432x288 with 1 Axes>"
      ]
     },
     "metadata": {},
     "output_type": "display_data"
    }
   ],
   "source": [
    "sns.countplot(data=transactions_df, x='is_cancel')\n",
    "plt.tight_layout()"
   ]
  },
  {
   "cell_type": "code",
   "execution_count": 13,
   "metadata": {},
   "outputs": [],
   "source": [
    "# is_auto_renew"
   ]
  },
  {
   "cell_type": "code",
   "execution_count": 14,
   "metadata": {},
   "outputs": [
    {
     "data": {
      "image/png": "[encoded data removed]",
      "text/plain": [
       "<Figure size 432x288 with 1 Axes>"
      ]
     },
     "metadata": {},
     "output_type": "display_data"
    }
   ],
   "source": [
    "sns.countplot(data=transactions_df, x='is_auto_renew')\n",
    "plt.tight_layout()"
   ]
  },
  {
   "cell_type": "markdown",
   "metadata": {},
   "source": [
    "### Numerical features"
   ]
  },
  {
   "cell_type": "code",
   "execution_count": 15,
   "metadata": {},
   "outputs": [],
   "source": [
    "# plan list price"
   ]
  },
  {
   "cell_type": "code",
   "execution_count": 16,
   "metadata": {},
   "outputs": [
    {
     "data": {
      "text/plain": [
       "plan_list_price\n",
       "0     569291\n",
       "1         18\n",
       "10         5\n",
       "15         9\n",
       "35      1719\n",
       "Name: msno, dtype: int64"
      ]
     },
     "execution_count": 16,
     "metadata": {},
     "output_type": "execute_result"
    }
   ],
   "source": [
    "transactions_by_plan_list_price = transactions_df.groupby('plan_list_price')['msno'].count()\n",
    "transactions_by_plan_list_price.head()"
   ]
  },
  {
   "cell_type": "code",
   "execution_count": 17,
   "metadata": {},
   "outputs": [
    {
     "data": {
      "image/png": "[encoded data removed]",
      "text/plain": [
       "<Figure size 864x432 with 1 Axes>"
      ]
     },
     "metadata": {},
     "output_type": "display_data"
    }
   ],
   "source": [
    "clrs = ['red' if (x == transactions_by_plan_list_price.max()) else 'orange' if \n",
    "        (x > transactions_by_plan_list_price.max()/10)\n",
    "        else 'gray' for x in transactions_by_plan_list_price]\n",
    "plt.figure(figsize=(12,6)) \n",
    "plan_price = sns.countplot(transactions_df['plan_list_price'], palette=clrs)\n",
    "plan_price.set_yscale(\"log\")\n",
    "plan_price.set_xticklabels(plan_price.get_xticklabels(), rotation=45)\n",
    "plt.tight_layout()"
   ]
  },
  {
   "cell_type": "code",
   "execution_count": 18,
   "metadata": {},
   "outputs": [],
   "source": [
    "# actual payment"
   ]
  },
  {
   "cell_type": "code",
   "execution_count": 19,
   "metadata": {},
   "outputs": [
    {
     "data": {
      "text/plain": [
       "actual_amount_paid\n",
       "0     114644\n",
       "1         18\n",
       "10         5\n",
       "15         9\n",
       "35      1850\n",
       "Name: msno, dtype: int64"
      ]
     },
     "execution_count": 19,
     "metadata": {},
     "output_type": "execute_result"
    }
   ],
   "source": [
    "transactions_by_amount_paid = transactions_df.groupby('actual_amount_paid')['msno'].count()\n",
    "transactions_by_amount_paid.head()"
   ]
  },
  {
   "cell_type": "code",
   "execution_count": 20,
   "metadata": {},
   "outputs": [
    {
     "data": {
      "image/png": "[encoded data removed]",
      "text/plain": [
       "<Figure size 864x432 with 1 Axes>"
      ]
     },
     "metadata": {},
     "output_type": "display_data"
    }
   ],
   "source": [
    "clrs = ['red' if (x == transactions_by_amount_paid.max()) else 'orange' if \n",
    "        (x > transactions_by_amount_paid.max()/10)\n",
    "        else 'gray' for x in transactions_by_amount_paid]\n",
    "plt.figure(figsize=(12,6)) \n",
    "amount_paid = sns.countplot(transactions_df['actual_amount_paid'], palette=clrs)\n",
    "amount_paid.set_yscale(\"log\")\n",
    "amount_paid.set_xticklabels(amount_paid.get_xticklabels(), rotation=45)\n",
    "plt.tight_layout()"
   ]
  },
  {
   "cell_type": "code",
   "execution_count": 21,
   "metadata": {},
   "outputs": [],
   "source": [
    "# plan price and amount paid difference"
   ]
  },
  {
   "cell_type": "code",
   "execution_count": 22,
   "metadata": {},
   "outputs": [
    {
     "data": {
      "text/html": [
       "<div>\n",
       "<style scoped>\n",
       "    .dataframe tbody tr th:only-of-type {\n",
       "        vertical-align: middle;\n",
       "    }\n",
       "\n",
       "    .dataframe tbody tr th {\n",
       "        vertical-align: top;\n",
       "    }\n",
       "\n",
       "    .dataframe thead th {\n",
       "        text-align: right;\n",
       "    }\n",
       "</style>\n",
       "<table border=\"1\" class=\"dataframe\">\n",
       "  <thead>\n",
       "    <tr style=\"text-align: right;\">\n",
       "      <th></th>\n",
       "      <th>msno</th>\n",
       "      <th>payment_method_id</th>\n",
       "      <th>payment_plan_days</th>\n",
       "      <th>plan_list_price</th>\n",
       "      <th>actual_amount_paid</th>\n",
       "      <th>is_auto_renew</th>\n",
       "      <th>transaction_date</th>\n",
       "      <th>membership_expire_date</th>\n",
       "      <th>is_cancel</th>\n",
       "      <th>transaction_date_dt</th>\n",
       "      <th>membership_expire_date_dt</th>\n",
       "      <th>credit</th>\n",
       "    </tr>\n",
       "  </thead>\n",
       "  <tbody>\n",
       "    <tr>\n",
       "      <th>1</th>\n",
       "      <td>AZtu6Wl0gPojrEQYB8Q3vBSmE2wnZ3hi1FbK1rQQ0A4=</td>\n",
       "      <td>41</td>\n",
       "      <td>30</td>\n",
       "      <td>149</td>\n",
       "      <td>149</td>\n",
       "      <td>1</td>\n",
       "      <td>20150930</td>\n",
       "      <td>20151031</td>\n",
       "      <td>0</td>\n",
       "      <td>2015-09-30</td>\n",
       "      <td>2015-10-31</td>\n",
       "      <td>0</td>\n",
       "    </tr>\n",
       "    <tr>\n",
       "      <th>10</th>\n",
       "      <td>bQkbrEPdMfVfdsoz0RoWSmgYpHJuhRqtIml7aRUrFL8=</td>\n",
       "      <td>39</td>\n",
       "      <td>30</td>\n",
       "      <td>149</td>\n",
       "      <td>149</td>\n",
       "      <td>1</td>\n",
       "      <td>20150930</td>\n",
       "      <td>20151121</td>\n",
       "      <td>0</td>\n",
       "      <td>2015-09-30</td>\n",
       "      <td>2015-11-21</td>\n",
       "      <td>0</td>\n",
       "    </tr>\n",
       "    <tr>\n",
       "      <th>24</th>\n",
       "      <td>qNpZJ7gsMPAFSvc5V3kgqtFfUQU2SZe7XSUYOAfqtoA=</td>\n",
       "      <td>40</td>\n",
       "      <td>30</td>\n",
       "      <td>149</td>\n",
       "      <td>149</td>\n",
       "      <td>1</td>\n",
       "      <td>20151001</td>\n",
       "      <td>20151101</td>\n",
       "      <td>0</td>\n",
       "      <td>2015-10-01</td>\n",
       "      <td>2015-11-01</td>\n",
       "      <td>0</td>\n",
       "    </tr>\n",
       "    <tr>\n",
       "      <th>26</th>\n",
       "      <td>WnxdSgeK3Vg4BIaioJQYilnL+E1SDxq+PZIwmmfTwgM=</td>\n",
       "      <td>34</td>\n",
       "      <td>0</td>\n",
       "      <td>0</td>\n",
       "      <td>149</td>\n",
       "      <td>1</td>\n",
       "      <td>20150930</td>\n",
       "      <td>20151031</td>\n",
       "      <td>0</td>\n",
       "      <td>2015-09-30</td>\n",
       "      <td>2015-10-31</td>\n",
       "      <td>149</td>\n",
       "    </tr>\n",
       "    <tr>\n",
       "      <th>27</th>\n",
       "      <td>ir1jh/vWZ932FpSC2WeMxdOHQ+OkuUo3ZPQs8Ms4J9g=</td>\n",
       "      <td>34</td>\n",
       "      <td>0</td>\n",
       "      <td>0</td>\n",
       "      <td>149</td>\n",
       "      <td>1</td>\n",
       "      <td>20150930</td>\n",
       "      <td>20151031</td>\n",
       "      <td>0</td>\n",
       "      <td>2015-09-30</td>\n",
       "      <td>2015-10-31</td>\n",
       "      <td>149</td>\n",
       "    </tr>\n",
       "  </tbody>\n",
       "</table>\n",
       "</div>"
      ],
      "text/plain": [
       "                                            msno  payment_method_id  \\\n",
       "1   AZtu6Wl0gPojrEQYB8Q3vBSmE2wnZ3hi1FbK1rQQ0A4=                 41   \n",
       "10  bQkbrEPdMfVfdsoz0RoWSmgYpHJuhRqtIml7aRUrFL8=                 39   \n",
       "24  qNpZJ7gsMPAFSvc5V3kgqtFfUQU2SZe7XSUYOAfqtoA=                 40   \n",
       "26  WnxdSgeK3Vg4BIaioJQYilnL+E1SDxq+PZIwmmfTwgM=                 34   \n",
       "27  ir1jh/vWZ932FpSC2WeMxdOHQ+OkuUo3ZPQs8Ms4J9g=                 34   \n",
       "\n",
       "    payment_plan_days  plan_list_price  actual_amount_paid  is_auto_renew  \\\n",
       "1                  30              149                 149              1   \n",
       "10                 30              149                 149              1   \n",
       "24                 30              149                 149              1   \n",
       "26                  0                0                 149              1   \n",
       "27                  0                0                 149              1   \n",
       "\n",
       "    transaction_date  membership_expire_date  is_cancel transaction_date_dt  \\\n",
       "1           20150930                20151031          0          2015-09-30   \n",
       "10          20150930                20151121          0          2015-09-30   \n",
       "24          20151001                20151101          0          2015-10-01   \n",
       "26          20150930                20151031          0          2015-09-30   \n",
       "27          20150930                20151031          0          2015-09-30   \n",
       "\n",
       "   membership_expire_date_dt  credit  \n",
       "1                 2015-10-31       0  \n",
       "10                2015-11-21       0  \n",
       "24                2015-11-01       0  \n",
       "26                2015-10-31     149  \n",
       "27                2015-10-31     149  "
      ]
     },
     "execution_count": 22,
     "metadata": {},
     "output_type": "execute_result"
    }
   ],
   "source": [
    "transactions_df['credit'] = (transactions_df['actual_amount_paid'] - transactions_df['plan_list_price'])\n",
    "transactions_df.head()"
   ]
  },
  {
   "cell_type": "code",
   "execution_count": 23,
   "metadata": {
    "scrolled": true
   },
   "outputs": [
    {
     "data": {
      "text/plain": [
       " 0       9.428292e-01\n",
       " 149     3.462179e-02\n",
       "-30      1.483971e-02\n",
       "-149     4.256278e-03\n",
       " 119     1.288834e-03\n",
       " 129     1.269587e-03\n",
       " 150     3.020282e-04\n",
       "-180     1.465133e-04\n",
       "-20      1.433664e-04\n",
       "-50      8.452692e-05\n",
       " 894     5.430214e-05\n",
       " 134     4.559331e-05\n",
       " 100     3.432305e-05\n",
       " 1788    2.971249e-05\n",
       "-120     1.105071e-05\n",
       " 35      9.587036e-06\n",
       " 131     8.342917e-06\n",
       " 536     4.610559e-06\n",
       " 480     3.512807e-06\n",
       " 300     3.439624e-06\n",
       " 799     3.293257e-06\n",
       " 1599    2.927339e-06\n",
       " 30      1.975954e-06\n",
       " 450     9.513852e-07\n",
       " 447     7.318348e-07\n",
       " 930     6.586513e-07\n",
       " 1000    6.586513e-07\n",
       " 350     4.391009e-07\n",
       " 500     3.659174e-07\n",
       " 105     3.659174e-07\n",
       "-108     2.927339e-07\n",
       "-1       2.927339e-07\n",
       " 400     1.463670e-07\n",
       " 1150    1.463670e-07\n",
       " 760     7.318348e-08\n",
       " 50      7.318348e-08\n",
       " 41      7.318348e-08\n",
       "-699     7.318348e-08\n",
       " 12      7.318348e-08\n",
       " 1       7.318348e-08\n",
       "Name: credit, dtype: float64"
      ]
     },
     "execution_count": 23,
     "metadata": {},
     "output_type": "execute_result"
    }
   ],
   "source": [
    "transactions_df['credit'].value_counts(normalize=True)"
   ]
  },
  {
   "cell_type": "code",
   "execution_count": 24,
   "metadata": {},
   "outputs": [
    {
     "data": {
      "text/plain": [
       "credit\n",
       "-699        1\n",
       "-180     2002\n",
       "-149    58159\n",
       "-120      151\n",
       "-108        4\n",
       "Name: msno, dtype: int64"
      ]
     },
     "execution_count": 24,
     "metadata": {},
     "output_type": "execute_result"
    }
   ],
   "source": [
    "transactions_credit = transactions_df.groupby('credit')['msno'].count()\n",
    "transactions_credit.head()"
   ]
  },
  {
   "cell_type": "code",
   "execution_count": 25,
   "metadata": {
    "scrolled": false
   },
   "outputs": [
    {
     "data": {
      "image/png": "[encoded data removed]",
      "text/plain": [
       "<Figure size 864x432 with 1 Axes>"
      ]
     },
     "metadata": {},
     "output_type": "display_data"
    }
   ],
   "source": [
    "clrs = ['red' if (x < 0) else 'gray' if \n",
    "        (x == 0) else 'green' for x in \n",
    "        transactions_credit.index]\n",
    "plt.figure(figsize=(12, 6)) \n",
    "amount_paid = sns.countplot((transactions_df['actual_amount_paid'] - \n",
    "                             transactions_df['plan_list_price']),\n",
    "                             palette=clrs)\n",
    "amount_paid.set_yscale(\"log\")\n",
    "amount_paid.set_xticklabels(amount_paid.get_xticklabels(), rotation=45)\n",
    "plt.tight_layout()"
   ]
  },
  {
   "cell_type": "code",
   "execution_count": 26,
   "metadata": {},
   "outputs": [
    {
     "data": {
      "image/png": "[encoded data removed]",
      "text/plain": [
       "<Figure size 432x288 with 1 Axes>"
      ]
     },
     "metadata": {},
     "output_type": "display_data"
    }
   ],
   "source": [
    "transactions_df['credit_quality'] = np.where(transactions_df['credit'] == 0, \n",
    "                                             'even', \n",
    "                                             np.where(transactions_df['credit'] > 0, \n",
    "                                                     'credit', 'debit'))\n",
    "\n",
    "sns.countplot(x='credit_quality', data=transactions_df)\n",
    "plt.tight_layout()"
   ]
  },
  {
   "cell_type": "code",
   "execution_count": 27,
   "metadata": {},
   "outputs": [],
   "source": [
    "# transaction_date, membership_expire_date"
   ]
  },
  {
   "cell_type": "code",
   "execution_count": 28,
   "metadata": {
    "scrolled": true
   },
   "outputs": [
    {
     "data": {
      "text/html": [
       "<div>\n",
       "<style scoped>\n",
       "    .dataframe tbody tr th:only-of-type {\n",
       "        vertical-align: middle;\n",
       "    }\n",
       "\n",
       "    .dataframe tbody tr th {\n",
       "        vertical-align: top;\n",
       "    }\n",
       "\n",
       "    .dataframe thead th {\n",
       "        text-align: right;\n",
       "    }\n",
       "</style>\n",
       "<table border=\"1\" class=\"dataframe\">\n",
       "  <thead>\n",
       "    <tr style=\"text-align: right;\">\n",
       "      <th></th>\n",
       "      <th>payment_method_id</th>\n",
       "      <th>payment_plan_days</th>\n",
       "      <th>plan_list_price</th>\n",
       "      <th>actual_amount_paid</th>\n",
       "      <th>is_auto_renew</th>\n",
       "      <th>transaction_date</th>\n",
       "      <th>membership_expire_date</th>\n",
       "      <th>is_cancel</th>\n",
       "      <th>credit</th>\n",
       "    </tr>\n",
       "  </thead>\n",
       "  <tbody>\n",
       "    <tr>\n",
       "      <th>count</th>\n",
       "      <td>1.366429e+07</td>\n",
       "      <td>1.366429e+07</td>\n",
       "      <td>1.366429e+07</td>\n",
       "      <td>1.366429e+07</td>\n",
       "      <td>1.366429e+07</td>\n",
       "      <td>1.366429e+07</td>\n",
       "      <td>1.366429e+07</td>\n",
       "      <td>1.366429e+07</td>\n",
       "      <td>1.366429e+07</td>\n",
       "    </tr>\n",
       "    <tr>\n",
       "      <th>mean</th>\n",
       "      <td>3.926181e+01</td>\n",
       "      <td>2.992232e+01</td>\n",
       "      <td>1.317261e+02</td>\n",
       "      <td>1.362609e+02</td>\n",
       "      <td>9.047002e-01</td>\n",
       "      <td>2.015808e+07</td>\n",
       "      <td>2.015916e+07</td>\n",
       "      <td>1.788714e-02</td>\n",
       "      <td>4.534741e+00</td>\n",
       "    </tr>\n",
       "    <tr>\n",
       "      <th>std</th>\n",
       "      <td>3.263967e+00</td>\n",
       "      <td>1.756192e+01</td>\n",
       "      <td>7.888522e+01</td>\n",
       "      <td>7.586549e+01</td>\n",
       "      <td>2.936286e-01</td>\n",
       "      <td>5.617590e+03</td>\n",
       "      <td>6.083125e+03</td>\n",
       "      <td>1.325413e-01</td>\n",
       "      <td>3.257340e+01</td>\n",
       "    </tr>\n",
       "    <tr>\n",
       "      <th>min</th>\n",
       "      <td>2.000000e+00</td>\n",
       "      <td>0.000000e+00</td>\n",
       "      <td>0.000000e+00</td>\n",
       "      <td>0.000000e+00</td>\n",
       "      <td>0.000000e+00</td>\n",
       "      <td>2.015010e+07</td>\n",
       "      <td>2.015010e+07</td>\n",
       "      <td>0.000000e+00</td>\n",
       "      <td>-6.990000e+02</td>\n",
       "    </tr>\n",
       "    <tr>\n",
       "      <th>25%</th>\n",
       "      <td>3.800000e+01</td>\n",
       "      <td>3.000000e+01</td>\n",
       "      <td>9.900000e+01</td>\n",
       "      <td>9.900000e+01</td>\n",
       "      <td>1.000000e+00</td>\n",
       "      <td>2.015103e+07</td>\n",
       "      <td>2.015121e+07</td>\n",
       "      <td>0.000000e+00</td>\n",
       "      <td>0.000000e+00</td>\n",
       "    </tr>\n",
       "    <tr>\n",
       "      <th>50%</th>\n",
       "      <td>4.100000e+01</td>\n",
       "      <td>3.000000e+01</td>\n",
       "      <td>1.490000e+02</td>\n",
       "      <td>1.490000e+02</td>\n",
       "      <td>1.000000e+00</td>\n",
       "      <td>2.016050e+07</td>\n",
       "      <td>2.016061e+07</td>\n",
       "      <td>0.000000e+00</td>\n",
       "      <td>0.000000e+00</td>\n",
       "    </tr>\n",
       "    <tr>\n",
       "      <th>75%</th>\n",
       "      <td>4.100000e+01</td>\n",
       "      <td>3.000000e+01</td>\n",
       "      <td>1.490000e+02</td>\n",
       "      <td>1.490000e+02</td>\n",
       "      <td>1.000000e+00</td>\n",
       "      <td>2.016093e+07</td>\n",
       "      <td>2.016103e+07</td>\n",
       "      <td>0.000000e+00</td>\n",
       "      <td>0.000000e+00</td>\n",
       "    </tr>\n",
       "    <tr>\n",
       "      <th>max</th>\n",
       "      <td>4.100000e+01</td>\n",
       "      <td>4.500000e+02</td>\n",
       "      <td>2.000000e+03</td>\n",
       "      <td>2.000000e+03</td>\n",
       "      <td>1.000000e+00</td>\n",
       "      <td>2.017030e+07</td>\n",
       "      <td>2.017023e+07</td>\n",
       "      <td>1.000000e+00</td>\n",
       "      <td>1.788000e+03</td>\n",
       "    </tr>\n",
       "  </tbody>\n",
       "</table>\n",
       "</div>"
      ],
      "text/plain": [
       "       payment_method_id  payment_plan_days  plan_list_price  \\\n",
       "count       1.366429e+07       1.366429e+07     1.366429e+07   \n",
       "mean        3.926181e+01       2.992232e+01     1.317261e+02   \n",
       "std         3.263967e+00       1.756192e+01     7.888522e+01   \n",
       "min         2.000000e+00       0.000000e+00     0.000000e+00   \n",
       "25%         3.800000e+01       3.000000e+01     9.900000e+01   \n",
       "50%         4.100000e+01       3.000000e+01     1.490000e+02   \n",
       "75%         4.100000e+01       3.000000e+01     1.490000e+02   \n",
       "max         4.100000e+01       4.500000e+02     2.000000e+03   \n",
       "\n",
       "       actual_amount_paid  is_auto_renew  transaction_date  \\\n",
       "count        1.366429e+07   1.366429e+07      1.366429e+07   \n",
       "mean         1.362609e+02   9.047002e-01      2.015808e+07   \n",
       "std          7.586549e+01   2.936286e-01      5.617590e+03   \n",
       "min          0.000000e+00   0.000000e+00      2.015010e+07   \n",
       "25%          9.900000e+01   1.000000e+00      2.015103e+07   \n",
       "50%          1.490000e+02   1.000000e+00      2.016050e+07   \n",
       "75%          1.490000e+02   1.000000e+00      2.016093e+07   \n",
       "max          2.000000e+03   1.000000e+00      2.017030e+07   \n",
       "\n",
       "       membership_expire_date     is_cancel        credit  \n",
       "count            1.366429e+07  1.366429e+07  1.366429e+07  \n",
       "mean             2.015916e+07  1.788714e-02  4.534741e+00  \n",
       "std              6.083125e+03  1.325413e-01  3.257340e+01  \n",
       "min              2.015010e+07  0.000000e+00 -6.990000e+02  \n",
       "25%              2.015121e+07  0.000000e+00  0.000000e+00  \n",
       "50%              2.016061e+07  0.000000e+00  0.000000e+00  \n",
       "75%              2.016103e+07  0.000000e+00  0.000000e+00  \n",
       "max              2.017023e+07  1.000000e+00  1.788000e+03  "
      ]
     },
     "execution_count": 28,
     "metadata": {},
     "output_type": "execute_result"
    }
   ],
   "source": [
    "transactions_df.describe()"
   ]
  },
  {
   "cell_type": "code",
   "execution_count": 29,
   "metadata": {},
   "outputs": [],
   "source": [
    "trans_count_by_date = transactions_df.groupby('transaction_date_dt')['msno'].count()\n",
    "trans_count_by_exp = transactions_df.groupby('membership_expire_date_dt')['msno'].count()"
   ]
  },
  {
   "cell_type": "code",
   "execution_count": 30,
   "metadata": {},
   "outputs": [
    {
     "data": {
      "image/png": "[encoded data removed]",
      "text/plain": [
       "<Figure size 576x432 with 1 Axes>"
      ]
     },
     "metadata": {},
     "output_type": "display_data"
    }
   ],
   "source": [
    "plt.figure(figsize=(8, 6)) \n",
    "ax = sns.lineplot(trans_count_by_date.index, trans_count_by_date, label='Transaction')\n",
    "ax = sns.lineplot(trans_count_by_exp.index, trans_count_by_exp, label='Expiration')\n",
    "ax.set_xlabel('Dates')\n",
    "ax.set_ylabel('Count')\n",
    "plt.tight_layout()"
   ]
  },
  {
   "cell_type": "markdown",
   "metadata": {},
   "source": [
    "## Sample of User logs dataset"
   ]
  },
  {
   "cell_type": "code",
   "execution_count": 31,
   "metadata": {},
   "outputs": [],
   "source": [
    "user_logs_v1_df = pd.read_csv('user_logs.csv', nrows=5000000)\n",
    "user_logs_v2_df = pd.read_csv('user_logs_v2.csv', nrows=5000000)\n",
    "user_logs_df = pd.concat([user_logs_v1_df, user_logs_v2_df], ignore_index=True)"
   ]
  },
  {
   "cell_type": "code",
   "execution_count": 32,
   "metadata": {},
   "outputs": [
    {
     "data": {
      "text/plain": [
       "(10000000, 9)"
      ]
     },
     "execution_count": 32,
     "metadata": {},
     "output_type": "execute_result"
    }
   ],
   "source": [
    "user_logs_df.shape"
   ]
  },
  {
   "cell_type": "code",
   "execution_count": 33,
   "metadata": {},
   "outputs": [],
   "source": [
    "user_logs_df.date = pd.to_datetime(user_logs_df.date, format='%Y%m%d', errors='ignore')"
   ]
  },
  {
   "cell_type": "code",
   "execution_count": 34,
   "metadata": {},
   "outputs": [
    {
     "data": {
      "text/html": [
       "<div>\n",
       "<style scoped>\n",
       "    .dataframe tbody tr th:only-of-type {\n",
       "        vertical-align: middle;\n",
       "    }\n",
       "\n",
       "    .dataframe tbody tr th {\n",
       "        vertical-align: top;\n",
       "    }\n",
       "\n",
       "    .dataframe thead th {\n",
       "        text-align: right;\n",
       "    }\n",
       "</style>\n",
       "<table border=\"1\" class=\"dataframe\">\n",
       "  <thead>\n",
       "    <tr style=\"text-align: right;\">\n",
       "      <th></th>\n",
       "      <th>msno</th>\n",
       "      <th>date</th>\n",
       "      <th>num_25</th>\n",
       "      <th>num_50</th>\n",
       "      <th>num_75</th>\n",
       "      <th>num_985</th>\n",
       "      <th>num_100</th>\n",
       "      <th>num_unq</th>\n",
       "      <th>total_secs</th>\n",
       "    </tr>\n",
       "  </thead>\n",
       "  <tbody>\n",
       "    <tr>\n",
       "      <th>0</th>\n",
       "      <td>rxIP2f2aN0rYNp+toI0Obt/N/FYQX8hcO1fTmmy2h34=</td>\n",
       "      <td>2015-05-13</td>\n",
       "      <td>0</td>\n",
       "      <td>0</td>\n",
       "      <td>0</td>\n",
       "      <td>0</td>\n",
       "      <td>1</td>\n",
       "      <td>1</td>\n",
       "      <td>280.335</td>\n",
       "    </tr>\n",
       "    <tr>\n",
       "      <th>1</th>\n",
       "      <td>rxIP2f2aN0rYNp+toI0Obt/N/FYQX8hcO1fTmmy2h34=</td>\n",
       "      <td>2015-07-09</td>\n",
       "      <td>9</td>\n",
       "      <td>1</td>\n",
       "      <td>0</td>\n",
       "      <td>0</td>\n",
       "      <td>7</td>\n",
       "      <td>11</td>\n",
       "      <td>1658.948</td>\n",
       "    </tr>\n",
       "    <tr>\n",
       "      <th>2</th>\n",
       "      <td>yxiEWwE9VR5utpUecLxVdQ5B7NysUPfrNtGINaM2zA8=</td>\n",
       "      <td>2015-01-05</td>\n",
       "      <td>3</td>\n",
       "      <td>3</td>\n",
       "      <td>0</td>\n",
       "      <td>0</td>\n",
       "      <td>68</td>\n",
       "      <td>36</td>\n",
       "      <td>17364.956</td>\n",
       "    </tr>\n",
       "    <tr>\n",
       "      <th>3</th>\n",
       "      <td>yxiEWwE9VR5utpUecLxVdQ5B7NysUPfrNtGINaM2zA8=</td>\n",
       "      <td>2015-03-06</td>\n",
       "      <td>1</td>\n",
       "      <td>0</td>\n",
       "      <td>1</td>\n",
       "      <td>1</td>\n",
       "      <td>97</td>\n",
       "      <td>27</td>\n",
       "      <td>24667.317</td>\n",
       "    </tr>\n",
       "    <tr>\n",
       "      <th>4</th>\n",
       "      <td>yxiEWwE9VR5utpUecLxVdQ5B7NysUPfrNtGINaM2zA8=</td>\n",
       "      <td>2015-05-01</td>\n",
       "      <td>3</td>\n",
       "      <td>0</td>\n",
       "      <td>0</td>\n",
       "      <td>0</td>\n",
       "      <td>38</td>\n",
       "      <td>38</td>\n",
       "      <td>9649.029</td>\n",
       "    </tr>\n",
       "  </tbody>\n",
       "</table>\n",
       "</div>"
      ],
      "text/plain": [
       "                                           msno       date  num_25  num_50  \\\n",
       "0  rxIP2f2aN0rYNp+toI0Obt/N/FYQX8hcO1fTmmy2h34= 2015-05-13       0       0   \n",
       "1  rxIP2f2aN0rYNp+toI0Obt/N/FYQX8hcO1fTmmy2h34= 2015-07-09       9       1   \n",
       "2  yxiEWwE9VR5utpUecLxVdQ5B7NysUPfrNtGINaM2zA8= 2015-01-05       3       3   \n",
       "3  yxiEWwE9VR5utpUecLxVdQ5B7NysUPfrNtGINaM2zA8= 2015-03-06       1       0   \n",
       "4  yxiEWwE9VR5utpUecLxVdQ5B7NysUPfrNtGINaM2zA8= 2015-05-01       3       0   \n",
       "\n",
       "   num_75  num_985  num_100  num_unq  total_secs  \n",
       "0       0        0        1        1     280.335  \n",
       "1       0        0        7       11    1658.948  \n",
       "2       0        0       68       36   17364.956  \n",
       "3       1        1       97       27   24667.317  \n",
       "4       0        0       38       38    9649.029  "
      ]
     },
     "execution_count": 34,
     "metadata": {},
     "output_type": "execute_result"
    }
   ],
   "source": [
    "user_logs_df.head()"
   ]
  },
  {
   "cell_type": "code",
   "execution_count": 35,
   "metadata": {},
   "outputs": [
    {
     "data": {
      "text/html": [
       "<div>\n",
       "<style scoped>\n",
       "    .dataframe tbody tr th:only-of-type {\n",
       "        vertical-align: middle;\n",
       "    }\n",
       "\n",
       "    .dataframe tbody tr th {\n",
       "        vertical-align: top;\n",
       "    }\n",
       "\n",
       "    .dataframe thead th {\n",
       "        text-align: right;\n",
       "    }\n",
       "</style>\n",
       "<table border=\"1\" class=\"dataframe\">\n",
       "  <thead>\n",
       "    <tr style=\"text-align: right;\">\n",
       "      <th></th>\n",
       "      <th>num_25</th>\n",
       "      <th>num_50</th>\n",
       "      <th>num_75</th>\n",
       "      <th>num_985</th>\n",
       "      <th>num_100</th>\n",
       "      <th>num_unq</th>\n",
       "      <th>total_secs</th>\n",
       "    </tr>\n",
       "  </thead>\n",
       "  <tbody>\n",
       "    <tr>\n",
       "      <th>count</th>\n",
       "      <td>1.000000e+07</td>\n",
       "      <td>1.000000e+07</td>\n",
       "      <td>1.000000e+07</td>\n",
       "      <td>1.000000e+07</td>\n",
       "      <td>1.000000e+07</td>\n",
       "      <td>1.000000e+07</td>\n",
       "      <td>1.000000e+07</td>\n",
       "    </tr>\n",
       "    <tr>\n",
       "      <th>mean</th>\n",
       "      <td>6.347179e+00</td>\n",
       "      <td>1.575115e+00</td>\n",
       "      <td>9.790065e-01</td>\n",
       "      <td>1.104493e+00</td>\n",
       "      <td>3.051742e+01</td>\n",
       "      <td>2.958255e+01</td>\n",
       "      <td>-7.553942e+11</td>\n",
       "    </tr>\n",
       "    <tr>\n",
       "      <th>std</th>\n",
       "      <td>1.374924e+01</td>\n",
       "      <td>4.112909e+00</td>\n",
       "      <td>2.051987e+00</td>\n",
       "      <td>3.252344e+00</td>\n",
       "      <td>4.168863e+01</td>\n",
       "      <td>3.302750e+01</td>\n",
       "      <td>8.356869e+13</td>\n",
       "    </tr>\n",
       "    <tr>\n",
       "      <th>min</th>\n",
       "      <td>0.000000e+00</td>\n",
       "      <td>0.000000e+00</td>\n",
       "      <td>0.000000e+00</td>\n",
       "      <td>0.000000e+00</td>\n",
       "      <td>0.000000e+00</td>\n",
       "      <td>1.000000e+00</td>\n",
       "      <td>-9.223372e+15</td>\n",
       "    </tr>\n",
       "    <tr>\n",
       "      <th>25%</th>\n",
       "      <td>0.000000e+00</td>\n",
       "      <td>0.000000e+00</td>\n",
       "      <td>0.000000e+00</td>\n",
       "      <td>0.000000e+00</td>\n",
       "      <td>7.000000e+00</td>\n",
       "      <td>8.000000e+00</td>\n",
       "      <td>1.926887e+03</td>\n",
       "    </tr>\n",
       "    <tr>\n",
       "      <th>50%</th>\n",
       "      <td>2.000000e+00</td>\n",
       "      <td>1.000000e+00</td>\n",
       "      <td>0.000000e+00</td>\n",
       "      <td>0.000000e+00</td>\n",
       "      <td>1.700000e+01</td>\n",
       "      <td>1.900000e+01</td>\n",
       "      <td>4.606630e+03</td>\n",
       "    </tr>\n",
       "    <tr>\n",
       "      <th>75%</th>\n",
       "      <td>7.000000e+00</td>\n",
       "      <td>2.000000e+00</td>\n",
       "      <td>1.000000e+00</td>\n",
       "      <td>1.000000e+00</td>\n",
       "      <td>3.800000e+01</td>\n",
       "      <td>3.900000e+01</td>\n",
       "      <td>1.005092e+04</td>\n",
       "    </tr>\n",
       "    <tr>\n",
       "      <th>max</th>\n",
       "      <td>4.312000e+03</td>\n",
       "      <td>8.620000e+02</td>\n",
       "      <td>4.700000e+02</td>\n",
       "      <td>1.515000e+03</td>\n",
       "      <td>1.946200e+04</td>\n",
       "      <td>3.547000e+03</td>\n",
       "      <td>9.223372e+15</td>\n",
       "    </tr>\n",
       "  </tbody>\n",
       "</table>\n",
       "</div>"
      ],
      "text/plain": [
       "             num_25        num_50        num_75       num_985       num_100  \\\n",
       "count  1.000000e+07  1.000000e+07  1.000000e+07  1.000000e+07  1.000000e+07   \n",
       "mean   6.347179e+00  1.575115e+00  9.790065e-01  1.104493e+00  3.051742e+01   \n",
       "std    1.374924e+01  4.112909e+00  2.051987e+00  3.252344e+00  4.168863e+01   \n",
       "min    0.000000e+00  0.000000e+00  0.000000e+00  0.000000e+00  0.000000e+00   \n",
       "25%    0.000000e+00  0.000000e+00  0.000000e+00  0.000000e+00  7.000000e+00   \n",
       "50%    2.000000e+00  1.000000e+00  0.000000e+00  0.000000e+00  1.700000e+01   \n",
       "75%    7.000000e+00  2.000000e+00  1.000000e+00  1.000000e+00  3.800000e+01   \n",
       "max    4.312000e+03  8.620000e+02  4.700000e+02  1.515000e+03  1.946200e+04   \n",
       "\n",
       "            num_unq    total_secs  \n",
       "count  1.000000e+07  1.000000e+07  \n",
       "mean   2.958255e+01 -7.553942e+11  \n",
       "std    3.302750e+01  8.356869e+13  \n",
       "min    1.000000e+00 -9.223372e+15  \n",
       "25%    8.000000e+00  1.926887e+03  \n",
       "50%    1.900000e+01  4.606630e+03  \n",
       "75%    3.900000e+01  1.005092e+04  \n",
       "max    3.547000e+03  9.223372e+15  "
      ]
     },
     "execution_count": 35,
     "metadata": {},
     "output_type": "execute_result"
    }
   ],
   "source": [
    "user_logs_df.describe()"
   ]
  },
  {
   "cell_type": "code",
   "execution_count": 36,
   "metadata": {},
   "outputs": [
    {
     "data": {
      "text/plain": [
       "msno          0\n",
       "date          0\n",
       "num_25        0\n",
       "num_50        0\n",
       "num_75        0\n",
       "num_985       0\n",
       "num_100       0\n",
       "num_unq       0\n",
       "total_secs    0\n",
       "dtype: int64"
      ]
     },
     "execution_count": 36,
     "metadata": {},
     "output_type": "execute_result"
    }
   ],
   "source": [
    "user_logs_df.isnull().sum()"
   ]
  },
  {
   "cell_type": "code",
   "execution_count": 37,
   "metadata": {},
   "outputs": [],
   "source": [
    "# bins edges\n",
    "bin_p = 1\n",
    "bin_edges = list(range(0, 100+bin_p, bin_p))"
   ]
  },
  {
   "cell_type": "code",
   "execution_count": 38,
   "metadata": {},
   "outputs": [
    {
     "data": {
      "image/png": "[encoded data removed]",
      "text/plain": [
       "<Figure size 576x432 with 1 Axes>"
      ]
     },
     "metadata": {},
     "output_type": "display_data"
    }
   ],
   "source": [
    "plt.figure(figsize=(8, 6))\n",
    "\n",
    "n25 = user_logs_df['num_25']\n",
    "n50 = user_logs_df['num_50']\n",
    "n75 = user_logs_df['num_75']\n",
    "n985 = user_logs_df['num_985']\n",
    "n100 = user_logs_df['num_100']\n",
    "names = ['num_25', \n",
    "         'num_50', \n",
    "         'num_75', \n",
    "         'num_985', \n",
    "         'num_100']\n",
    "plt.hist([n25, n50, n75, n985, n100], \n",
    "         density=True, \n",
    "         stacked=True, \n",
    "         bins=bin_edges, \n",
    "         label=names)\n",
    "plt.legend()\n",
    "plt.xlim([0, 40])\n",
    "plt.tight_layout()"
   ]
  },
  {
   "cell_type": "code",
   "execution_count": 39,
   "metadata": {},
   "outputs": [
    {
     "data": {
      "text/html": [
       "<div>\n",
       "<style scoped>\n",
       "    .dataframe tbody tr th:only-of-type {\n",
       "        vertical-align: middle;\n",
       "    }\n",
       "\n",
       "    .dataframe tbody tr th {\n",
       "        vertical-align: top;\n",
       "    }\n",
       "\n",
       "    .dataframe thead th {\n",
       "        text-align: right;\n",
       "    }\n",
       "</style>\n",
       "<table border=\"1\" class=\"dataframe\">\n",
       "  <thead>\n",
       "    <tr style=\"text-align: right;\">\n",
       "      <th></th>\n",
       "      <th>num_25</th>\n",
       "      <th>num_50</th>\n",
       "      <th>num_75</th>\n",
       "      <th>num_985</th>\n",
       "      <th>num_100</th>\n",
       "      <th>num_unq</th>\n",
       "      <th>total_secs</th>\n",
       "    </tr>\n",
       "    <tr>\n",
       "      <th>date</th>\n",
       "      <th></th>\n",
       "      <th></th>\n",
       "      <th></th>\n",
       "      <th></th>\n",
       "      <th></th>\n",
       "      <th></th>\n",
       "      <th></th>\n",
       "    </tr>\n",
       "  </thead>\n",
       "  <tbody>\n",
       "    <tr>\n",
       "      <th>2015-01-01</th>\n",
       "      <td>5.958517</td>\n",
       "      <td>1.727856</td>\n",
       "      <td>1.056713</td>\n",
       "      <td>1.341483</td>\n",
       "      <td>30.949299</td>\n",
       "      <td>29.138677</td>\n",
       "      <td>8366.537511</td>\n",
       "    </tr>\n",
       "    <tr>\n",
       "      <th>2015-01-02</th>\n",
       "      <td>6.284356</td>\n",
       "      <td>1.907723</td>\n",
       "      <td>1.071881</td>\n",
       "      <td>1.274851</td>\n",
       "      <td>31.303564</td>\n",
       "      <td>30.037228</td>\n",
       "      <td>8487.968110</td>\n",
       "    </tr>\n",
       "    <tr>\n",
       "      <th>2015-01-03</th>\n",
       "      <td>6.495662</td>\n",
       "      <td>1.859842</td>\n",
       "      <td>1.118373</td>\n",
       "      <td>1.261423</td>\n",
       "      <td>31.869481</td>\n",
       "      <td>30.416233</td>\n",
       "      <td>8600.444519</td>\n",
       "    </tr>\n",
       "    <tr>\n",
       "      <th>2015-01-04</th>\n",
       "      <td>6.388609</td>\n",
       "      <td>1.710190</td>\n",
       "      <td>1.035064</td>\n",
       "      <td>1.207671</td>\n",
       "      <td>30.200891</td>\n",
       "      <td>28.935103</td>\n",
       "      <td>8600.382435</td>\n",
       "    </tr>\n",
       "    <tr>\n",
       "      <th>2015-01-05</th>\n",
       "      <td>5.808012</td>\n",
       "      <td>1.541761</td>\n",
       "      <td>0.963341</td>\n",
       "      <td>1.119048</td>\n",
       "      <td>31.549887</td>\n",
       "      <td>28.828420</td>\n",
       "      <td>8442.078268</td>\n",
       "    </tr>\n",
       "  </tbody>\n",
       "</table>\n",
       "</div>"
      ],
      "text/plain": [
       "              num_25    num_50    num_75   num_985    num_100    num_unq  \\\n",
       "date                                                                       \n",
       "2015-01-01  5.958517  1.727856  1.056713  1.341483  30.949299  29.138677   \n",
       "2015-01-02  6.284356  1.907723  1.071881  1.274851  31.303564  30.037228   \n",
       "2015-01-03  6.495662  1.859842  1.118373  1.261423  31.869481  30.416233   \n",
       "2015-01-04  6.388609  1.710190  1.035064  1.207671  30.200891  28.935103   \n",
       "2015-01-05  5.808012  1.541761  0.963341  1.119048  31.549887  28.828420   \n",
       "\n",
       "             total_secs  \n",
       "date                     \n",
       "2015-01-01  8366.537511  \n",
       "2015-01-02  8487.968110  \n",
       "2015-01-03  8600.444519  \n",
       "2015-01-04  8600.382435  \n",
       "2015-01-05  8442.078268  "
      ]
     },
     "execution_count": 39,
     "metadata": {},
     "output_type": "execute_result"
    }
   ],
   "source": [
    "grouped = user_logs_df.groupby(pd.Grouper(key='date', freq='D')).mean()\n",
    "grouped.head()"
   ]
  },
  {
   "cell_type": "code",
   "execution_count": 40,
   "metadata": {},
   "outputs": [
    {
     "data": {
      "image/png": "[encoded data removed]",
      "text/plain": [
       "<Figure size 576x432 with 1 Axes>"
      ]
     },
     "metadata": {},
     "output_type": "display_data"
    }
   ],
   "source": [
    "plt.figure(figsize=(8, 6)) \n",
    "ax = sns.lineplot(grouped.index, \n",
    "                  grouped['num_unq'], \n",
    "                  color='blue', \n",
    "                  alpha=.7)\n",
    "plt.xlabel('Date')\n",
    "plt.ylabel('Average Occurence')\n",
    "plt.title('num_unq')\n",
    "plt.tight_layout()"
   ]
  },
  {
   "cell_type": "code",
   "execution_count": 41,
   "metadata": {},
   "outputs": [
    {
     "data": {
      "image/png": "[encoded data removed]",
      "text/plain": [
       "<Figure size 576x432 with 1 Axes>"
      ]
     },
     "metadata": {},
     "output_type": "display_data"
    }
   ],
   "source": [
    "plt.figure(figsize=(8,6)) \n",
    "plt.plot(grouped.index, grouped['num_25'], label = 'num_25')\n",
    "plt.plot(grouped.index, grouped['num_50'], label = 'num_50')\n",
    "plt.plot(grouped.index, grouped['num_75'], label = 'num_75')\n",
    "plt.plot(grouped.index, grouped['num_985'], label = 'num_985')\n",
    "plt.plot(grouped.index, grouped['num_100'], label = 'num_100')\n",
    "plt.legend()\n",
    "plt.xlabel('Date')\n",
    "plt.ylabel('Average occurence')\n",
    "plt.tight_layout()"
   ]
  },
  {
   "cell_type": "markdown",
   "metadata": {},
   "source": [
    "## Members dataset"
   ]
  },
  {
   "cell_type": "code",
   "execution_count": 42,
   "metadata": {},
   "outputs": [
    {
     "data": {
      "text/html": [
       "<div>\n",
       "<style scoped>\n",
       "    .dataframe tbody tr th:only-of-type {\n",
       "        vertical-align: middle;\n",
       "    }\n",
       "\n",
       "    .dataframe tbody tr th {\n",
       "        vertical-align: top;\n",
       "    }\n",
       "\n",
       "    .dataframe thead th {\n",
       "        text-align: right;\n",
       "    }\n",
       "</style>\n",
       "<table border=\"1\" class=\"dataframe\">\n",
       "  <thead>\n",
       "    <tr style=\"text-align: right;\">\n",
       "      <th></th>\n",
       "      <th>msno</th>\n",
       "      <th>city</th>\n",
       "      <th>bd</th>\n",
       "      <th>gender</th>\n",
       "      <th>registered_via</th>\n",
       "      <th>registration_init_time</th>\n",
       "      <th>registration_init_time_dt</th>\n",
       "    </tr>\n",
       "  </thead>\n",
       "  <tbody>\n",
       "    <tr>\n",
       "      <th>1</th>\n",
       "      <td>+tJonkh+O1CA796Fm5X60UMOtB6POHAwPjbTRVl/EuU=</td>\n",
       "      <td>1</td>\n",
       "      <td>NaN</td>\n",
       "      <td>missing</td>\n",
       "      <td>7</td>\n",
       "      <td>20110914</td>\n",
       "      <td>2011-09-14</td>\n",
       "    </tr>\n",
       "    <tr>\n",
       "      <th>7</th>\n",
       "      <td>WH5Jq4mgtfUFXh2yz+HrcTXKS4Oess4k4W3qKolAeb0=</td>\n",
       "      <td>5</td>\n",
       "      <td>34.0</td>\n",
       "      <td>male</td>\n",
       "      <td>9</td>\n",
       "      <td>20110916</td>\n",
       "      <td>2011-09-16</td>\n",
       "    </tr>\n",
       "    <tr>\n",
       "      <th>9</th>\n",
       "      <td>I0yFvqMoNkM8ZNHb617e1RBzIS/YRKemHO7Wj13EtA0=</td>\n",
       "      <td>13</td>\n",
       "      <td>63.0</td>\n",
       "      <td>male</td>\n",
       "      <td>9</td>\n",
       "      <td>20110918</td>\n",
       "      <td>2011-09-18</td>\n",
       "    </tr>\n",
       "    <tr>\n",
       "      <th>10</th>\n",
       "      <td>OoDwiKZM+ZGr9P3fRivavgOtglTEaNfWJO4KaJcTTts=</td>\n",
       "      <td>1</td>\n",
       "      <td>NaN</td>\n",
       "      <td>missing</td>\n",
       "      <td>7</td>\n",
       "      <td>20110918</td>\n",
       "      <td>2011-09-18</td>\n",
       "    </tr>\n",
       "    <tr>\n",
       "      <th>13</th>\n",
       "      <td>4De1jAxNRABoyRBDZ82U0yEmzYkqeOugRGVNIf92Xb8=</td>\n",
       "      <td>4</td>\n",
       "      <td>28.0</td>\n",
       "      <td>female</td>\n",
       "      <td>9</td>\n",
       "      <td>20110920</td>\n",
       "      <td>2011-09-20</td>\n",
       "    </tr>\n",
       "  </tbody>\n",
       "</table>\n",
       "</div>"
      ],
      "text/plain": [
       "                                            msno  city    bd   gender  \\\n",
       "1   +tJonkh+O1CA796Fm5X60UMOtB6POHAwPjbTRVl/EuU=     1   NaN  missing   \n",
       "7   WH5Jq4mgtfUFXh2yz+HrcTXKS4Oess4k4W3qKolAeb0=     5  34.0     male   \n",
       "9   I0yFvqMoNkM8ZNHb617e1RBzIS/YRKemHO7Wj13EtA0=    13  63.0     male   \n",
       "10  OoDwiKZM+ZGr9P3fRivavgOtglTEaNfWJO4KaJcTTts=     1   NaN  missing   \n",
       "13  4De1jAxNRABoyRBDZ82U0yEmzYkqeOugRGVNIf92Xb8=     4  28.0   female   \n",
       "\n",
       "    registered_via  registration_init_time registration_init_time_dt  \n",
       "1                7                20110914                2011-09-14  \n",
       "7                9                20110916                2011-09-16  \n",
       "9                9                20110918                2011-09-18  \n",
       "10               7                20110918                2011-09-18  \n",
       "13               9                20110920                2011-09-20  "
      ]
     },
     "execution_count": 42,
     "metadata": {},
     "output_type": "execute_result"
    }
   ],
   "source": [
    "members_df = pd.read_pickle('Data/members_clean.pickle')\n",
    "members_df.head()"
   ]
  },
  {
   "cell_type": "code",
   "execution_count": 43,
   "metadata": {},
   "outputs": [
    {
     "name": "stdout",
     "output_type": "stream",
     "text": [
      "<class 'pandas.core.frame.DataFrame'>\n",
      "Int64Index: 857038 entries, 1 to 6769469\n",
      "Data columns (total 7 columns):\n",
      " #   Column                     Non-Null Count   Dtype         \n",
      "---  ------                     --------------   -----         \n",
      " 0   msno                       857038 non-null  object        \n",
      " 1   city                       857038 non-null  int64         \n",
      " 2   bd                         359028 non-null  float64       \n",
      " 3   gender                     857038 non-null  object        \n",
      " 4   registered_via             857038 non-null  int64         \n",
      " 5   registration_init_time     857038 non-null  int64         \n",
      " 6   registration_init_time_dt  857038 non-null  datetime64[ns]\n",
      "dtypes: datetime64[ns](1), float64(1), int64(3), object(2)\n",
      "memory usage: 52.3+ MB\n"
     ]
    }
   ],
   "source": [
    "members_df.info()"
   ]
  },
  {
   "cell_type": "code",
   "execution_count": 44,
   "metadata": {},
   "outputs": [
    {
     "data": {
      "text/html": [
       "<div>\n",
       "<style scoped>\n",
       "    .dataframe tbody tr th:only-of-type {\n",
       "        vertical-align: middle;\n",
       "    }\n",
       "\n",
       "    .dataframe tbody tr th {\n",
       "        vertical-align: top;\n",
       "    }\n",
       "\n",
       "    .dataframe thead th {\n",
       "        text-align: right;\n",
       "    }\n",
       "</style>\n",
       "<table border=\"1\" class=\"dataframe\">\n",
       "  <thead>\n",
       "    <tr style=\"text-align: right;\">\n",
       "      <th></th>\n",
       "      <th>city</th>\n",
       "      <th>bd</th>\n",
       "      <th>registered_via</th>\n",
       "      <th>registration_init_time</th>\n",
       "    </tr>\n",
       "  </thead>\n",
       "  <tbody>\n",
       "    <tr>\n",
       "      <th>count</th>\n",
       "      <td>857038.000000</td>\n",
       "      <td>359028.000000</td>\n",
       "      <td>857038.000000</td>\n",
       "      <td>8.570380e+05</td>\n",
       "    </tr>\n",
       "    <tr>\n",
       "      <th>mean</th>\n",
       "      <td>5.487433</td>\n",
       "      <td>29.586275</td>\n",
       "      <td>6.825676</td>\n",
       "      <td>2.013501e+07</td>\n",
       "    </tr>\n",
       "    <tr>\n",
       "      <th>std</th>\n",
       "      <td>6.270107</td>\n",
       "      <td>9.135242</td>\n",
       "      <td>1.907170</td>\n",
       "      <td>2.889588e+04</td>\n",
       "    </tr>\n",
       "    <tr>\n",
       "      <th>min</th>\n",
       "      <td>1.000000</td>\n",
       "      <td>1.000000</td>\n",
       "      <td>3.000000</td>\n",
       "      <td>2.004033e+07</td>\n",
       "    </tr>\n",
       "    <tr>\n",
       "      <th>25%</th>\n",
       "      <td>1.000000</td>\n",
       "      <td>23.000000</td>\n",
       "      <td>7.000000</td>\n",
       "      <td>2.012063e+07</td>\n",
       "    </tr>\n",
       "    <tr>\n",
       "      <th>50%</th>\n",
       "      <td>1.000000</td>\n",
       "      <td>28.000000</td>\n",
       "      <td>7.000000</td>\n",
       "      <td>2.014101e+07</td>\n",
       "    </tr>\n",
       "    <tr>\n",
       "      <th>75%</th>\n",
       "      <td>11.000000</td>\n",
       "      <td>34.000000</td>\n",
       "      <td>7.000000</td>\n",
       "      <td>2.016020e+07</td>\n",
       "    </tr>\n",
       "    <tr>\n",
       "      <th>max</th>\n",
       "      <td>22.000000</td>\n",
       "      <td>99.000000</td>\n",
       "      <td>13.000000</td>\n",
       "      <td>2.017042e+07</td>\n",
       "    </tr>\n",
       "  </tbody>\n",
       "</table>\n",
       "</div>"
      ],
      "text/plain": [
       "                city             bd  registered_via  registration_init_time\n",
       "count  857038.000000  359028.000000   857038.000000            8.570380e+05\n",
       "mean        5.487433      29.586275        6.825676            2.013501e+07\n",
       "std         6.270107       9.135242        1.907170            2.889588e+04\n",
       "min         1.000000       1.000000        3.000000            2.004033e+07\n",
       "25%         1.000000      23.000000        7.000000            2.012063e+07\n",
       "50%         1.000000      28.000000        7.000000            2.014101e+07\n",
       "75%        11.000000      34.000000        7.000000            2.016020e+07\n",
       "max        22.000000      99.000000       13.000000            2.017042e+07"
      ]
     },
     "execution_count": 44,
     "metadata": {},
     "output_type": "execute_result"
    }
   ],
   "source": [
    "members_df.describe()"
   ]
  },
  {
   "cell_type": "code",
   "execution_count": 45,
   "metadata": {},
   "outputs": [
    {
     "data": {
      "text/plain": [
       "msno                              0\n",
       "city                              0\n",
       "bd                           498010\n",
       "gender                            0\n",
       "registered_via                    0\n",
       "registration_init_time            0\n",
       "registration_init_time_dt         0\n",
       "dtype: int64"
      ]
     },
     "execution_count": 45,
     "metadata": {},
     "output_type": "execute_result"
    }
   ],
   "source": [
    "members_df.isnull().sum()"
   ]
  },
  {
   "cell_type": "code",
   "execution_count": 46,
   "metadata": {},
   "outputs": [
    {
     "data": {
      "text/plain": [
       "1     472151\n",
       "13     88807\n",
       "5      68700\n",
       "4      45819\n",
       "22     37422\n",
       "15     36316\n",
       "6      23469\n",
       "14     17779\n",
       "12     11338\n",
       "9       8583\n",
       "8       7351\n",
       "11      7280\n",
       "18      7026\n",
       "10      6034\n",
       "21      5172\n",
       "3       4921\n",
       "17      4817\n",
       "7       2285\n",
       "16       924\n",
       "20       699\n",
       "19       145\n",
       "Name: city, dtype: int64"
      ]
     },
     "execution_count": 46,
     "metadata": {},
     "output_type": "execute_result"
    }
   ],
   "source": [
    "members_per_city = members_df.city.value_counts()\n",
    "members_per_city"
   ]
  },
  {
   "cell_type": "code",
   "execution_count": 47,
   "metadata": {},
   "outputs": [
    {
     "data": {
      "image/png": "[encoded data removed]",
      "text/plain": [
       "<Figure size 576x432 with 1 Axes>"
      ]
     },
     "metadata": {},
     "output_type": "display_data"
    }
   ],
   "source": [
    "plt.figure(figsize=(8,6))\n",
    "clrs = ['grey' if (x < max(members_per_city)) else 'red' for x in members_per_city]\n",
    "city_hist = sns.countplot(x='city', data=members_df, palette=clrs) #, dodge=False)\n",
    "city_hist.set_yscale(\"log\")"
   ]
  },
  {
   "cell_type": "code",
   "execution_count": 48,
   "metadata": {},
   "outputs": [],
   "source": [
    "# age"
   ]
  },
  {
   "cell_type": "code",
   "execution_count": 49,
   "metadata": {},
   "outputs": [
    {
     "data": {
      "image/png": "[encoded data removed]",
      "text/plain": [
       "<Figure size 432x288 with 1 Axes>"
      ]
     },
     "metadata": {},
     "output_type": "display_data"
    }
   ],
   "source": [
    "members_df.bd.hist(bins=30)\n",
    "plt.tight_layout()"
   ]
  },
  {
   "cell_type": "code",
   "execution_count": 50,
   "metadata": {},
   "outputs": [],
   "source": [
    "# registration method"
   ]
  },
  {
   "cell_type": "code",
   "execution_count": 51,
   "metadata": {},
   "outputs": [
    {
     "data": {
      "text/plain": [
       "5"
      ]
     },
     "execution_count": 51,
     "metadata": {},
     "output_type": "execute_result"
    }
   ],
   "source": [
    "members_df.registered_via.nunique()"
   ]
  },
  {
   "cell_type": "code",
   "execution_count": 52,
   "metadata": {
    "scrolled": true
   },
   "outputs": [
    {
     "data": {
      "text/plain": [
       "registered_via\n",
       "3     103910\n",
       "4      58014\n",
       "7     481482\n",
       "9     210378\n",
       "13      3254\n",
       "Name: msno, dtype: int64"
      ]
     },
     "execution_count": 52,
     "metadata": {},
     "output_type": "execute_result"
    }
   ],
   "source": [
    "members_per_reg_via = members_df.groupby('registered_via')['msno'].count()\n",
    "members_per_reg_via"
   ]
  },
  {
   "cell_type": "code",
   "execution_count": 53,
   "metadata": {},
   "outputs": [
    {
     "data": {
      "image/png": "[encoded data removed]",
      "text/plain": [
       "<Figure size 432x288 with 1 Axes>"
      ]
     },
     "metadata": {},
     "output_type": "display_data"
    }
   ],
   "source": [
    "clrs = ['grey' if (x < members_per_reg_via.mean()) else 'orange' if \n",
    "        ((x > members_per_reg_via.mean()) & (x < max(members_per_reg_via))) else \n",
    "        'red' for x in members_per_reg_via]\n",
    "\n",
    "plt.figure()\n",
    "reg_via_hist = sns.countplot(members_df.registered_via, palette=clrs) #, dodge=False)\n",
    "reg_via_hist.set_yscale(\"log\")"
   ]
  },
  {
   "cell_type": "code",
   "execution_count": 54,
   "metadata": {},
   "outputs": [],
   "source": [
    "# gender"
   ]
  },
  {
   "cell_type": "code",
   "execution_count": 55,
   "metadata": {},
   "outputs": [
    {
     "data": {
      "text/plain": [
       "array(['missing', 'male', 'female'], dtype=object)"
      ]
     },
     "execution_count": 55,
     "metadata": {},
     "output_type": "execute_result"
    }
   ],
   "source": [
    "members_df.gender.unique()"
   ]
  },
  {
   "cell_type": "code",
   "execution_count": 56,
   "metadata": {},
   "outputs": [
    {
     "data": {
      "image/png": "[encoded data removed]",
      "text/plain": [
       "<Figure size 432x288 with 1 Axes>"
      ]
     },
     "metadata": {},
     "output_type": "display_data"
    }
   ],
   "source": [
    "plt.figure()\n",
    "ax = sns.countplot(members_df.gender)"
   ]
  },
  {
   "cell_type": "code",
   "execution_count": 57,
   "metadata": {},
   "outputs": [],
   "source": [
    "# Registration initial date"
   ]
  },
  {
   "cell_type": "code",
   "execution_count": 58,
   "metadata": {},
   "outputs": [
    {
     "data": {
      "text/plain": [
       "1     2011\n",
       "7     2011\n",
       "9     2011\n",
       "10    2011\n",
       "13    2011\n",
       "Name: registration_init_time_dt, dtype: period[A-DEC]"
      ]
     },
     "execution_count": 58,
     "metadata": {},
     "output_type": "execute_result"
    }
   ],
   "source": [
    "members_df.registration_init_time_dt.dt.to_period('Y').head()"
   ]
  },
  {
   "cell_type": "code",
   "execution_count": 59,
   "metadata": {},
   "outputs": [
    {
     "data": {
      "text/html": [
       "<div>\n",
       "<style scoped>\n",
       "    .dataframe tbody tr th:only-of-type {\n",
       "        vertical-align: middle;\n",
       "    }\n",
       "\n",
       "    .dataframe tbody tr th {\n",
       "        vertical-align: top;\n",
       "    }\n",
       "\n",
       "    .dataframe thead th {\n",
       "        text-align: right;\n",
       "    }\n",
       "</style>\n",
       "<table border=\"1\" class=\"dataframe\">\n",
       "  <thead>\n",
       "    <tr style=\"text-align: right;\">\n",
       "      <th></th>\n",
       "      <th>msno</th>\n",
       "      <th>city</th>\n",
       "      <th>bd</th>\n",
       "      <th>gender</th>\n",
       "      <th>registered_via</th>\n",
       "      <th>registration_init_time</th>\n",
       "      <th>registration_init_time_dt</th>\n",
       "      <th>year</th>\n",
       "      <th>month</th>\n",
       "      <th>day</th>\n",
       "    </tr>\n",
       "  </thead>\n",
       "  <tbody>\n",
       "    <tr>\n",
       "      <th>1</th>\n",
       "      <td>+tJonkh+O1CA796Fm5X60UMOtB6POHAwPjbTRVl/EuU=</td>\n",
       "      <td>1</td>\n",
       "      <td>NaN</td>\n",
       "      <td>missing</td>\n",
       "      <td>7</td>\n",
       "      <td>20110914</td>\n",
       "      <td>2011-09-14</td>\n",
       "      <td>2011</td>\n",
       "      <td>9</td>\n",
       "      <td>14</td>\n",
       "    </tr>\n",
       "    <tr>\n",
       "      <th>7</th>\n",
       "      <td>WH5Jq4mgtfUFXh2yz+HrcTXKS4Oess4k4W3qKolAeb0=</td>\n",
       "      <td>5</td>\n",
       "      <td>34.0</td>\n",
       "      <td>male</td>\n",
       "      <td>9</td>\n",
       "      <td>20110916</td>\n",
       "      <td>2011-09-16</td>\n",
       "      <td>2011</td>\n",
       "      <td>9</td>\n",
       "      <td>16</td>\n",
       "    </tr>\n",
       "    <tr>\n",
       "      <th>9</th>\n",
       "      <td>I0yFvqMoNkM8ZNHb617e1RBzIS/YRKemHO7Wj13EtA0=</td>\n",
       "      <td>13</td>\n",
       "      <td>63.0</td>\n",
       "      <td>male</td>\n",
       "      <td>9</td>\n",
       "      <td>20110918</td>\n",
       "      <td>2011-09-18</td>\n",
       "      <td>2011</td>\n",
       "      <td>9</td>\n",
       "      <td>18</td>\n",
       "    </tr>\n",
       "    <tr>\n",
       "      <th>10</th>\n",
       "      <td>OoDwiKZM+ZGr9P3fRivavgOtglTEaNfWJO4KaJcTTts=</td>\n",
       "      <td>1</td>\n",
       "      <td>NaN</td>\n",
       "      <td>missing</td>\n",
       "      <td>7</td>\n",
       "      <td>20110918</td>\n",
       "      <td>2011-09-18</td>\n",
       "      <td>2011</td>\n",
       "      <td>9</td>\n",
       "      <td>18</td>\n",
       "    </tr>\n",
       "    <tr>\n",
       "      <th>13</th>\n",
       "      <td>4De1jAxNRABoyRBDZ82U0yEmzYkqeOugRGVNIf92Xb8=</td>\n",
       "      <td>4</td>\n",
       "      <td>28.0</td>\n",
       "      <td>female</td>\n",
       "      <td>9</td>\n",
       "      <td>20110920</td>\n",
       "      <td>2011-09-20</td>\n",
       "      <td>2011</td>\n",
       "      <td>9</td>\n",
       "      <td>20</td>\n",
       "    </tr>\n",
       "  </tbody>\n",
       "</table>\n",
       "</div>"
      ],
      "text/plain": [
       "                                            msno  city    bd   gender  \\\n",
       "1   +tJonkh+O1CA796Fm5X60UMOtB6POHAwPjbTRVl/EuU=     1   NaN  missing   \n",
       "7   WH5Jq4mgtfUFXh2yz+HrcTXKS4Oess4k4W3qKolAeb0=     5  34.0     male   \n",
       "9   I0yFvqMoNkM8ZNHb617e1RBzIS/YRKemHO7Wj13EtA0=    13  63.0     male   \n",
       "10  OoDwiKZM+ZGr9P3fRivavgOtglTEaNfWJO4KaJcTTts=     1   NaN  missing   \n",
       "13  4De1jAxNRABoyRBDZ82U0yEmzYkqeOugRGVNIf92Xb8=     4  28.0   female   \n",
       "\n",
       "    registered_via  registration_init_time registration_init_time_dt  year  \\\n",
       "1                7                20110914                2011-09-14  2011   \n",
       "7                9                20110916                2011-09-16  2011   \n",
       "9                9                20110918                2011-09-18  2011   \n",
       "10               7                20110918                2011-09-18  2011   \n",
       "13               9                20110920                2011-09-20  2011   \n",
       "\n",
       "    month  day  \n",
       "1       9   14  \n",
       "7       9   16  \n",
       "9       9   18  \n",
       "10      9   18  \n",
       "13      9   20  "
      ]
     },
     "execution_count": 59,
     "metadata": {},
     "output_type": "execute_result"
    }
   ],
   "source": [
    "members_df['year'] = members_df.registration_init_time_dt.dt.year\n",
    "members_df['month'] = members_df.registration_init_time_dt.dt.month\n",
    "members_df['day'] = members_df.registration_init_time_dt.dt.day\n",
    "members_df.head()"
   ]
  },
  {
   "cell_type": "code",
   "execution_count": 60,
   "metadata": {},
   "outputs": [
    {
     "data": {
      "image/png": "[encoded data removed]",
      "text/plain": [
       "<Figure size 432x288 with 1 Axes>"
      ]
     },
     "metadata": {},
     "output_type": "display_data"
    }
   ],
   "source": [
    "plt.figure()\n",
    "ax = sns.countplot(data=members_df, x='year', color='Gray')\n",
    "plt.xticks(rotation=30)\n",
    "plt.tight_layout()"
   ]
  },
  {
   "cell_type": "code",
   "execution_count": 61,
   "metadata": {},
   "outputs": [
    {
     "data": {
      "text/plain": [
       "month\n",
       "1     91779\n",
       "2     85543\n",
       "3     62917\n",
       "4     47681\n",
       "5     53942\n",
       "6     57407\n",
       "7     73373\n",
       "8     75918\n",
       "9     67528\n",
       "10    79764\n",
       "11    78726\n",
       "12    82460\n",
       "Name: registration_init_time, dtype: int64"
      ]
     },
     "execution_count": 61,
     "metadata": {},
     "output_type": "execute_result"
    }
   ],
   "source": [
    "count_by_month = members_df.groupby(['month'])['registration_init_time'].count()\n",
    "count_by_month"
   ]
  },
  {
   "cell_type": "code",
   "execution_count": 62,
   "metadata": {},
   "outputs": [
    {
     "data": {
      "text/plain": [
       "dict_values(['Jan', 'Feb', 'Mar', 'Apr', 'May', 'Jun', 'Jul', 'Aug', 'Sep', 'Oct', 'Nov', 'Dec'])"
      ]
     },
     "execution_count": 62,
     "metadata": {},
     "output_type": "execute_result"
    }
   ],
   "source": [
    "month_dict = {1: 'Jan',\n",
    "             2: 'Feb',\n",
    "             3: 'Mar',\n",
    "             4: 'Apr',\n",
    "             5: 'May',\n",
    "             6: 'Jun',\n",
    "             7: 'Jul',\n",
    "             8: 'Aug',\n",
    "             9: 'Sep',\n",
    "             10: 'Oct',\n",
    "             11: 'Nov',\n",
    "             12: 'Dec'}\n",
    "month_dict.values()"
   ]
  },
  {
   "cell_type": "code",
   "execution_count": 63,
   "metadata": {},
   "outputs": [
    {
     "data": {
      "image/png": "[encoded data removed]",
      "text/plain": [
       "<Figure size 432x288 with 1 Axes>"
      ]
     },
     "metadata": {},
     "output_type": "display_data"
    }
   ],
   "source": [
    "plt.figure()\n",
    "ax = sns.countplot(members_df['month'], color='Gray') #, dodge=False)\n",
    "ax.set(xticks=range(len(members_df['month'].unique())), xticklabels=[i for i in month_dict.values()])\n",
    "ax.set_title('Years 2004 - 2016')\n",
    "plt.tight_layout()"
   ]
  },
  {
   "cell_type": "code",
   "execution_count": 64,
   "metadata": {},
   "outputs": [],
   "source": [
    "# make it comulative by years 2016, 2015, 2014, 2013, and below"
   ]
  },
  {
   "cell_type": "code",
   "execution_count": 65,
   "metadata": {},
   "outputs": [
    {
     "data": {
      "text/html": [
       "<div>\n",
       "<style scoped>\n",
       "    .dataframe tbody tr th:only-of-type {\n",
       "        vertical-align: middle;\n",
       "    }\n",
       "\n",
       "    .dataframe tbody tr th {\n",
       "        vertical-align: top;\n",
       "    }\n",
       "\n",
       "    .dataframe thead th {\n",
       "        text-align: right;\n",
       "    }\n",
       "</style>\n",
       "<table border=\"1\" class=\"dataframe\">\n",
       "  <thead>\n",
       "    <tr style=\"text-align: right;\">\n",
       "      <th></th>\n",
       "      <th>msno</th>\n",
       "      <th>city</th>\n",
       "      <th>bd</th>\n",
       "      <th>gender</th>\n",
       "      <th>registered_via</th>\n",
       "      <th>registration_init_time</th>\n",
       "      <th>registration_init_time_dt</th>\n",
       "      <th>year</th>\n",
       "      <th>month</th>\n",
       "      <th>day</th>\n",
       "    </tr>\n",
       "  </thead>\n",
       "  <tbody>\n",
       "    <tr>\n",
       "      <th>1</th>\n",
       "      <td>+tJonkh+O1CA796Fm5X60UMOtB6POHAwPjbTRVl/EuU=</td>\n",
       "      <td>1</td>\n",
       "      <td>NaN</td>\n",
       "      <td>missing</td>\n",
       "      <td>7</td>\n",
       "      <td>20110914</td>\n",
       "      <td>2011-09-14</td>\n",
       "      <td>2011</td>\n",
       "      <td>9</td>\n",
       "      <td>14</td>\n",
       "    </tr>\n",
       "    <tr>\n",
       "      <th>7</th>\n",
       "      <td>WH5Jq4mgtfUFXh2yz+HrcTXKS4Oess4k4W3qKolAeb0=</td>\n",
       "      <td>5</td>\n",
       "      <td>34.0</td>\n",
       "      <td>male</td>\n",
       "      <td>9</td>\n",
       "      <td>20110916</td>\n",
       "      <td>2011-09-16</td>\n",
       "      <td>2011</td>\n",
       "      <td>9</td>\n",
       "      <td>16</td>\n",
       "    </tr>\n",
       "    <tr>\n",
       "      <th>9</th>\n",
       "      <td>I0yFvqMoNkM8ZNHb617e1RBzIS/YRKemHO7Wj13EtA0=</td>\n",
       "      <td>13</td>\n",
       "      <td>63.0</td>\n",
       "      <td>male</td>\n",
       "      <td>9</td>\n",
       "      <td>20110918</td>\n",
       "      <td>2011-09-18</td>\n",
       "      <td>2011</td>\n",
       "      <td>9</td>\n",
       "      <td>18</td>\n",
       "    </tr>\n",
       "    <tr>\n",
       "      <th>10</th>\n",
       "      <td>OoDwiKZM+ZGr9P3fRivavgOtglTEaNfWJO4KaJcTTts=</td>\n",
       "      <td>1</td>\n",
       "      <td>NaN</td>\n",
       "      <td>missing</td>\n",
       "      <td>7</td>\n",
       "      <td>20110918</td>\n",
       "      <td>2011-09-18</td>\n",
       "      <td>2011</td>\n",
       "      <td>9</td>\n",
       "      <td>18</td>\n",
       "    </tr>\n",
       "    <tr>\n",
       "      <th>13</th>\n",
       "      <td>4De1jAxNRABoyRBDZ82U0yEmzYkqeOugRGVNIf92Xb8=</td>\n",
       "      <td>4</td>\n",
       "      <td>28.0</td>\n",
       "      <td>female</td>\n",
       "      <td>9</td>\n",
       "      <td>20110920</td>\n",
       "      <td>2011-09-20</td>\n",
       "      <td>2011</td>\n",
       "      <td>9</td>\n",
       "      <td>20</td>\n",
       "    </tr>\n",
       "  </tbody>\n",
       "</table>\n",
       "</div>"
      ],
      "text/plain": [
       "                                            msno  city    bd   gender  \\\n",
       "1   +tJonkh+O1CA796Fm5X60UMOtB6POHAwPjbTRVl/EuU=     1   NaN  missing   \n",
       "7   WH5Jq4mgtfUFXh2yz+HrcTXKS4Oess4k4W3qKolAeb0=     5  34.0     male   \n",
       "9   I0yFvqMoNkM8ZNHb617e1RBzIS/YRKemHO7Wj13EtA0=    13  63.0     male   \n",
       "10  OoDwiKZM+ZGr9P3fRivavgOtglTEaNfWJO4KaJcTTts=     1   NaN  missing   \n",
       "13  4De1jAxNRABoyRBDZ82U0yEmzYkqeOugRGVNIf92Xb8=     4  28.0   female   \n",
       "\n",
       "    registered_via  registration_init_time registration_init_time_dt  year  \\\n",
       "1                7                20110914                2011-09-14  2011   \n",
       "7                9                20110916                2011-09-16  2011   \n",
       "9                9                20110918                2011-09-18  2011   \n",
       "10               7                20110918                2011-09-18  2011   \n",
       "13               9                20110920                2011-09-20  2011   \n",
       "\n",
       "    month  day  \n",
       "1       9   14  \n",
       "7       9   16  \n",
       "9       9   18  \n",
       "10      9   18  \n",
       "13      9   20  "
      ]
     },
     "execution_count": 65,
     "metadata": {},
     "output_type": "execute_result"
    }
   ],
   "source": [
    "members_2010_2016_df = members_df[(members_df.year > 2009) & (members_df.year < 2017)]\n",
    "members_2010_2016_df.head()"
   ]
  },
  {
   "cell_type": "code",
   "execution_count": 66,
   "metadata": {},
   "outputs": [
    {
     "data": {
      "image/png": "[encoded data removed]",
      "text/plain": [
       "<Figure size 720x432 with 1 Axes>"
      ]
     },
     "metadata": {},
     "output_type": "display_data"
    }
   ],
   "source": [
    "plt.figure(figsize=(10,6))\n",
    "ax = sns.countplot(x = members_2010_2016_df['month'], hue = members_2010_2016_df['year'],  palette='Set3' )\n",
    "ax.set(xticks=range(len(members_2010_2016_df['month'].unique())), xticklabels=[i for i in month_dict.values()])\n",
    "ax.legend(loc = [1.02, 0.3])\n",
    "plt.tight_layout()"
   ]
  },
  {
   "cell_type": "code",
   "execution_count": 67,
   "metadata": {},
   "outputs": [],
   "source": [
    "# by day"
   ]
  },
  {
   "cell_type": "code",
   "execution_count": 68,
   "metadata": {},
   "outputs": [
    {
     "data": {
      "text/html": [
       "<div>\n",
       "<style scoped>\n",
       "    .dataframe tbody tr th:only-of-type {\n",
       "        vertical-align: middle;\n",
       "    }\n",
       "\n",
       "    .dataframe tbody tr th {\n",
       "        vertical-align: top;\n",
       "    }\n",
       "\n",
       "    .dataframe thead th {\n",
       "        text-align: right;\n",
       "    }\n",
       "</style>\n",
       "<table border=\"1\" class=\"dataframe\">\n",
       "  <thead>\n",
       "    <tr style=\"text-align: right;\">\n",
       "      <th></th>\n",
       "      <th>msno</th>\n",
       "      <th>city</th>\n",
       "      <th>bd</th>\n",
       "      <th>gender</th>\n",
       "      <th>registered_via</th>\n",
       "      <th>registration_init_time</th>\n",
       "      <th>registration_init_time_dt</th>\n",
       "      <th>year</th>\n",
       "      <th>month</th>\n",
       "      <th>day</th>\n",
       "      <th>week_day</th>\n",
       "    </tr>\n",
       "  </thead>\n",
       "  <tbody>\n",
       "    <tr>\n",
       "      <th>1</th>\n",
       "      <td>+tJonkh+O1CA796Fm5X60UMOtB6POHAwPjbTRVl/EuU=</td>\n",
       "      <td>1</td>\n",
       "      <td>NaN</td>\n",
       "      <td>missing</td>\n",
       "      <td>7</td>\n",
       "      <td>20110914</td>\n",
       "      <td>2011-09-14</td>\n",
       "      <td>2011</td>\n",
       "      <td>9</td>\n",
       "      <td>14</td>\n",
       "      <td>2</td>\n",
       "    </tr>\n",
       "    <tr>\n",
       "      <th>7</th>\n",
       "      <td>WH5Jq4mgtfUFXh2yz+HrcTXKS4Oess4k4W3qKolAeb0=</td>\n",
       "      <td>5</td>\n",
       "      <td>34.0</td>\n",
       "      <td>male</td>\n",
       "      <td>9</td>\n",
       "      <td>20110916</td>\n",
       "      <td>2011-09-16</td>\n",
       "      <td>2011</td>\n",
       "      <td>9</td>\n",
       "      <td>16</td>\n",
       "      <td>4</td>\n",
       "    </tr>\n",
       "    <tr>\n",
       "      <th>9</th>\n",
       "      <td>I0yFvqMoNkM8ZNHb617e1RBzIS/YRKemHO7Wj13EtA0=</td>\n",
       "      <td>13</td>\n",
       "      <td>63.0</td>\n",
       "      <td>male</td>\n",
       "      <td>9</td>\n",
       "      <td>20110918</td>\n",
       "      <td>2011-09-18</td>\n",
       "      <td>2011</td>\n",
       "      <td>9</td>\n",
       "      <td>18</td>\n",
       "      <td>6</td>\n",
       "    </tr>\n",
       "    <tr>\n",
       "      <th>10</th>\n",
       "      <td>OoDwiKZM+ZGr9P3fRivavgOtglTEaNfWJO4KaJcTTts=</td>\n",
       "      <td>1</td>\n",
       "      <td>NaN</td>\n",
       "      <td>missing</td>\n",
       "      <td>7</td>\n",
       "      <td>20110918</td>\n",
       "      <td>2011-09-18</td>\n",
       "      <td>2011</td>\n",
       "      <td>9</td>\n",
       "      <td>18</td>\n",
       "      <td>6</td>\n",
       "    </tr>\n",
       "    <tr>\n",
       "      <th>13</th>\n",
       "      <td>4De1jAxNRABoyRBDZ82U0yEmzYkqeOugRGVNIf92Xb8=</td>\n",
       "      <td>4</td>\n",
       "      <td>28.0</td>\n",
       "      <td>female</td>\n",
       "      <td>9</td>\n",
       "      <td>20110920</td>\n",
       "      <td>2011-09-20</td>\n",
       "      <td>2011</td>\n",
       "      <td>9</td>\n",
       "      <td>20</td>\n",
       "      <td>1</td>\n",
       "    </tr>\n",
       "  </tbody>\n",
       "</table>\n",
       "</div>"
      ],
      "text/plain": [
       "                                            msno  city    bd   gender  \\\n",
       "1   +tJonkh+O1CA796Fm5X60UMOtB6POHAwPjbTRVl/EuU=     1   NaN  missing   \n",
       "7   WH5Jq4mgtfUFXh2yz+HrcTXKS4Oess4k4W3qKolAeb0=     5  34.0     male   \n",
       "9   I0yFvqMoNkM8ZNHb617e1RBzIS/YRKemHO7Wj13EtA0=    13  63.0     male   \n",
       "10  OoDwiKZM+ZGr9P3fRivavgOtglTEaNfWJO4KaJcTTts=     1   NaN  missing   \n",
       "13  4De1jAxNRABoyRBDZ82U0yEmzYkqeOugRGVNIf92Xb8=     4  28.0   female   \n",
       "\n",
       "    registered_via  registration_init_time registration_init_time_dt  year  \\\n",
       "1                7                20110914                2011-09-14  2011   \n",
       "7                9                20110916                2011-09-16  2011   \n",
       "9                9                20110918                2011-09-18  2011   \n",
       "10               7                20110918                2011-09-18  2011   \n",
       "13               9                20110920                2011-09-20  2011   \n",
       "\n",
       "    month  day  week_day  \n",
       "1       9   14         2  \n",
       "7       9   16         4  \n",
       "9       9   18         6  \n",
       "10      9   18         6  \n",
       "13      9   20         1  "
      ]
     },
     "execution_count": 68,
     "metadata": {},
     "output_type": "execute_result"
    }
   ],
   "source": [
    "members_2010_2016_df['week_day'] = members_2010_2016_df['registration_init_time_dt'].dt.dayofweek\n",
    "# Monday=0, Sunday=6\n",
    "members_2010_2016_df.head()"
   ]
  },
  {
   "cell_type": "code",
   "execution_count": 69,
   "metadata": {},
   "outputs": [],
   "source": [
    "# Monday=0, Sunday=6\n",
    "day_dict = {0: 'Mon',\n",
    "           1: 'Tue',\n",
    "           2: 'Wed',\n",
    "           3: 'Thu',\n",
    "           4: 'Fri',\n",
    "           5: 'Sat',\n",
    "           6: 'Sun'}"
   ]
  },
  {
   "cell_type": "code",
   "execution_count": 70,
   "metadata": {},
   "outputs": [
    {
     "data": {
      "image/png": "[encoded data removed]",
      "text/plain": [
       "<Figure size 576x432 with 1 Axes>"
      ]
     },
     "metadata": {},
     "output_type": "display_data"
    }
   ],
   "source": [
    "plt.figure(figsize=(8,6))\n",
    "ax = sns.countplot(members_2010_2016_df['week_day'], color='Gray') #, dodge=False)\n",
    "ax.set(xticks=range(len(members_2010_2016_df['week_day'].unique())), xticklabels=[i for i in day_dict.values()])\n",
    "ax.set_title('Years 2004 - 2016')\n",
    "plt.tight_layout()"
   ]
  },
  {
   "cell_type": "code",
   "execution_count": 71,
   "metadata": {},
   "outputs": [
    {
     "data": {
      "image/png": "[encoded data removed]",
      "text/plain": [
       "<Figure size 576x432 with 1 Axes>"
      ]
     },
     "metadata": {},
     "output_type": "display_data"
    }
   ],
   "source": [
    "plt.figure(figsize=(8,6))\n",
    "ax = sns.countplot(x = members_2010_2016_df['week_day'], hue = members_2010_2016_df['year'], palette='Set3' ) \n",
    "ax.set(xticks=range(len(members_2010_2016_df['week_day'].unique())), xticklabels=[i for i in day_dict.values()])\n",
    "ax.legend(loc = [1.02, 0.3])\n",
    "plt.tight_layout()"
   ]
  },
  {
   "cell_type": "markdown",
   "metadata": {},
   "source": [
    "I will now perform feature engineering. Once the data is tidy, I will get back to EDA to study relationships between variables and target."
   ]
  },
  {
   "cell_type": "code",
   "execution_count": null,
   "metadata": {},
   "outputs": [],
   "source": []
  }
 ],
 "metadata": {
  "kernelspec": {
   "display_name": "Python 3",
   "language": "python",
   "name": "python3"
  },
  "language_info": {
   "codemirror_mode": {
    "name": "ipython",
    "version": 3
   },
   "file_extension": ".py",
   "mimetype": "text/x-python",
   "name": "python",
   "nbconvert_exporter": "python",
   "pygments_lexer": "ipython3",
   "version": "3.8.5"
  }
 },
 "nbformat": 4,
 "nbformat_minor": 2
}
